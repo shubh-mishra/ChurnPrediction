{
 "cells": [
  {
   "cell_type": "markdown",
   "metadata": {},
   "source": [
    "# Churn Prediction"
   ]
  },
  {
   "cell_type": "markdown",
   "metadata": {},
   "source": [
    "## Importing the data"
   ]
  },
  {
   "cell_type": "code",
   "execution_count": 1,
   "metadata": {},
   "outputs": [],
   "source": [
    "import pandas as pd\n",
    "import numpy as np\n",
    "import matplotlib.pyplot as plt\n",
    "import seaborn as sns\n",
    "from sklearn.preprocessing import OneHotEncoder\n",
    "from sklearn.model_selection import KFold, cross_val_score, GridSearchCV\n",
    "from sklearn.linear_model import LogisticRegression\n",
    "from sklearn import svm\n",
    "from sklearn.tree import DecisionTreeClassifier\n",
    "from sklearn.ensemble import RandomForestClassifier\n",
    "from sklearn.ensemble import GradientBoostingClassifier"
   ]
  },
  {
   "cell_type": "code",
   "execution_count": 2,
   "metadata": {},
   "outputs": [],
   "source": [
    "df = pd.read_csv('Churn.csv')"
   ]
  },
  {
   "cell_type": "code",
   "execution_count": 3,
   "metadata": {},
   "outputs": [],
   "source": [
    "pd.set_option('display.max_columns', None)"
   ]
  },
  {
   "cell_type": "markdown",
   "metadata": {},
   "source": [
    "## Understanding the data"
   ]
  },
  {
   "cell_type": "code",
   "execution_count": 4,
   "metadata": {},
   "outputs": [
    {
     "data": {
      "text/html": [
       "<div>\n",
       "<style scoped>\n",
       "    .dataframe tbody tr th:only-of-type {\n",
       "        vertical-align: middle;\n",
       "    }\n",
       "\n",
       "    .dataframe tbody tr th {\n",
       "        vertical-align: top;\n",
       "    }\n",
       "\n",
       "    .dataframe thead th {\n",
       "        text-align: right;\n",
       "    }\n",
       "</style>\n",
       "<table border=\"1\" class=\"dataframe\">\n",
       "  <thead>\n",
       "    <tr style=\"text-align: right;\">\n",
       "      <th></th>\n",
       "      <th>customerID</th>\n",
       "      <th>gender</th>\n",
       "      <th>SeniorCitizen</th>\n",
       "      <th>Partner</th>\n",
       "      <th>Dependents</th>\n",
       "      <th>tenure</th>\n",
       "      <th>PhoneService</th>\n",
       "      <th>MultipleLines</th>\n",
       "      <th>InternetService</th>\n",
       "      <th>OnlineSecurity</th>\n",
       "      <th>OnlineBackup</th>\n",
       "      <th>DeviceProtection</th>\n",
       "      <th>TechSupport</th>\n",
       "      <th>StreamingTV</th>\n",
       "      <th>StreamingMovies</th>\n",
       "      <th>Contract</th>\n",
       "      <th>PaperlessBilling</th>\n",
       "      <th>PaymentMethod</th>\n",
       "      <th>MonthlyCharges</th>\n",
       "      <th>TotalCharges</th>\n",
       "      <th>Churn</th>\n",
       "    </tr>\n",
       "  </thead>\n",
       "  <tbody>\n",
       "    <tr>\n",
       "      <th>0</th>\n",
       "      <td>7590-VHVEG</td>\n",
       "      <td>Female</td>\n",
       "      <td>0</td>\n",
       "      <td>Yes</td>\n",
       "      <td>No</td>\n",
       "      <td>1</td>\n",
       "      <td>No</td>\n",
       "      <td>No phone service</td>\n",
       "      <td>DSL</td>\n",
       "      <td>No</td>\n",
       "      <td>Yes</td>\n",
       "      <td>No</td>\n",
       "      <td>No</td>\n",
       "      <td>No</td>\n",
       "      <td>No</td>\n",
       "      <td>Month-to-month</td>\n",
       "      <td>Yes</td>\n",
       "      <td>Electronic check</td>\n",
       "      <td>29.85</td>\n",
       "      <td>29.85</td>\n",
       "      <td>No</td>\n",
       "    </tr>\n",
       "    <tr>\n",
       "      <th>1</th>\n",
       "      <td>5575-GNVDE</td>\n",
       "      <td>Male</td>\n",
       "      <td>0</td>\n",
       "      <td>No</td>\n",
       "      <td>No</td>\n",
       "      <td>34</td>\n",
       "      <td>Yes</td>\n",
       "      <td>No</td>\n",
       "      <td>DSL</td>\n",
       "      <td>Yes</td>\n",
       "      <td>No</td>\n",
       "      <td>Yes</td>\n",
       "      <td>No</td>\n",
       "      <td>No</td>\n",
       "      <td>No</td>\n",
       "      <td>One year</td>\n",
       "      <td>No</td>\n",
       "      <td>Mailed check</td>\n",
       "      <td>56.95</td>\n",
       "      <td>1889.5</td>\n",
       "      <td>No</td>\n",
       "    </tr>\n",
       "    <tr>\n",
       "      <th>2</th>\n",
       "      <td>3668-QPYBK</td>\n",
       "      <td>Male</td>\n",
       "      <td>0</td>\n",
       "      <td>No</td>\n",
       "      <td>No</td>\n",
       "      <td>2</td>\n",
       "      <td>Yes</td>\n",
       "      <td>No</td>\n",
       "      <td>DSL</td>\n",
       "      <td>Yes</td>\n",
       "      <td>Yes</td>\n",
       "      <td>No</td>\n",
       "      <td>No</td>\n",
       "      <td>No</td>\n",
       "      <td>No</td>\n",
       "      <td>Month-to-month</td>\n",
       "      <td>Yes</td>\n",
       "      <td>Mailed check</td>\n",
       "      <td>53.85</td>\n",
       "      <td>108.15</td>\n",
       "      <td>Yes</td>\n",
       "    </tr>\n",
       "    <tr>\n",
       "      <th>3</th>\n",
       "      <td>7795-CFOCW</td>\n",
       "      <td>Male</td>\n",
       "      <td>0</td>\n",
       "      <td>No</td>\n",
       "      <td>No</td>\n",
       "      <td>45</td>\n",
       "      <td>No</td>\n",
       "      <td>No phone service</td>\n",
       "      <td>DSL</td>\n",
       "      <td>Yes</td>\n",
       "      <td>No</td>\n",
       "      <td>Yes</td>\n",
       "      <td>Yes</td>\n",
       "      <td>No</td>\n",
       "      <td>No</td>\n",
       "      <td>One year</td>\n",
       "      <td>No</td>\n",
       "      <td>Bank transfer (automatic)</td>\n",
       "      <td>42.30</td>\n",
       "      <td>1840.75</td>\n",
       "      <td>No</td>\n",
       "    </tr>\n",
       "    <tr>\n",
       "      <th>4</th>\n",
       "      <td>9237-HQITU</td>\n",
       "      <td>Female</td>\n",
       "      <td>0</td>\n",
       "      <td>No</td>\n",
       "      <td>No</td>\n",
       "      <td>2</td>\n",
       "      <td>Yes</td>\n",
       "      <td>No</td>\n",
       "      <td>Fiber optic</td>\n",
       "      <td>No</td>\n",
       "      <td>No</td>\n",
       "      <td>No</td>\n",
       "      <td>No</td>\n",
       "      <td>No</td>\n",
       "      <td>No</td>\n",
       "      <td>Month-to-month</td>\n",
       "      <td>Yes</td>\n",
       "      <td>Electronic check</td>\n",
       "      <td>70.70</td>\n",
       "      <td>151.65</td>\n",
       "      <td>Yes</td>\n",
       "    </tr>\n",
       "  </tbody>\n",
       "</table>\n",
       "</div>"
      ],
      "text/plain": [
       "   customerID  gender  SeniorCitizen Partner Dependents  tenure PhoneService  \\\n",
       "0  7590-VHVEG  Female              0     Yes         No       1           No   \n",
       "1  5575-GNVDE    Male              0      No         No      34          Yes   \n",
       "2  3668-QPYBK    Male              0      No         No       2          Yes   \n",
       "3  7795-CFOCW    Male              0      No         No      45           No   \n",
       "4  9237-HQITU  Female              0      No         No       2          Yes   \n",
       "\n",
       "      MultipleLines InternetService OnlineSecurity OnlineBackup  \\\n",
       "0  No phone service             DSL             No          Yes   \n",
       "1                No             DSL            Yes           No   \n",
       "2                No             DSL            Yes          Yes   \n",
       "3  No phone service             DSL            Yes           No   \n",
       "4                No     Fiber optic             No           No   \n",
       "\n",
       "  DeviceProtection TechSupport StreamingTV StreamingMovies        Contract  \\\n",
       "0               No          No          No              No  Month-to-month   \n",
       "1              Yes          No          No              No        One year   \n",
       "2               No          No          No              No  Month-to-month   \n",
       "3              Yes         Yes          No              No        One year   \n",
       "4               No          No          No              No  Month-to-month   \n",
       "\n",
       "  PaperlessBilling              PaymentMethod  MonthlyCharges TotalCharges  \\\n",
       "0              Yes           Electronic check           29.85        29.85   \n",
       "1               No               Mailed check           56.95       1889.5   \n",
       "2              Yes               Mailed check           53.85       108.15   \n",
       "3               No  Bank transfer (automatic)           42.30      1840.75   \n",
       "4              Yes           Electronic check           70.70       151.65   \n",
       "\n",
       "  Churn  \n",
       "0    No  \n",
       "1    No  \n",
       "2   Yes  \n",
       "3    No  \n",
       "4   Yes  "
      ]
     },
     "execution_count": 4,
     "metadata": {},
     "output_type": "execute_result"
    }
   ],
   "source": [
    "df.head()"
   ]
  },
  {
   "cell_type": "code",
   "execution_count": 5,
   "metadata": {},
   "outputs": [
    {
     "data": {
      "text/plain": [
       "(7043, 21)"
      ]
     },
     "execution_count": 5,
     "metadata": {},
     "output_type": "execute_result"
    }
   ],
   "source": [
    "df.shape"
   ]
  },
  {
   "cell_type": "code",
   "execution_count": 6,
   "metadata": {},
   "outputs": [
    {
     "data": {
      "text/html": [
       "<div>\n",
       "<style scoped>\n",
       "    .dataframe tbody tr th:only-of-type {\n",
       "        vertical-align: middle;\n",
       "    }\n",
       "\n",
       "    .dataframe tbody tr th {\n",
       "        vertical-align: top;\n",
       "    }\n",
       "\n",
       "    .dataframe thead th {\n",
       "        text-align: right;\n",
       "    }\n",
       "</style>\n",
       "<table border=\"1\" class=\"dataframe\">\n",
       "  <thead>\n",
       "    <tr style=\"text-align: right;\">\n",
       "      <th></th>\n",
       "      <th>0</th>\n",
       "    </tr>\n",
       "  </thead>\n",
       "  <tbody>\n",
       "    <tr>\n",
       "      <th>customerID</th>\n",
       "      <td>0</td>\n",
       "    </tr>\n",
       "    <tr>\n",
       "      <th>gender</th>\n",
       "      <td>0</td>\n",
       "    </tr>\n",
       "    <tr>\n",
       "      <th>SeniorCitizen</th>\n",
       "      <td>0</td>\n",
       "    </tr>\n",
       "    <tr>\n",
       "      <th>Partner</th>\n",
       "      <td>0</td>\n",
       "    </tr>\n",
       "    <tr>\n",
       "      <th>Dependents</th>\n",
       "      <td>0</td>\n",
       "    </tr>\n",
       "    <tr>\n",
       "      <th>tenure</th>\n",
       "      <td>0</td>\n",
       "    </tr>\n",
       "    <tr>\n",
       "      <th>PhoneService</th>\n",
       "      <td>0</td>\n",
       "    </tr>\n",
       "    <tr>\n",
       "      <th>MultipleLines</th>\n",
       "      <td>0</td>\n",
       "    </tr>\n",
       "    <tr>\n",
       "      <th>InternetService</th>\n",
       "      <td>0</td>\n",
       "    </tr>\n",
       "    <tr>\n",
       "      <th>OnlineSecurity</th>\n",
       "      <td>0</td>\n",
       "    </tr>\n",
       "    <tr>\n",
       "      <th>OnlineBackup</th>\n",
       "      <td>0</td>\n",
       "    </tr>\n",
       "    <tr>\n",
       "      <th>DeviceProtection</th>\n",
       "      <td>0</td>\n",
       "    </tr>\n",
       "    <tr>\n",
       "      <th>TechSupport</th>\n",
       "      <td>0</td>\n",
       "    </tr>\n",
       "    <tr>\n",
       "      <th>StreamingTV</th>\n",
       "      <td>0</td>\n",
       "    </tr>\n",
       "    <tr>\n",
       "      <th>StreamingMovies</th>\n",
       "      <td>0</td>\n",
       "    </tr>\n",
       "    <tr>\n",
       "      <th>Contract</th>\n",
       "      <td>0</td>\n",
       "    </tr>\n",
       "    <tr>\n",
       "      <th>PaperlessBilling</th>\n",
       "      <td>0</td>\n",
       "    </tr>\n",
       "    <tr>\n",
       "      <th>PaymentMethod</th>\n",
       "      <td>0</td>\n",
       "    </tr>\n",
       "    <tr>\n",
       "      <th>MonthlyCharges</th>\n",
       "      <td>0</td>\n",
       "    </tr>\n",
       "    <tr>\n",
       "      <th>TotalCharges</th>\n",
       "      <td>0</td>\n",
       "    </tr>\n",
       "    <tr>\n",
       "      <th>Churn</th>\n",
       "      <td>0</td>\n",
       "    </tr>\n",
       "  </tbody>\n",
       "</table>\n",
       "</div>"
      ],
      "text/plain": [
       "                  0\n",
       "customerID        0\n",
       "gender            0\n",
       "SeniorCitizen     0\n",
       "Partner           0\n",
       "Dependents        0\n",
       "tenure            0\n",
       "PhoneService      0\n",
       "MultipleLines     0\n",
       "InternetService   0\n",
       "OnlineSecurity    0\n",
       "OnlineBackup      0\n",
       "DeviceProtection  0\n",
       "TechSupport       0\n",
       "StreamingTV       0\n",
       "StreamingMovies   0\n",
       "Contract          0\n",
       "PaperlessBilling  0\n",
       "PaymentMethod     0\n",
       "MonthlyCharges    0\n",
       "TotalCharges      0\n",
       "Churn             0"
      ]
     },
     "execution_count": 6,
     "metadata": {},
     "output_type": "execute_result"
    }
   ],
   "source": [
    "df.isnull().sum().to_frame()"
   ]
  },
  {
   "cell_type": "code",
   "execution_count": 7,
   "metadata": {},
   "outputs": [
    {
     "data": {
      "text/plain": [
       "0"
      ]
     },
     "execution_count": 7,
     "metadata": {},
     "output_type": "execute_result"
    }
   ],
   "source": [
    "df.duplicated().sum()"
   ]
  },
  {
   "cell_type": "code",
   "execution_count": 8,
   "metadata": {},
   "outputs": [
    {
     "name": "stdout",
     "output_type": "stream",
     "text": [
      "<class 'pandas.core.frame.DataFrame'>\n",
      "RangeIndex: 7043 entries, 0 to 7042\n",
      "Data columns (total 21 columns):\n",
      " #   Column            Non-Null Count  Dtype  \n",
      "---  ------            --------------  -----  \n",
      " 0   customerID        7043 non-null   object \n",
      " 1   gender            7043 non-null   object \n",
      " 2   SeniorCitizen     7043 non-null   int64  \n",
      " 3   Partner           7043 non-null   object \n",
      " 4   Dependents        7043 non-null   object \n",
      " 5   tenure            7043 non-null   int64  \n",
      " 6   PhoneService      7043 non-null   object \n",
      " 7   MultipleLines     7043 non-null   object \n",
      " 8   InternetService   7043 non-null   object \n",
      " 9   OnlineSecurity    7043 non-null   object \n",
      " 10  OnlineBackup      7043 non-null   object \n",
      " 11  DeviceProtection  7043 non-null   object \n",
      " 12  TechSupport       7043 non-null   object \n",
      " 13  StreamingTV       7043 non-null   object \n",
      " 14  StreamingMovies   7043 non-null   object \n",
      " 15  Contract          7043 non-null   object \n",
      " 16  PaperlessBilling  7043 non-null   object \n",
      " 17  PaymentMethod     7043 non-null   object \n",
      " 18  MonthlyCharges    7043 non-null   float64\n",
      " 19  TotalCharges      7043 non-null   object \n",
      " 20  Churn             7043 non-null   object \n",
      "dtypes: float64(1), int64(2), object(18)\n",
      "memory usage: 1.1+ MB\n"
     ]
    }
   ],
   "source": [
    "df.info()"
   ]
  },
  {
   "cell_type": "code",
   "execution_count": 9,
   "metadata": {},
   "outputs": [
    {
     "data": {
      "text/html": [
       "<div>\n",
       "<style scoped>\n",
       "    .dataframe tbody tr th:only-of-type {\n",
       "        vertical-align: middle;\n",
       "    }\n",
       "\n",
       "    .dataframe tbody tr th {\n",
       "        vertical-align: top;\n",
       "    }\n",
       "\n",
       "    .dataframe thead th {\n",
       "        text-align: right;\n",
       "    }\n",
       "</style>\n",
       "<table border=\"1\" class=\"dataframe\">\n",
       "  <thead>\n",
       "    <tr style=\"text-align: right;\">\n",
       "      <th></th>\n",
       "      <th>SeniorCitizen</th>\n",
       "      <th>tenure</th>\n",
       "      <th>MonthlyCharges</th>\n",
       "    </tr>\n",
       "  </thead>\n",
       "  <tbody>\n",
       "    <tr>\n",
       "      <th>count</th>\n",
       "      <td>7043.000000</td>\n",
       "      <td>7043.000000</td>\n",
       "      <td>7043.000000</td>\n",
       "    </tr>\n",
       "    <tr>\n",
       "      <th>mean</th>\n",
       "      <td>0.162147</td>\n",
       "      <td>32.371149</td>\n",
       "      <td>64.761692</td>\n",
       "    </tr>\n",
       "    <tr>\n",
       "      <th>std</th>\n",
       "      <td>0.368612</td>\n",
       "      <td>24.559481</td>\n",
       "      <td>30.090047</td>\n",
       "    </tr>\n",
       "    <tr>\n",
       "      <th>min</th>\n",
       "      <td>0.000000</td>\n",
       "      <td>0.000000</td>\n",
       "      <td>18.250000</td>\n",
       "    </tr>\n",
       "    <tr>\n",
       "      <th>25%</th>\n",
       "      <td>0.000000</td>\n",
       "      <td>9.000000</td>\n",
       "      <td>35.500000</td>\n",
       "    </tr>\n",
       "    <tr>\n",
       "      <th>50%</th>\n",
       "      <td>0.000000</td>\n",
       "      <td>29.000000</td>\n",
       "      <td>70.350000</td>\n",
       "    </tr>\n",
       "    <tr>\n",
       "      <th>75%</th>\n",
       "      <td>0.000000</td>\n",
       "      <td>55.000000</td>\n",
       "      <td>89.850000</td>\n",
       "    </tr>\n",
       "    <tr>\n",
       "      <th>max</th>\n",
       "      <td>1.000000</td>\n",
       "      <td>72.000000</td>\n",
       "      <td>118.750000</td>\n",
       "    </tr>\n",
       "  </tbody>\n",
       "</table>\n",
       "</div>"
      ],
      "text/plain": [
       "       SeniorCitizen       tenure  MonthlyCharges\n",
       "count    7043.000000  7043.000000     7043.000000\n",
       "mean        0.162147    32.371149       64.761692\n",
       "std         0.368612    24.559481       30.090047\n",
       "min         0.000000     0.000000       18.250000\n",
       "25%         0.000000     9.000000       35.500000\n",
       "50%         0.000000    29.000000       70.350000\n",
       "75%         0.000000    55.000000       89.850000\n",
       "max         1.000000    72.000000      118.750000"
      ]
     },
     "execution_count": 9,
     "metadata": {},
     "output_type": "execute_result"
    }
   ],
   "source": [
    "df.describe()"
   ]
  },
  {
   "cell_type": "code",
   "execution_count": 10,
   "metadata": {},
   "outputs": [
    {
     "data": {
      "text/html": [
       "<div>\n",
       "<style scoped>\n",
       "    .dataframe tbody tr th:only-of-type {\n",
       "        vertical-align: middle;\n",
       "    }\n",
       "\n",
       "    .dataframe tbody tr th {\n",
       "        vertical-align: top;\n",
       "    }\n",
       "\n",
       "    .dataframe thead th {\n",
       "        text-align: right;\n",
       "    }\n",
       "</style>\n",
       "<table border=\"1\" class=\"dataframe\">\n",
       "  <thead>\n",
       "    <tr style=\"text-align: right;\">\n",
       "      <th></th>\n",
       "      <th>customerID</th>\n",
       "      <th>gender</th>\n",
       "      <th>Partner</th>\n",
       "      <th>Dependents</th>\n",
       "      <th>PhoneService</th>\n",
       "      <th>MultipleLines</th>\n",
       "      <th>InternetService</th>\n",
       "      <th>OnlineSecurity</th>\n",
       "      <th>OnlineBackup</th>\n",
       "      <th>DeviceProtection</th>\n",
       "      <th>TechSupport</th>\n",
       "      <th>StreamingTV</th>\n",
       "      <th>StreamingMovies</th>\n",
       "      <th>Contract</th>\n",
       "      <th>PaperlessBilling</th>\n",
       "      <th>PaymentMethod</th>\n",
       "      <th>TotalCharges</th>\n",
       "      <th>Churn</th>\n",
       "    </tr>\n",
       "  </thead>\n",
       "  <tbody>\n",
       "    <tr>\n",
       "      <th>count</th>\n",
       "      <td>7043</td>\n",
       "      <td>7043</td>\n",
       "      <td>7043</td>\n",
       "      <td>7043</td>\n",
       "      <td>7043</td>\n",
       "      <td>7043</td>\n",
       "      <td>7043</td>\n",
       "      <td>7043</td>\n",
       "      <td>7043</td>\n",
       "      <td>7043</td>\n",
       "      <td>7043</td>\n",
       "      <td>7043</td>\n",
       "      <td>7043</td>\n",
       "      <td>7043</td>\n",
       "      <td>7043</td>\n",
       "      <td>7043</td>\n",
       "      <td>7043</td>\n",
       "      <td>7043</td>\n",
       "    </tr>\n",
       "    <tr>\n",
       "      <th>unique</th>\n",
       "      <td>7043</td>\n",
       "      <td>2</td>\n",
       "      <td>2</td>\n",
       "      <td>2</td>\n",
       "      <td>2</td>\n",
       "      <td>3</td>\n",
       "      <td>3</td>\n",
       "      <td>3</td>\n",
       "      <td>3</td>\n",
       "      <td>3</td>\n",
       "      <td>3</td>\n",
       "      <td>3</td>\n",
       "      <td>3</td>\n",
       "      <td>3</td>\n",
       "      <td>2</td>\n",
       "      <td>4</td>\n",
       "      <td>6531</td>\n",
       "      <td>2</td>\n",
       "    </tr>\n",
       "    <tr>\n",
       "      <th>top</th>\n",
       "      <td>5973-EJGDP</td>\n",
       "      <td>Male</td>\n",
       "      <td>No</td>\n",
       "      <td>No</td>\n",
       "      <td>Yes</td>\n",
       "      <td>No</td>\n",
       "      <td>Fiber optic</td>\n",
       "      <td>No</td>\n",
       "      <td>No</td>\n",
       "      <td>No</td>\n",
       "      <td>No</td>\n",
       "      <td>No</td>\n",
       "      <td>No</td>\n",
       "      <td>Month-to-month</td>\n",
       "      <td>Yes</td>\n",
       "      <td>Electronic check</td>\n",
       "      <td>20.2</td>\n",
       "      <td>No</td>\n",
       "    </tr>\n",
       "    <tr>\n",
       "      <th>freq</th>\n",
       "      <td>1</td>\n",
       "      <td>3555</td>\n",
       "      <td>3641</td>\n",
       "      <td>4933</td>\n",
       "      <td>6361</td>\n",
       "      <td>3390</td>\n",
       "      <td>3096</td>\n",
       "      <td>3498</td>\n",
       "      <td>3088</td>\n",
       "      <td>3095</td>\n",
       "      <td>3473</td>\n",
       "      <td>2810</td>\n",
       "      <td>2785</td>\n",
       "      <td>3875</td>\n",
       "      <td>4171</td>\n",
       "      <td>2365</td>\n",
       "      <td>11</td>\n",
       "      <td>5174</td>\n",
       "    </tr>\n",
       "  </tbody>\n",
       "</table>\n",
       "</div>"
      ],
      "text/plain": [
       "        customerID gender Partner Dependents PhoneService MultipleLines  \\\n",
       "count         7043   7043    7043       7043         7043          7043   \n",
       "unique        7043      2       2          2            2             3   \n",
       "top     5973-EJGDP   Male      No         No          Yes            No   \n",
       "freq             1   3555    3641       4933         6361          3390   \n",
       "\n",
       "       InternetService OnlineSecurity OnlineBackup DeviceProtection  \\\n",
       "count             7043           7043         7043             7043   \n",
       "unique               3              3            3                3   \n",
       "top        Fiber optic             No           No               No   \n",
       "freq              3096           3498         3088             3095   \n",
       "\n",
       "       TechSupport StreamingTV StreamingMovies        Contract  \\\n",
       "count         7043        7043            7043            7043   \n",
       "unique           3           3               3               3   \n",
       "top             No          No              No  Month-to-month   \n",
       "freq          3473        2810            2785            3875   \n",
       "\n",
       "       PaperlessBilling     PaymentMethod TotalCharges Churn  \n",
       "count              7043              7043         7043  7043  \n",
       "unique                2                 4         6531     2  \n",
       "top                 Yes  Electronic check         20.2    No  \n",
       "freq               4171              2365           11  5174  "
      ]
     },
     "execution_count": 10,
     "metadata": {},
     "output_type": "execute_result"
    }
   ],
   "source": [
    "df.describe(include=['O'])"
   ]
  },
  {
   "cell_type": "markdown",
   "metadata": {},
   "source": [
    "## Data manipulation"
   ]
  },
  {
   "cell_type": "markdown",
   "metadata": {},
   "source": [
    "### Label encoding for all categorical variables"
   ]
  },
  {
   "cell_type": "code",
   "execution_count": 11,
   "metadata": {},
   "outputs": [
    {
     "data": {
      "text/html": [
       "<div>\n",
       "<style scoped>\n",
       "    .dataframe tbody tr th:only-of-type {\n",
       "        vertical-align: middle;\n",
       "    }\n",
       "\n",
       "    .dataframe tbody tr th {\n",
       "        vertical-align: top;\n",
       "    }\n",
       "\n",
       "    .dataframe thead th {\n",
       "        text-align: right;\n",
       "    }\n",
       "</style>\n",
       "<table border=\"1\" class=\"dataframe\">\n",
       "  <thead>\n",
       "    <tr style=\"text-align: right;\">\n",
       "      <th></th>\n",
       "      <th>gender</th>\n",
       "    </tr>\n",
       "  </thead>\n",
       "  <tbody>\n",
       "    <tr>\n",
       "      <th>Male</th>\n",
       "      <td>3555</td>\n",
       "    </tr>\n",
       "    <tr>\n",
       "      <th>Female</th>\n",
       "      <td>3488</td>\n",
       "    </tr>\n",
       "  </tbody>\n",
       "</table>\n",
       "</div>"
      ],
      "text/plain": [
       "        gender\n",
       "Male      3555\n",
       "Female    3488"
      ]
     },
     "execution_count": 11,
     "metadata": {},
     "output_type": "execute_result"
    }
   ],
   "source": [
    "#gender\n",
    "df.gender.value_counts().to_frame()"
   ]
  },
  {
   "cell_type": "code",
   "execution_count": 12,
   "metadata": {},
   "outputs": [],
   "source": [
    "gender_map = {\n",
    "    'Male' : 1,\n",
    "    'Female' : 0\n",
    "}\n",
    "df.gender = df.gender.map(gender_map)"
   ]
  },
  {
   "cell_type": "code",
   "execution_count": 13,
   "metadata": {},
   "outputs": [
    {
     "data": {
      "text/html": [
       "<div>\n",
       "<style scoped>\n",
       "    .dataframe tbody tr th:only-of-type {\n",
       "        vertical-align: middle;\n",
       "    }\n",
       "\n",
       "    .dataframe tbody tr th {\n",
       "        vertical-align: top;\n",
       "    }\n",
       "\n",
       "    .dataframe thead th {\n",
       "        text-align: right;\n",
       "    }\n",
       "</style>\n",
       "<table border=\"1\" class=\"dataframe\">\n",
       "  <thead>\n",
       "    <tr style=\"text-align: right;\">\n",
       "      <th></th>\n",
       "      <th>Partner</th>\n",
       "    </tr>\n",
       "  </thead>\n",
       "  <tbody>\n",
       "    <tr>\n",
       "      <th>No</th>\n",
       "      <td>3641</td>\n",
       "    </tr>\n",
       "    <tr>\n",
       "      <th>Yes</th>\n",
       "      <td>3402</td>\n",
       "    </tr>\n",
       "  </tbody>\n",
       "</table>\n",
       "</div>"
      ],
      "text/plain": [
       "     Partner\n",
       "No      3641\n",
       "Yes     3402"
      ]
     },
     "execution_count": 13,
     "metadata": {},
     "output_type": "execute_result"
    }
   ],
   "source": [
    "#Partner\n",
    "df.Partner.value_counts().to_frame()"
   ]
  },
  {
   "cell_type": "code",
   "execution_count": 14,
   "metadata": {},
   "outputs": [],
   "source": [
    "binary_map = {\n",
    "    'Yes' : 1,\n",
    "    'No' : 0\n",
    "}\n",
    "df.Partner = df.Partner.map(binary_map)"
   ]
  },
  {
   "cell_type": "code",
   "execution_count": 15,
   "metadata": {},
   "outputs": [
    {
     "data": {
      "text/html": [
       "<div>\n",
       "<style scoped>\n",
       "    .dataframe tbody tr th:only-of-type {\n",
       "        vertical-align: middle;\n",
       "    }\n",
       "\n",
       "    .dataframe tbody tr th {\n",
       "        vertical-align: top;\n",
       "    }\n",
       "\n",
       "    .dataframe thead th {\n",
       "        text-align: right;\n",
       "    }\n",
       "</style>\n",
       "<table border=\"1\" class=\"dataframe\">\n",
       "  <thead>\n",
       "    <tr style=\"text-align: right;\">\n",
       "      <th></th>\n",
       "      <th>Dependents</th>\n",
       "    </tr>\n",
       "  </thead>\n",
       "  <tbody>\n",
       "    <tr>\n",
       "      <th>No</th>\n",
       "      <td>4933</td>\n",
       "    </tr>\n",
       "    <tr>\n",
       "      <th>Yes</th>\n",
       "      <td>2110</td>\n",
       "    </tr>\n",
       "  </tbody>\n",
       "</table>\n",
       "</div>"
      ],
      "text/plain": [
       "     Dependents\n",
       "No         4933\n",
       "Yes        2110"
      ]
     },
     "execution_count": 15,
     "metadata": {},
     "output_type": "execute_result"
    }
   ],
   "source": [
    "#Dependents\n",
    "df.Dependents.value_counts().to_frame()"
   ]
  },
  {
   "cell_type": "code",
   "execution_count": 16,
   "metadata": {},
   "outputs": [],
   "source": [
    "df.Dependents = df.Dependents.map(binary_map)\n"
   ]
  },
  {
   "cell_type": "code",
   "execution_count": 17,
   "metadata": {},
   "outputs": [
    {
     "data": {
      "text/html": [
       "<div>\n",
       "<style scoped>\n",
       "    .dataframe tbody tr th:only-of-type {\n",
       "        vertical-align: middle;\n",
       "    }\n",
       "\n",
       "    .dataframe tbody tr th {\n",
       "        vertical-align: top;\n",
       "    }\n",
       "\n",
       "    .dataframe thead th {\n",
       "        text-align: right;\n",
       "    }\n",
       "</style>\n",
       "<table border=\"1\" class=\"dataframe\">\n",
       "  <thead>\n",
       "    <tr style=\"text-align: right;\">\n",
       "      <th></th>\n",
       "      <th>PhoneService</th>\n",
       "    </tr>\n",
       "  </thead>\n",
       "  <tbody>\n",
       "    <tr>\n",
       "      <th>Yes</th>\n",
       "      <td>6361</td>\n",
       "    </tr>\n",
       "    <tr>\n",
       "      <th>No</th>\n",
       "      <td>682</td>\n",
       "    </tr>\n",
       "  </tbody>\n",
       "</table>\n",
       "</div>"
      ],
      "text/plain": [
       "     PhoneService\n",
       "Yes          6361\n",
       "No            682"
      ]
     },
     "execution_count": 17,
     "metadata": {},
     "output_type": "execute_result"
    }
   ],
   "source": [
    "#PhoneService\n",
    "df.PhoneService.value_counts().to_frame()"
   ]
  },
  {
   "cell_type": "code",
   "execution_count": 18,
   "metadata": {},
   "outputs": [],
   "source": [
    "df.PhoneService = df.PhoneService.map(binary_map)"
   ]
  },
  {
   "cell_type": "code",
   "execution_count": 19,
   "metadata": {},
   "outputs": [
    {
     "data": {
      "text/html": [
       "<div>\n",
       "<style scoped>\n",
       "    .dataframe tbody tr th:only-of-type {\n",
       "        vertical-align: middle;\n",
       "    }\n",
       "\n",
       "    .dataframe tbody tr th {\n",
       "        vertical-align: top;\n",
       "    }\n",
       "\n",
       "    .dataframe thead th {\n",
       "        text-align: right;\n",
       "    }\n",
       "</style>\n",
       "<table border=\"1\" class=\"dataframe\">\n",
       "  <thead>\n",
       "    <tr style=\"text-align: right;\">\n",
       "      <th></th>\n",
       "      <th>PaperlessBilling</th>\n",
       "    </tr>\n",
       "  </thead>\n",
       "  <tbody>\n",
       "    <tr>\n",
       "      <th>Yes</th>\n",
       "      <td>4171</td>\n",
       "    </tr>\n",
       "    <tr>\n",
       "      <th>No</th>\n",
       "      <td>2872</td>\n",
       "    </tr>\n",
       "  </tbody>\n",
       "</table>\n",
       "</div>"
      ],
      "text/plain": [
       "     PaperlessBilling\n",
       "Yes              4171\n",
       "No               2872"
      ]
     },
     "execution_count": 19,
     "metadata": {},
     "output_type": "execute_result"
    }
   ],
   "source": [
    "#PaperlessBilling\n",
    "df.PaperlessBilling.value_counts().to_frame()"
   ]
  },
  {
   "cell_type": "code",
   "execution_count": 20,
   "metadata": {},
   "outputs": [],
   "source": [
    "df.PaperlessBilling = df.PaperlessBilling.map(binary_map)"
   ]
  },
  {
   "cell_type": "code",
   "execution_count": 21,
   "metadata": {},
   "outputs": [
    {
     "data": {
      "text/html": [
       "<div>\n",
       "<style scoped>\n",
       "    .dataframe tbody tr th:only-of-type {\n",
       "        vertical-align: middle;\n",
       "    }\n",
       "\n",
       "    .dataframe tbody tr th {\n",
       "        vertical-align: top;\n",
       "    }\n",
       "\n",
       "    .dataframe thead th {\n",
       "        text-align: right;\n",
       "    }\n",
       "</style>\n",
       "<table border=\"1\" class=\"dataframe\">\n",
       "  <thead>\n",
       "    <tr style=\"text-align: right;\">\n",
       "      <th></th>\n",
       "      <th>Churn</th>\n",
       "    </tr>\n",
       "  </thead>\n",
       "  <tbody>\n",
       "    <tr>\n",
       "      <th>No</th>\n",
       "      <td>5174</td>\n",
       "    </tr>\n",
       "    <tr>\n",
       "      <th>Yes</th>\n",
       "      <td>1869</td>\n",
       "    </tr>\n",
       "  </tbody>\n",
       "</table>\n",
       "</div>"
      ],
      "text/plain": [
       "     Churn\n",
       "No    5174\n",
       "Yes   1869"
      ]
     },
     "execution_count": 21,
     "metadata": {},
     "output_type": "execute_result"
    }
   ],
   "source": [
    "#Churn\n",
    "df.Churn.value_counts().to_frame()"
   ]
  },
  {
   "cell_type": "code",
   "execution_count": 22,
   "metadata": {},
   "outputs": [],
   "source": [
    "df.Churn = df.Churn.map(binary_map)"
   ]
  },
  {
   "cell_type": "code",
   "execution_count": 23,
   "metadata": {},
   "outputs": [
    {
     "data": {
      "text/html": [
       "<div>\n",
       "<style scoped>\n",
       "    .dataframe tbody tr th:only-of-type {\n",
       "        vertical-align: middle;\n",
       "    }\n",
       "\n",
       "    .dataframe tbody tr th {\n",
       "        vertical-align: top;\n",
       "    }\n",
       "\n",
       "    .dataframe thead th {\n",
       "        text-align: right;\n",
       "    }\n",
       "</style>\n",
       "<table border=\"1\" class=\"dataframe\">\n",
       "  <thead>\n",
       "    <tr style=\"text-align: right;\">\n",
       "      <th></th>\n",
       "      <th>MultipleLines</th>\n",
       "    </tr>\n",
       "  </thead>\n",
       "  <tbody>\n",
       "    <tr>\n",
       "      <th>No</th>\n",
       "      <td>3390</td>\n",
       "    </tr>\n",
       "    <tr>\n",
       "      <th>Yes</th>\n",
       "      <td>2971</td>\n",
       "    </tr>\n",
       "    <tr>\n",
       "      <th>No phone service</th>\n",
       "      <td>682</td>\n",
       "    </tr>\n",
       "  </tbody>\n",
       "</table>\n",
       "</div>"
      ],
      "text/plain": [
       "                  MultipleLines\n",
       "No                         3390\n",
       "Yes                        2971\n",
       "No phone service            682"
      ]
     },
     "execution_count": 23,
     "metadata": {},
     "output_type": "execute_result"
    }
   ],
   "source": [
    "#MultipleLines\n",
    "df.MultipleLines.value_counts().to_frame()"
   ]
  },
  {
   "cell_type": "code",
   "execution_count": 24,
   "metadata": {},
   "outputs": [],
   "source": [
    "ml_map = {\n",
    "    'No': 0,\n",
    "    'Yes': 1,\n",
    "    'No phone service': 2\n",
    "}\n",
    "df.MultipleLines = df.MultipleLines.map(ml_map)"
   ]
  },
  {
   "cell_type": "code",
   "execution_count": 25,
   "metadata": {},
   "outputs": [
    {
     "data": {
      "text/html": [
       "<div>\n",
       "<style scoped>\n",
       "    .dataframe tbody tr th:only-of-type {\n",
       "        vertical-align: middle;\n",
       "    }\n",
       "\n",
       "    .dataframe tbody tr th {\n",
       "        vertical-align: top;\n",
       "    }\n",
       "\n",
       "    .dataframe thead th {\n",
       "        text-align: right;\n",
       "    }\n",
       "</style>\n",
       "<table border=\"1\" class=\"dataframe\">\n",
       "  <thead>\n",
       "    <tr style=\"text-align: right;\">\n",
       "      <th></th>\n",
       "      <th>InternetService</th>\n",
       "    </tr>\n",
       "  </thead>\n",
       "  <tbody>\n",
       "    <tr>\n",
       "      <th>Fiber optic</th>\n",
       "      <td>3096</td>\n",
       "    </tr>\n",
       "    <tr>\n",
       "      <th>DSL</th>\n",
       "      <td>2421</td>\n",
       "    </tr>\n",
       "    <tr>\n",
       "      <th>No</th>\n",
       "      <td>1526</td>\n",
       "    </tr>\n",
       "  </tbody>\n",
       "</table>\n",
       "</div>"
      ],
      "text/plain": [
       "             InternetService\n",
       "Fiber optic             3096\n",
       "DSL                     2421\n",
       "No                      1526"
      ]
     },
     "execution_count": 25,
     "metadata": {},
     "output_type": "execute_result"
    }
   ],
   "source": [
    "#InternetService\n",
    "df.InternetService.value_counts().to_frame()"
   ]
  },
  {
   "cell_type": "code",
   "execution_count": 26,
   "metadata": {},
   "outputs": [],
   "source": [
    "is_map = {\n",
    "    'No': 0,\n",
    "    'DSL': 1,\n",
    "    'Fiber optic': 2\n",
    "}\n",
    "df.InternetService = df.InternetService.map(is_map)"
   ]
  },
  {
   "cell_type": "code",
   "execution_count": 27,
   "metadata": {},
   "outputs": [
    {
     "data": {
      "text/html": [
       "<div>\n",
       "<style scoped>\n",
       "    .dataframe tbody tr th:only-of-type {\n",
       "        vertical-align: middle;\n",
       "    }\n",
       "\n",
       "    .dataframe tbody tr th {\n",
       "        vertical-align: top;\n",
       "    }\n",
       "\n",
       "    .dataframe thead th {\n",
       "        text-align: right;\n",
       "    }\n",
       "</style>\n",
       "<table border=\"1\" class=\"dataframe\">\n",
       "  <thead>\n",
       "    <tr style=\"text-align: right;\">\n",
       "      <th></th>\n",
       "      <th>OnlineSecurity</th>\n",
       "    </tr>\n",
       "  </thead>\n",
       "  <tbody>\n",
       "    <tr>\n",
       "      <th>No</th>\n",
       "      <td>3498</td>\n",
       "    </tr>\n",
       "    <tr>\n",
       "      <th>Yes</th>\n",
       "      <td>2019</td>\n",
       "    </tr>\n",
       "    <tr>\n",
       "      <th>No internet service</th>\n",
       "      <td>1526</td>\n",
       "    </tr>\n",
       "  </tbody>\n",
       "</table>\n",
       "</div>"
      ],
      "text/plain": [
       "                     OnlineSecurity\n",
       "No                             3498\n",
       "Yes                            2019\n",
       "No internet service            1526"
      ]
     },
     "execution_count": 27,
     "metadata": {},
     "output_type": "execute_result"
    }
   ],
   "source": [
    "#OnlineSecurity\n",
    "df.OnlineSecurity.value_counts().to_frame()"
   ]
  },
  {
   "cell_type": "code",
   "execution_count": 28,
   "metadata": {},
   "outputs": [],
   "source": [
    "os_map = {\n",
    "    'No': 0,\n",
    "    'Yes': 1,\n",
    "    'No internet service': 2\n",
    "}\n",
    "df.OnlineSecurity = df.OnlineSecurity.map(os_map)"
   ]
  },
  {
   "cell_type": "code",
   "execution_count": 29,
   "metadata": {},
   "outputs": [
    {
     "data": {
      "text/html": [
       "<div>\n",
       "<style scoped>\n",
       "    .dataframe tbody tr th:only-of-type {\n",
       "        vertical-align: middle;\n",
       "    }\n",
       "\n",
       "    .dataframe tbody tr th {\n",
       "        vertical-align: top;\n",
       "    }\n",
       "\n",
       "    .dataframe thead th {\n",
       "        text-align: right;\n",
       "    }\n",
       "</style>\n",
       "<table border=\"1\" class=\"dataframe\">\n",
       "  <thead>\n",
       "    <tr style=\"text-align: right;\">\n",
       "      <th></th>\n",
       "      <th>OnlineBackup</th>\n",
       "    </tr>\n",
       "  </thead>\n",
       "  <tbody>\n",
       "    <tr>\n",
       "      <th>No</th>\n",
       "      <td>3088</td>\n",
       "    </tr>\n",
       "    <tr>\n",
       "      <th>Yes</th>\n",
       "      <td>2429</td>\n",
       "    </tr>\n",
       "    <tr>\n",
       "      <th>No internet service</th>\n",
       "      <td>1526</td>\n",
       "    </tr>\n",
       "  </tbody>\n",
       "</table>\n",
       "</div>"
      ],
      "text/plain": [
       "                     OnlineBackup\n",
       "No                           3088\n",
       "Yes                          2429\n",
       "No internet service          1526"
      ]
     },
     "execution_count": 29,
     "metadata": {},
     "output_type": "execute_result"
    }
   ],
   "source": [
    "#OnlineBackup\n",
    "df.OnlineBackup.value_counts().to_frame()"
   ]
  },
  {
   "cell_type": "code",
   "execution_count": 30,
   "metadata": {},
   "outputs": [],
   "source": [
    "df.OnlineBackup = df.OnlineBackup.map(os_map)"
   ]
  },
  {
   "cell_type": "code",
   "execution_count": 31,
   "metadata": {},
   "outputs": [
    {
     "data": {
      "text/html": [
       "<div>\n",
       "<style scoped>\n",
       "    .dataframe tbody tr th:only-of-type {\n",
       "        vertical-align: middle;\n",
       "    }\n",
       "\n",
       "    .dataframe tbody tr th {\n",
       "        vertical-align: top;\n",
       "    }\n",
       "\n",
       "    .dataframe thead th {\n",
       "        text-align: right;\n",
       "    }\n",
       "</style>\n",
       "<table border=\"1\" class=\"dataframe\">\n",
       "  <thead>\n",
       "    <tr style=\"text-align: right;\">\n",
       "      <th></th>\n",
       "      <th>DeviceProtection</th>\n",
       "    </tr>\n",
       "  </thead>\n",
       "  <tbody>\n",
       "    <tr>\n",
       "      <th>No</th>\n",
       "      <td>3095</td>\n",
       "    </tr>\n",
       "    <tr>\n",
       "      <th>Yes</th>\n",
       "      <td>2422</td>\n",
       "    </tr>\n",
       "    <tr>\n",
       "      <th>No internet service</th>\n",
       "      <td>1526</td>\n",
       "    </tr>\n",
       "  </tbody>\n",
       "</table>\n",
       "</div>"
      ],
      "text/plain": [
       "                     DeviceProtection\n",
       "No                               3095\n",
       "Yes                              2422\n",
       "No internet service              1526"
      ]
     },
     "execution_count": 31,
     "metadata": {},
     "output_type": "execute_result"
    }
   ],
   "source": [
    "#DeviceProtection\n",
    "df.DeviceProtection.value_counts().to_frame()"
   ]
  },
  {
   "cell_type": "code",
   "execution_count": 32,
   "metadata": {},
   "outputs": [],
   "source": [
    "df.DeviceProtection = df.DeviceProtection.map(os_map)"
   ]
  },
  {
   "cell_type": "code",
   "execution_count": 33,
   "metadata": {},
   "outputs": [
    {
     "data": {
      "text/html": [
       "<div>\n",
       "<style scoped>\n",
       "    .dataframe tbody tr th:only-of-type {\n",
       "        vertical-align: middle;\n",
       "    }\n",
       "\n",
       "    .dataframe tbody tr th {\n",
       "        vertical-align: top;\n",
       "    }\n",
       "\n",
       "    .dataframe thead th {\n",
       "        text-align: right;\n",
       "    }\n",
       "</style>\n",
       "<table border=\"1\" class=\"dataframe\">\n",
       "  <thead>\n",
       "    <tr style=\"text-align: right;\">\n",
       "      <th></th>\n",
       "      <th>TechSupport</th>\n",
       "    </tr>\n",
       "  </thead>\n",
       "  <tbody>\n",
       "    <tr>\n",
       "      <th>No</th>\n",
       "      <td>3473</td>\n",
       "    </tr>\n",
       "    <tr>\n",
       "      <th>Yes</th>\n",
       "      <td>2044</td>\n",
       "    </tr>\n",
       "    <tr>\n",
       "      <th>No internet service</th>\n",
       "      <td>1526</td>\n",
       "    </tr>\n",
       "  </tbody>\n",
       "</table>\n",
       "</div>"
      ],
      "text/plain": [
       "                     TechSupport\n",
       "No                          3473\n",
       "Yes                         2044\n",
       "No internet service         1526"
      ]
     },
     "execution_count": 33,
     "metadata": {},
     "output_type": "execute_result"
    }
   ],
   "source": [
    "#TechSupport\n",
    "df.TechSupport.value_counts().to_frame()"
   ]
  },
  {
   "cell_type": "code",
   "execution_count": 34,
   "metadata": {},
   "outputs": [],
   "source": [
    "df.TechSupport = df.TechSupport.map(os_map)"
   ]
  },
  {
   "cell_type": "code",
   "execution_count": 35,
   "metadata": {},
   "outputs": [
    {
     "data": {
      "text/html": [
       "<div>\n",
       "<style scoped>\n",
       "    .dataframe tbody tr th:only-of-type {\n",
       "        vertical-align: middle;\n",
       "    }\n",
       "\n",
       "    .dataframe tbody tr th {\n",
       "        vertical-align: top;\n",
       "    }\n",
       "\n",
       "    .dataframe thead th {\n",
       "        text-align: right;\n",
       "    }\n",
       "</style>\n",
       "<table border=\"1\" class=\"dataframe\">\n",
       "  <thead>\n",
       "    <tr style=\"text-align: right;\">\n",
       "      <th></th>\n",
       "      <th>StreamingTV</th>\n",
       "    </tr>\n",
       "  </thead>\n",
       "  <tbody>\n",
       "    <tr>\n",
       "      <th>No</th>\n",
       "      <td>2810</td>\n",
       "    </tr>\n",
       "    <tr>\n",
       "      <th>Yes</th>\n",
       "      <td>2707</td>\n",
       "    </tr>\n",
       "    <tr>\n",
       "      <th>No internet service</th>\n",
       "      <td>1526</td>\n",
       "    </tr>\n",
       "  </tbody>\n",
       "</table>\n",
       "</div>"
      ],
      "text/plain": [
       "                     StreamingTV\n",
       "No                          2810\n",
       "Yes                         2707\n",
       "No internet service         1526"
      ]
     },
     "execution_count": 35,
     "metadata": {},
     "output_type": "execute_result"
    }
   ],
   "source": [
    "#StreamingTV\n",
    "df.StreamingTV.value_counts().to_frame()"
   ]
  },
  {
   "cell_type": "code",
   "execution_count": 36,
   "metadata": {},
   "outputs": [],
   "source": [
    "df.StreamingTV = df.StreamingTV.map(os_map)"
   ]
  },
  {
   "cell_type": "code",
   "execution_count": 37,
   "metadata": {},
   "outputs": [
    {
     "data": {
      "text/html": [
       "<div>\n",
       "<style scoped>\n",
       "    .dataframe tbody tr th:only-of-type {\n",
       "        vertical-align: middle;\n",
       "    }\n",
       "\n",
       "    .dataframe tbody tr th {\n",
       "        vertical-align: top;\n",
       "    }\n",
       "\n",
       "    .dataframe thead th {\n",
       "        text-align: right;\n",
       "    }\n",
       "</style>\n",
       "<table border=\"1\" class=\"dataframe\">\n",
       "  <thead>\n",
       "    <tr style=\"text-align: right;\">\n",
       "      <th></th>\n",
       "      <th>StreamingMovies</th>\n",
       "    </tr>\n",
       "  </thead>\n",
       "  <tbody>\n",
       "    <tr>\n",
       "      <th>No</th>\n",
       "      <td>2785</td>\n",
       "    </tr>\n",
       "    <tr>\n",
       "      <th>Yes</th>\n",
       "      <td>2732</td>\n",
       "    </tr>\n",
       "    <tr>\n",
       "      <th>No internet service</th>\n",
       "      <td>1526</td>\n",
       "    </tr>\n",
       "  </tbody>\n",
       "</table>\n",
       "</div>"
      ],
      "text/plain": [
       "                     StreamingMovies\n",
       "No                              2785\n",
       "Yes                             2732\n",
       "No internet service             1526"
      ]
     },
     "execution_count": 37,
     "metadata": {},
     "output_type": "execute_result"
    }
   ],
   "source": [
    "#StreamingMovies\n",
    "df.StreamingMovies.value_counts().to_frame()"
   ]
  },
  {
   "cell_type": "code",
   "execution_count": 38,
   "metadata": {},
   "outputs": [],
   "source": [
    "df.StreamingMovies = df.StreamingMovies.map(os_map)"
   ]
  },
  {
   "cell_type": "code",
   "execution_count": 39,
   "metadata": {},
   "outputs": [
    {
     "data": {
      "text/html": [
       "<div>\n",
       "<style scoped>\n",
       "    .dataframe tbody tr th:only-of-type {\n",
       "        vertical-align: middle;\n",
       "    }\n",
       "\n",
       "    .dataframe tbody tr th {\n",
       "        vertical-align: top;\n",
       "    }\n",
       "\n",
       "    .dataframe thead th {\n",
       "        text-align: right;\n",
       "    }\n",
       "</style>\n",
       "<table border=\"1\" class=\"dataframe\">\n",
       "  <thead>\n",
       "    <tr style=\"text-align: right;\">\n",
       "      <th></th>\n",
       "      <th>Contract</th>\n",
       "    </tr>\n",
       "  </thead>\n",
       "  <tbody>\n",
       "    <tr>\n",
       "      <th>Month-to-month</th>\n",
       "      <td>3875</td>\n",
       "    </tr>\n",
       "    <tr>\n",
       "      <th>Two year</th>\n",
       "      <td>1695</td>\n",
       "    </tr>\n",
       "    <tr>\n",
       "      <th>One year</th>\n",
       "      <td>1473</td>\n",
       "    </tr>\n",
       "  </tbody>\n",
       "</table>\n",
       "</div>"
      ],
      "text/plain": [
       "                Contract\n",
       "Month-to-month      3875\n",
       "Two year            1695\n",
       "One year            1473"
      ]
     },
     "execution_count": 39,
     "metadata": {},
     "output_type": "execute_result"
    }
   ],
   "source": [
    "#Contract\n",
    "df.Contract.value_counts().to_frame()"
   ]
  },
  {
   "cell_type": "code",
   "execution_count": 40,
   "metadata": {},
   "outputs": [],
   "source": [
    "contract_map = {\n",
    "    'Month-to-month': 0,\n",
    "    'Two year': 1,\n",
    "    'One year': 2\n",
    "}\n",
    "df.Contract = df.Contract.map(contract_map)"
   ]
  },
  {
   "cell_type": "code",
   "execution_count": 41,
   "metadata": {},
   "outputs": [
    {
     "data": {
      "text/html": [
       "<div>\n",
       "<style scoped>\n",
       "    .dataframe tbody tr th:only-of-type {\n",
       "        vertical-align: middle;\n",
       "    }\n",
       "\n",
       "    .dataframe tbody tr th {\n",
       "        vertical-align: top;\n",
       "    }\n",
       "\n",
       "    .dataframe thead th {\n",
       "        text-align: right;\n",
       "    }\n",
       "</style>\n",
       "<table border=\"1\" class=\"dataframe\">\n",
       "  <thead>\n",
       "    <tr style=\"text-align: right;\">\n",
       "      <th></th>\n",
       "      <th>PaymentMethod</th>\n",
       "    </tr>\n",
       "  </thead>\n",
       "  <tbody>\n",
       "    <tr>\n",
       "      <th>Electronic check</th>\n",
       "      <td>2365</td>\n",
       "    </tr>\n",
       "    <tr>\n",
       "      <th>Mailed check</th>\n",
       "      <td>1612</td>\n",
       "    </tr>\n",
       "    <tr>\n",
       "      <th>Bank transfer (automatic)</th>\n",
       "      <td>1544</td>\n",
       "    </tr>\n",
       "    <tr>\n",
       "      <th>Credit card (automatic)</th>\n",
       "      <td>1522</td>\n",
       "    </tr>\n",
       "  </tbody>\n",
       "</table>\n",
       "</div>"
      ],
      "text/plain": [
       "                           PaymentMethod\n",
       "Electronic check                    2365\n",
       "Mailed check                        1612\n",
       "Bank transfer (automatic)           1544\n",
       "Credit card (automatic)             1522"
      ]
     },
     "execution_count": 41,
     "metadata": {},
     "output_type": "execute_result"
    }
   ],
   "source": [
    "#PaymentMethod\n",
    "df.PaymentMethod.value_counts().to_frame()"
   ]
  },
  {
   "cell_type": "code",
   "execution_count": 42,
   "metadata": {},
   "outputs": [],
   "source": [
    "pm_map = {\n",
    "    'Electronic check': 0,\n",
    "    'Mailed check': 1,\n",
    "    'Bank transfer (automatic)': 2,\n",
    "    'Credit card (automatic)': 3\n",
    "}\n",
    "df.PaymentMethod = df.PaymentMethod.map(pm_map)"
   ]
  },
  {
   "cell_type": "code",
   "execution_count": 43,
   "metadata": {},
   "outputs": [],
   "source": [
    "df['TotalCharges'] = pd.to_numeric(df['TotalCharges'], errors='coerce')"
   ]
  },
  {
   "cell_type": "code",
   "execution_count": 44,
   "metadata": {},
   "outputs": [
    {
     "name": "stdout",
     "output_type": "stream",
     "text": [
      "<class 'pandas.core.frame.DataFrame'>\n",
      "RangeIndex: 7043 entries, 0 to 7042\n",
      "Data columns (total 21 columns):\n",
      " #   Column            Non-Null Count  Dtype  \n",
      "---  ------            --------------  -----  \n",
      " 0   customerID        7043 non-null   object \n",
      " 1   gender            7043 non-null   int64  \n",
      " 2   SeniorCitizen     7043 non-null   int64  \n",
      " 3   Partner           7043 non-null   int64  \n",
      " 4   Dependents        7043 non-null   int64  \n",
      " 5   tenure            7043 non-null   int64  \n",
      " 6   PhoneService      7043 non-null   int64  \n",
      " 7   MultipleLines     7043 non-null   int64  \n",
      " 8   InternetService   7043 non-null   int64  \n",
      " 9   OnlineSecurity    7043 non-null   int64  \n",
      " 10  OnlineBackup      7043 non-null   int64  \n",
      " 11  DeviceProtection  7043 non-null   int64  \n",
      " 12  TechSupport       7043 non-null   int64  \n",
      " 13  StreamingTV       7043 non-null   int64  \n",
      " 14  StreamingMovies   7043 non-null   int64  \n",
      " 15  Contract          7043 non-null   int64  \n",
      " 16  PaperlessBilling  7043 non-null   int64  \n",
      " 17  PaymentMethod     7043 non-null   int64  \n",
      " 18  MonthlyCharges    7043 non-null   float64\n",
      " 19  TotalCharges      7032 non-null   float64\n",
      " 20  Churn             7043 non-null   int64  \n",
      "dtypes: float64(2), int64(18), object(1)\n",
      "memory usage: 1.1+ MB\n"
     ]
    }
   ],
   "source": [
    "df.info()"
   ]
  },
  {
   "cell_type": "code",
   "execution_count": 45,
   "metadata": {},
   "outputs": [
    {
     "data": {
      "text/html": [
       "<div>\n",
       "<style scoped>\n",
       "    .dataframe tbody tr th:only-of-type {\n",
       "        vertical-align: middle;\n",
       "    }\n",
       "\n",
       "    .dataframe tbody tr th {\n",
       "        vertical-align: top;\n",
       "    }\n",
       "\n",
       "    .dataframe thead th {\n",
       "        text-align: right;\n",
       "    }\n",
       "</style>\n",
       "<table border=\"1\" class=\"dataframe\">\n",
       "  <thead>\n",
       "    <tr style=\"text-align: right;\">\n",
       "      <th></th>\n",
       "      <th>customerID</th>\n",
       "      <th>gender</th>\n",
       "      <th>SeniorCitizen</th>\n",
       "      <th>Partner</th>\n",
       "      <th>Dependents</th>\n",
       "      <th>tenure</th>\n",
       "      <th>PhoneService</th>\n",
       "      <th>MultipleLines</th>\n",
       "      <th>InternetService</th>\n",
       "      <th>OnlineSecurity</th>\n",
       "      <th>OnlineBackup</th>\n",
       "      <th>DeviceProtection</th>\n",
       "      <th>TechSupport</th>\n",
       "      <th>StreamingTV</th>\n",
       "      <th>StreamingMovies</th>\n",
       "      <th>Contract</th>\n",
       "      <th>PaperlessBilling</th>\n",
       "      <th>PaymentMethod</th>\n",
       "      <th>MonthlyCharges</th>\n",
       "      <th>TotalCharges</th>\n",
       "      <th>Churn</th>\n",
       "    </tr>\n",
       "  </thead>\n",
       "  <tbody>\n",
       "    <tr>\n",
       "      <th>0</th>\n",
       "      <td>7590-VHVEG</td>\n",
       "      <td>0</td>\n",
       "      <td>0</td>\n",
       "      <td>1</td>\n",
       "      <td>0</td>\n",
       "      <td>1</td>\n",
       "      <td>0</td>\n",
       "      <td>2</td>\n",
       "      <td>1</td>\n",
       "      <td>0</td>\n",
       "      <td>1</td>\n",
       "      <td>0</td>\n",
       "      <td>0</td>\n",
       "      <td>0</td>\n",
       "      <td>0</td>\n",
       "      <td>0</td>\n",
       "      <td>1</td>\n",
       "      <td>0</td>\n",
       "      <td>29.85</td>\n",
       "      <td>29.85</td>\n",
       "      <td>0</td>\n",
       "    </tr>\n",
       "    <tr>\n",
       "      <th>1</th>\n",
       "      <td>5575-GNVDE</td>\n",
       "      <td>1</td>\n",
       "      <td>0</td>\n",
       "      <td>0</td>\n",
       "      <td>0</td>\n",
       "      <td>34</td>\n",
       "      <td>1</td>\n",
       "      <td>0</td>\n",
       "      <td>1</td>\n",
       "      <td>1</td>\n",
       "      <td>0</td>\n",
       "      <td>1</td>\n",
       "      <td>0</td>\n",
       "      <td>0</td>\n",
       "      <td>0</td>\n",
       "      <td>2</td>\n",
       "      <td>0</td>\n",
       "      <td>1</td>\n",
       "      <td>56.95</td>\n",
       "      <td>1889.50</td>\n",
       "      <td>0</td>\n",
       "    </tr>\n",
       "    <tr>\n",
       "      <th>2</th>\n",
       "      <td>3668-QPYBK</td>\n",
       "      <td>1</td>\n",
       "      <td>0</td>\n",
       "      <td>0</td>\n",
       "      <td>0</td>\n",
       "      <td>2</td>\n",
       "      <td>1</td>\n",
       "      <td>0</td>\n",
       "      <td>1</td>\n",
       "      <td>1</td>\n",
       "      <td>1</td>\n",
       "      <td>0</td>\n",
       "      <td>0</td>\n",
       "      <td>0</td>\n",
       "      <td>0</td>\n",
       "      <td>0</td>\n",
       "      <td>1</td>\n",
       "      <td>1</td>\n",
       "      <td>53.85</td>\n",
       "      <td>108.15</td>\n",
       "      <td>1</td>\n",
       "    </tr>\n",
       "    <tr>\n",
       "      <th>3</th>\n",
       "      <td>7795-CFOCW</td>\n",
       "      <td>1</td>\n",
       "      <td>0</td>\n",
       "      <td>0</td>\n",
       "      <td>0</td>\n",
       "      <td>45</td>\n",
       "      <td>0</td>\n",
       "      <td>2</td>\n",
       "      <td>1</td>\n",
       "      <td>1</td>\n",
       "      <td>0</td>\n",
       "      <td>1</td>\n",
       "      <td>1</td>\n",
       "      <td>0</td>\n",
       "      <td>0</td>\n",
       "      <td>2</td>\n",
       "      <td>0</td>\n",
       "      <td>2</td>\n",
       "      <td>42.30</td>\n",
       "      <td>1840.75</td>\n",
       "      <td>0</td>\n",
       "    </tr>\n",
       "    <tr>\n",
       "      <th>4</th>\n",
       "      <td>9237-HQITU</td>\n",
       "      <td>0</td>\n",
       "      <td>0</td>\n",
       "      <td>0</td>\n",
       "      <td>0</td>\n",
       "      <td>2</td>\n",
       "      <td>1</td>\n",
       "      <td>0</td>\n",
       "      <td>2</td>\n",
       "      <td>0</td>\n",
       "      <td>0</td>\n",
       "      <td>0</td>\n",
       "      <td>0</td>\n",
       "      <td>0</td>\n",
       "      <td>0</td>\n",
       "      <td>0</td>\n",
       "      <td>1</td>\n",
       "      <td>0</td>\n",
       "      <td>70.70</td>\n",
       "      <td>151.65</td>\n",
       "      <td>1</td>\n",
       "    </tr>\n",
       "  </tbody>\n",
       "</table>\n",
       "</div>"
      ],
      "text/plain": [
       "   customerID  gender  SeniorCitizen  Partner  Dependents  tenure  \\\n",
       "0  7590-VHVEG       0              0        1           0       1   \n",
       "1  5575-GNVDE       1              0        0           0      34   \n",
       "2  3668-QPYBK       1              0        0           0       2   \n",
       "3  7795-CFOCW       1              0        0           0      45   \n",
       "4  9237-HQITU       0              0        0           0       2   \n",
       "\n",
       "   PhoneService  MultipleLines  InternetService  OnlineSecurity  OnlineBackup  \\\n",
       "0             0              2                1               0             1   \n",
       "1             1              0                1               1             0   \n",
       "2             1              0                1               1             1   \n",
       "3             0              2                1               1             0   \n",
       "4             1              0                2               0             0   \n",
       "\n",
       "   DeviceProtection  TechSupport  StreamingTV  StreamingMovies  Contract  \\\n",
       "0                 0            0            0                0         0   \n",
       "1                 1            0            0                0         2   \n",
       "2                 0            0            0                0         0   \n",
       "3                 1            1            0                0         2   \n",
       "4                 0            0            0                0         0   \n",
       "\n",
       "   PaperlessBilling  PaymentMethod  MonthlyCharges  TotalCharges  Churn  \n",
       "0                 1              0           29.85         29.85      0  \n",
       "1                 0              1           56.95       1889.50      0  \n",
       "2                 1              1           53.85        108.15      1  \n",
       "3                 0              2           42.30       1840.75      0  \n",
       "4                 1              0           70.70        151.65      1  "
      ]
     },
     "execution_count": 45,
     "metadata": {},
     "output_type": "execute_result"
    }
   ],
   "source": [
    "df.head()"
   ]
  },
  {
   "cell_type": "code",
   "execution_count": 46,
   "metadata": {},
   "outputs": [],
   "source": [
    "encode_cols = ['MultipleLines', 'InternetService', 'OnlineSecurity', 'OnlineBackup', 'DeviceProtection', 'TechSupport', 'StreamingTV', 'StreamingMovies', 'Contract', 'PaymentMethod']"
   ]
  },
  {
   "cell_type": "markdown",
   "metadata": {},
   "source": [
    "df = pd.get_dummies(df, columns=encode_cols, drop_first=True)"
   ]
  },
  {
   "cell_type": "markdown",
   "metadata": {},
   "source": [
    "## Data visualization"
   ]
  },
  {
   "cell_type": "markdown",
   "metadata": {},
   "source": [
    "### Churn"
   ]
  },
  {
   "cell_type": "code",
   "execution_count": 47,
   "metadata": {},
   "outputs": [
    {
     "data": {
      "text/html": [
       "<div>\n",
       "<style scoped>\n",
       "    .dataframe tbody tr th:only-of-type {\n",
       "        vertical-align: middle;\n",
       "    }\n",
       "\n",
       "    .dataframe tbody tr th {\n",
       "        vertical-align: top;\n",
       "    }\n",
       "\n",
       "    .dataframe thead th {\n",
       "        text-align: right;\n",
       "    }\n",
       "</style>\n",
       "<table border=\"1\" class=\"dataframe\">\n",
       "  <thead>\n",
       "    <tr style=\"text-align: right;\">\n",
       "      <th></th>\n",
       "      <th>Churn</th>\n",
       "    </tr>\n",
       "  </thead>\n",
       "  <tbody>\n",
       "    <tr>\n",
       "      <th>0</th>\n",
       "      <td>0.73463</td>\n",
       "    </tr>\n",
       "    <tr>\n",
       "      <th>1</th>\n",
       "      <td>0.26537</td>\n",
       "    </tr>\n",
       "  </tbody>\n",
       "</table>\n",
       "</div>"
      ],
      "text/plain": [
       "     Churn\n",
       "0  0.73463\n",
       "1  0.26537"
      ]
     },
     "execution_count": 47,
     "metadata": {},
     "output_type": "execute_result"
    }
   ],
   "source": [
    "df.Churn.value_counts(normalize=True).to_frame()"
   ]
  },
  {
   "cell_type": "code",
   "execution_count": 48,
   "metadata": {},
   "outputs": [
    {
     "data": {
      "text/plain": [
       "<matplotlib.axes._subplots.AxesSubplot at 0x24e4288ca60>"
      ]
     },
     "execution_count": 48,
     "metadata": {},
     "output_type": "execute_result"
    },
    {
     "data": {
      "image/png": "[encoded data removed]",
      "text/plain": [
       "<Figure size 360x360 with 1 Axes>"
      ]
     },
     "metadata": {
      "needs_background": "light"
     },
     "output_type": "display_data"
    }
   ],
   "source": [
    "plt.figure(figsize=(5,5))\n",
    "plt.title('Churn count')\n",
    "sns.countplot(df.Churn)"
   ]
  },
  {
   "cell_type": "markdown",
   "metadata": {},
   "source": [
    "### Gender"
   ]
  },
  {
   "cell_type": "code",
   "execution_count": 49,
   "metadata": {},
   "outputs": [
    {
     "data": {
      "text/html": [
       "<div>\n",
       "<style scoped>\n",
       "    .dataframe tbody tr th:only-of-type {\n",
       "        vertical-align: middle;\n",
       "    }\n",
       "\n",
       "    .dataframe tbody tr th {\n",
       "        vertical-align: top;\n",
       "    }\n",
       "\n",
       "    .dataframe thead th {\n",
       "        text-align: right;\n",
       "    }\n",
       "</style>\n",
       "<table border=\"1\" class=\"dataframe\">\n",
       "  <thead>\n",
       "    <tr style=\"text-align: right;\">\n",
       "      <th></th>\n",
       "      <th>gender</th>\n",
       "    </tr>\n",
       "  </thead>\n",
       "  <tbody>\n",
       "    <tr>\n",
       "      <th>1</th>\n",
       "      <td>0.504756</td>\n",
       "    </tr>\n",
       "    <tr>\n",
       "      <th>0</th>\n",
       "      <td>0.495244</td>\n",
       "    </tr>\n",
       "  </tbody>\n",
       "</table>\n",
       "</div>"
      ],
      "text/plain": [
       "     gender\n",
       "1  0.504756\n",
       "0  0.495244"
      ]
     },
     "execution_count": 49,
     "metadata": {},
     "output_type": "execute_result"
    }
   ],
   "source": [
    "df.gender.value_counts(normalize=True).to_frame()"
   ]
  },
  {
   "cell_type": "code",
   "execution_count": 50,
   "metadata": {},
   "outputs": [
    {
     "data": {
      "text/html": [
       "<div>\n",
       "<style scoped>\n",
       "    .dataframe tbody tr th:only-of-type {\n",
       "        vertical-align: middle;\n",
       "    }\n",
       "\n",
       "    .dataframe tbody tr th {\n",
       "        vertical-align: top;\n",
       "    }\n",
       "\n",
       "    .dataframe thead th {\n",
       "        text-align: right;\n",
       "    }\n",
       "</style>\n",
       "<table border=\"1\" class=\"dataframe\">\n",
       "  <thead>\n",
       "    <tr style=\"text-align: right;\">\n",
       "      <th></th>\n",
       "      <th>Churn</th>\n",
       "    </tr>\n",
       "    <tr>\n",
       "      <th>gender</th>\n",
       "      <th></th>\n",
       "    </tr>\n",
       "  </thead>\n",
       "  <tbody>\n",
       "    <tr>\n",
       "      <th>0</th>\n",
       "      <td>0.269209</td>\n",
       "    </tr>\n",
       "    <tr>\n",
       "      <th>1</th>\n",
       "      <td>0.261603</td>\n",
       "    </tr>\n",
       "  </tbody>\n",
       "</table>\n",
       "</div>"
      ],
      "text/plain": [
       "           Churn\n",
       "gender          \n",
       "0       0.269209\n",
       "1       0.261603"
      ]
     },
     "execution_count": 50,
     "metadata": {},
     "output_type": "execute_result"
    }
   ],
   "source": [
    "df.groupby(df.gender).Churn.mean().to_frame()"
   ]
  },
  {
   "cell_type": "code",
   "execution_count": 51,
   "metadata": {},
   "outputs": [
    {
     "data": {
      "text/plain": [
       "<matplotlib.axes._subplots.AxesSubplot at 0x24e4302d580>"
      ]
     },
     "execution_count": 51,
     "metadata": {},
     "output_type": "execute_result"
    },
    {
     "data": {
      "image/png": "[encoded data removed]",
      "text/plain": [
       "<Figure size 720x360 with 2 Axes>"
      ]
     },
     "metadata": {
      "needs_background": "light"
     },
     "output_type": "display_data"
    }
   ],
   "source": [
    "fig, (ax1, ax2) = plt.subplots(1, 2, figsize=(10, 5))\n",
    "ax1.set_title('Gender count')\n",
    "ax2.set_title('Churn vs Gender')\n",
    "sns.countplot(df.gender, ax=ax1)\n",
    "sns.barplot(df.gender, df.Churn, ax=ax2)"
   ]
  },
  {
   "cell_type": "markdown",
   "metadata": {},
   "source": [
    "### SeniorCitizen"
   ]
  },
  {
   "cell_type": "code",
   "execution_count": 52,
   "metadata": {},
   "outputs": [
    {
     "data": {
      "text/html": [
       "<div>\n",
       "<style scoped>\n",
       "    .dataframe tbody tr th:only-of-type {\n",
       "        vertical-align: middle;\n",
       "    }\n",
       "\n",
       "    .dataframe tbody tr th {\n",
       "        vertical-align: top;\n",
       "    }\n",
       "\n",
       "    .dataframe thead th {\n",
       "        text-align: right;\n",
       "    }\n",
       "</style>\n",
       "<table border=\"1\" class=\"dataframe\">\n",
       "  <thead>\n",
       "    <tr style=\"text-align: right;\">\n",
       "      <th></th>\n",
       "      <th>SeniorCitizen</th>\n",
       "    </tr>\n",
       "  </thead>\n",
       "  <tbody>\n",
       "    <tr>\n",
       "      <th>0</th>\n",
       "      <td>0.837853</td>\n",
       "    </tr>\n",
       "    <tr>\n",
       "      <th>1</th>\n",
       "      <td>0.162147</td>\n",
       "    </tr>\n",
       "  </tbody>\n",
       "</table>\n",
       "</div>"
      ],
      "text/plain": [
       "   SeniorCitizen\n",
       "0       0.837853\n",
       "1       0.162147"
      ]
     },
     "execution_count": 52,
     "metadata": {},
     "output_type": "execute_result"
    }
   ],
   "source": [
    "df.SeniorCitizen.value_counts(normalize=True).to_frame()"
   ]
  },
  {
   "cell_type": "code",
   "execution_count": 53,
   "metadata": {},
   "outputs": [
    {
     "data": {
      "text/html": [
       "<div>\n",
       "<style scoped>\n",
       "    .dataframe tbody tr th:only-of-type {\n",
       "        vertical-align: middle;\n",
       "    }\n",
       "\n",
       "    .dataframe tbody tr th {\n",
       "        vertical-align: top;\n",
       "    }\n",
       "\n",
       "    .dataframe thead th {\n",
       "        text-align: right;\n",
       "    }\n",
       "</style>\n",
       "<table border=\"1\" class=\"dataframe\">\n",
       "  <thead>\n",
       "    <tr style=\"text-align: right;\">\n",
       "      <th></th>\n",
       "      <th>Churn</th>\n",
       "    </tr>\n",
       "    <tr>\n",
       "      <th>SeniorCitizen</th>\n",
       "      <th></th>\n",
       "    </tr>\n",
       "  </thead>\n",
       "  <tbody>\n",
       "    <tr>\n",
       "      <th>0</th>\n",
       "      <td>0.236062</td>\n",
       "    </tr>\n",
       "    <tr>\n",
       "      <th>1</th>\n",
       "      <td>0.416813</td>\n",
       "    </tr>\n",
       "  </tbody>\n",
       "</table>\n",
       "</div>"
      ],
      "text/plain": [
       "                  Churn\n",
       "SeniorCitizen          \n",
       "0              0.236062\n",
       "1              0.416813"
      ]
     },
     "execution_count": 53,
     "metadata": {},
     "output_type": "execute_result"
    }
   ],
   "source": [
    "df.groupby(df.SeniorCitizen).Churn.mean().to_frame()"
   ]
  },
  {
   "cell_type": "code",
   "execution_count": 54,
   "metadata": {},
   "outputs": [
    {
     "data": {
      "text/plain": [
       "<matplotlib.axes._subplots.AxesSubplot at 0x24e430d7670>"
      ]
     },
     "execution_count": 54,
     "metadata": {},
     "output_type": "execute_result"
    },
    {
     "data": {
      "image/png": "[encoded data removed]",
      "text/plain": [
       "<Figure size 720x360 with 2 Axes>"
      ]
     },
     "metadata": {
      "needs_background": "light"
     },
     "output_type": "display_data"
    }
   ],
   "source": [
    "fig, (ax1, ax2) = plt.subplots(1, 2, figsize=(10,5))\n",
    "ax1.set_title('Senior citizen count')\n",
    "ax2.set_title('Churn vs Senior citizen')\n",
    "sns.countplot(df.SeniorCitizen, ax=ax1)\n",
    "sns.barplot(df.SeniorCitizen, df.Churn, ax=ax2)"
   ]
  },
  {
   "cell_type": "markdown",
   "metadata": {},
   "source": [
    "### Partner"
   ]
  },
  {
   "cell_type": "code",
   "execution_count": 55,
   "metadata": {},
   "outputs": [
    {
     "data": {
      "text/html": [
       "<div>\n",
       "<style scoped>\n",
       "    .dataframe tbody tr th:only-of-type {\n",
       "        vertical-align: middle;\n",
       "    }\n",
       "\n",
       "    .dataframe tbody tr th {\n",
       "        vertical-align: top;\n",
       "    }\n",
       "\n",
       "    .dataframe thead th {\n",
       "        text-align: right;\n",
       "    }\n",
       "</style>\n",
       "<table border=\"1\" class=\"dataframe\">\n",
       "  <thead>\n",
       "    <tr style=\"text-align: right;\">\n",
       "      <th></th>\n",
       "      <th>Partner</th>\n",
       "    </tr>\n",
       "  </thead>\n",
       "  <tbody>\n",
       "    <tr>\n",
       "      <th>0</th>\n",
       "      <td>0.516967</td>\n",
       "    </tr>\n",
       "    <tr>\n",
       "      <th>1</th>\n",
       "      <td>0.483033</td>\n",
       "    </tr>\n",
       "  </tbody>\n",
       "</table>\n",
       "</div>"
      ],
      "text/plain": [
       "    Partner\n",
       "0  0.516967\n",
       "1  0.483033"
      ]
     },
     "execution_count": 55,
     "metadata": {},
     "output_type": "execute_result"
    }
   ],
   "source": [
    "df.Partner.value_counts(normalize=True).to_frame()"
   ]
  },
  {
   "cell_type": "code",
   "execution_count": 56,
   "metadata": {},
   "outputs": [
    {
     "data": {
      "text/html": [
       "<div>\n",
       "<style scoped>\n",
       "    .dataframe tbody tr th:only-of-type {\n",
       "        vertical-align: middle;\n",
       "    }\n",
       "\n",
       "    .dataframe tbody tr th {\n",
       "        vertical-align: top;\n",
       "    }\n",
       "\n",
       "    .dataframe thead th {\n",
       "        text-align: right;\n",
       "    }\n",
       "</style>\n",
       "<table border=\"1\" class=\"dataframe\">\n",
       "  <thead>\n",
       "    <tr style=\"text-align: right;\">\n",
       "      <th></th>\n",
       "      <th>Churn</th>\n",
       "    </tr>\n",
       "    <tr>\n",
       "      <th>Partner</th>\n",
       "      <th></th>\n",
       "    </tr>\n",
       "  </thead>\n",
       "  <tbody>\n",
       "    <tr>\n",
       "      <th>0</th>\n",
       "      <td>0.329580</td>\n",
       "    </tr>\n",
       "    <tr>\n",
       "      <th>1</th>\n",
       "      <td>0.196649</td>\n",
       "    </tr>\n",
       "  </tbody>\n",
       "</table>\n",
       "</div>"
      ],
      "text/plain": [
       "            Churn\n",
       "Partner          \n",
       "0        0.329580\n",
       "1        0.196649"
      ]
     },
     "execution_count": 56,
     "metadata": {},
     "output_type": "execute_result"
    }
   ],
   "source": [
    "df.groupby(df.Partner).Churn.mean().to_frame()"
   ]
  },
  {
   "cell_type": "code",
   "execution_count": 57,
   "metadata": {},
   "outputs": [
    {
     "data": {
      "text/plain": [
       "<matplotlib.axes._subplots.AxesSubplot at 0x24e431733a0>"
      ]
     },
     "execution_count": 57,
     "metadata": {},
     "output_type": "execute_result"
    },
    {
     "data": {
      "image/png": "[encoded data removed]",
      "text/plain": [
       "<Figure size 720x360 with 2 Axes>"
      ]
     },
     "metadata": {
      "needs_background": "light"
     },
     "output_type": "display_data"
    }
   ],
   "source": [
    "fig, (ax1,ax2) = plt.subplots(1,2, figsize=(10,5))\n",
    "ax1.set_title('Partner count')\n",
    "ax1.set_title('Churn vs Partner')\n",
    "sns.countplot(df.Partner, ax=ax1)\n",
    "sns.barplot(df.Partner, df.Churn, ax=ax2)"
   ]
  },
  {
   "cell_type": "markdown",
   "metadata": {},
   "source": [
    "### Dependents"
   ]
  },
  {
   "cell_type": "code",
   "execution_count": 58,
   "metadata": {},
   "outputs": [
    {
     "data": {
      "text/html": [
       "<div>\n",
       "<style scoped>\n",
       "    .dataframe tbody tr th:only-of-type {\n",
       "        vertical-align: middle;\n",
       "    }\n",
       "\n",
       "    .dataframe tbody tr th {\n",
       "        vertical-align: top;\n",
       "    }\n",
       "\n",
       "    .dataframe thead th {\n",
       "        text-align: right;\n",
       "    }\n",
       "</style>\n",
       "<table border=\"1\" class=\"dataframe\">\n",
       "  <thead>\n",
       "    <tr style=\"text-align: right;\">\n",
       "      <th></th>\n",
       "      <th>Dependents</th>\n",
       "    </tr>\n",
       "  </thead>\n",
       "  <tbody>\n",
       "    <tr>\n",
       "      <th>0</th>\n",
       "      <td>0.700412</td>\n",
       "    </tr>\n",
       "    <tr>\n",
       "      <th>1</th>\n",
       "      <td>0.299588</td>\n",
       "    </tr>\n",
       "  </tbody>\n",
       "</table>\n",
       "</div>"
      ],
      "text/plain": [
       "   Dependents\n",
       "0    0.700412\n",
       "1    0.299588"
      ]
     },
     "execution_count": 58,
     "metadata": {},
     "output_type": "execute_result"
    }
   ],
   "source": [
    "df.Dependents.value_counts(normalize=True).to_frame()"
   ]
  },
  {
   "cell_type": "code",
   "execution_count": 59,
   "metadata": {
    "scrolled": true
   },
   "outputs": [
    {
     "data": {
      "text/html": [
       "<div>\n",
       "<style scoped>\n",
       "    .dataframe tbody tr th:only-of-type {\n",
       "        vertical-align: middle;\n",
       "    }\n",
       "\n",
       "    .dataframe tbody tr th {\n",
       "        vertical-align: top;\n",
       "    }\n",
       "\n",
       "    .dataframe thead th {\n",
       "        text-align: right;\n",
       "    }\n",
       "</style>\n",
       "<table border=\"1\" class=\"dataframe\">\n",
       "  <thead>\n",
       "    <tr style=\"text-align: right;\">\n",
       "      <th></th>\n",
       "      <th>Churn</th>\n",
       "    </tr>\n",
       "    <tr>\n",
       "      <th>Dependents</th>\n",
       "      <th></th>\n",
       "    </tr>\n",
       "  </thead>\n",
       "  <tbody>\n",
       "    <tr>\n",
       "      <th>0</th>\n",
       "      <td>0.312791</td>\n",
       "    </tr>\n",
       "    <tr>\n",
       "      <th>1</th>\n",
       "      <td>0.154502</td>\n",
       "    </tr>\n",
       "  </tbody>\n",
       "</table>\n",
       "</div>"
      ],
      "text/plain": [
       "               Churn\n",
       "Dependents          \n",
       "0           0.312791\n",
       "1           0.154502"
      ]
     },
     "execution_count": 59,
     "metadata": {},
     "output_type": "execute_result"
    }
   ],
   "source": [
    "df.groupby(df.Dependents).Churn.mean().to_frame()"
   ]
  },
  {
   "cell_type": "code",
   "execution_count": 60,
   "metadata": {},
   "outputs": [
    {
     "data": {
      "text/plain": [
       "<matplotlib.axes._subplots.AxesSubplot at 0x24e441e1430>"
      ]
     },
     "execution_count": 60,
     "metadata": {},
     "output_type": "execute_result"
    },
    {
     "data": {
      "image/png": "[encoded data removed]",
      "text/plain": [
       "<Figure size 720x360 with 2 Axes>"
      ]
     },
     "metadata": {
      "needs_background": "light"
     },
     "output_type": "display_data"
    }
   ],
   "source": [
    "fig, (ax1,ax2) = plt.subplots(1,2, figsize=(10,5))\n",
    "ax1.set_title('Dependents count')\n",
    "ax2.set_title('Churn vs Dependents')\n",
    "sns.countplot(df.Dependents, ax=ax1)\n",
    "sns.barplot(df.Dependents, df.Churn, ax=ax2)"
   ]
  },
  {
   "cell_type": "markdown",
   "metadata": {},
   "source": [
    "### Tenure"
   ]
  },
  {
   "cell_type": "code",
   "execution_count": 61,
   "metadata": {},
   "outputs": [
    {
     "data": {
      "text/plain": [
       "73"
      ]
     },
     "execution_count": 61,
     "metadata": {},
     "output_type": "execute_result"
    }
   ],
   "source": [
    "df.tenure.nunique()"
   ]
  },
  {
   "cell_type": "code",
   "execution_count": 62,
   "metadata": {},
   "outputs": [
    {
     "data": {
      "image/png": "[encoded data removed]",
      "text/plain": [
       "<Figure size 720x360 with 2 Axes>"
      ]
     },
     "metadata": {
      "needs_background": "light"
     },
     "output_type": "display_data"
    }
   ],
   "source": [
    "fig, (ax1,ax2) = plt.subplots(1,2, figsize=(10,5))\n",
    "ax1.set_title('Tenure distribution')\n",
    "ax2.set_title('Churn vs Tenure')\n",
    "sns.distplot(df.tenure, ax=ax1)\n",
    "plot = sns.kdeplot(df.tenure.loc[df.Churn == 0], shade=True, label='No churn', ax=ax2)\n",
    "plot = sns.kdeplot(df.tenure.loc[df.Churn == 1], shade=True, label='Churn', ax=ax2)"
   ]
  },
  {
   "cell_type": "markdown",
   "metadata": {},
   "source": [
    "### MonthlyCharges"
   ]
  },
  {
   "cell_type": "code",
   "execution_count": 63,
   "metadata": {},
   "outputs": [
    {
     "data": {
      "image/png": "[encoded data removed]",
      "text/plain": [
       "<Figure size 720x360 with 2 Axes>"
      ]
     },
     "metadata": {
      "needs_background": "light"
     },
     "output_type": "display_data"
    }
   ],
   "source": [
    "fig, (ax1,ax2) = plt.subplots(1,2, figsize=(10,5))\n",
    "ax1.set_title('Monthly charges distribution')\n",
    "ax2.set_title('Churn vs Monthly charges')\n",
    "sns.distplot(df.MonthlyCharges, ax=ax1)\n",
    "plot = sns.kdeplot(df.MonthlyCharges.loc[df.Churn == 0], shade=True, label='No churn', ax=ax2)\n",
    "plot = sns.kdeplot(df.MonthlyCharges.loc[df.Churn == 1], shade=True, label='Churn', ax=ax2)"
   ]
  },
  {
   "cell_type": "markdown",
   "metadata": {},
   "source": [
    "### TotalCharges"
   ]
  },
  {
   "cell_type": "code",
   "execution_count": 64,
   "metadata": {},
   "outputs": [
    {
     "data": {
      "image/png": "[encoded data removed]",
      "text/plain": [
       "<Figure size 720x360 with 2 Axes>"
      ]
     },
     "metadata": {
      "needs_background": "light"
     },
     "output_type": "display_data"
    }
   ],
   "source": [
    "fig, (ax1,ax2) = plt.subplots(1,2, figsize=(10,5))\n",
    "ax1.set_title('Total charges distribution')\n",
    "ax2.set_title('Churn vs Total charges')\n",
    "sns.distplot(df.TotalCharges, ax=ax1)\n",
    "plot = sns.kdeplot(df.TotalCharges.loc[df.Churn == 0], shade=True, label='No churn', ax=ax2)\n",
    "plot = sns.kdeplot(df.TotalCharges.loc[df.Churn == 1], shade=True, label='Churn', ax=ax2)"
   ]
  },
  {
   "cell_type": "markdown",
   "metadata": {},
   "source": [
    "### PhoneService"
   ]
  },
  {
   "cell_type": "code",
   "execution_count": 65,
   "metadata": {},
   "outputs": [
    {
     "data": {
      "text/html": [
       "<div>\n",
       "<style scoped>\n",
       "    .dataframe tbody tr th:only-of-type {\n",
       "        vertical-align: middle;\n",
       "    }\n",
       "\n",
       "    .dataframe tbody tr th {\n",
       "        vertical-align: top;\n",
       "    }\n",
       "\n",
       "    .dataframe thead th {\n",
       "        text-align: right;\n",
       "    }\n",
       "</style>\n",
       "<table border=\"1\" class=\"dataframe\">\n",
       "  <thead>\n",
       "    <tr style=\"text-align: right;\">\n",
       "      <th></th>\n",
       "      <th>PhoneService</th>\n",
       "    </tr>\n",
       "  </thead>\n",
       "  <tbody>\n",
       "    <tr>\n",
       "      <th>1</th>\n",
       "      <td>0.903166</td>\n",
       "    </tr>\n",
       "    <tr>\n",
       "      <th>0</th>\n",
       "      <td>0.096834</td>\n",
       "    </tr>\n",
       "  </tbody>\n",
       "</table>\n",
       "</div>"
      ],
      "text/plain": [
       "   PhoneService\n",
       "1      0.903166\n",
       "0      0.096834"
      ]
     },
     "execution_count": 65,
     "metadata": {},
     "output_type": "execute_result"
    }
   ],
   "source": [
    "df.PhoneService.value_counts(normalize=True).to_frame()"
   ]
  },
  {
   "cell_type": "code",
   "execution_count": 66,
   "metadata": {},
   "outputs": [
    {
     "data": {
      "text/html": [
       "<div>\n",
       "<style scoped>\n",
       "    .dataframe tbody tr th:only-of-type {\n",
       "        vertical-align: middle;\n",
       "    }\n",
       "\n",
       "    .dataframe tbody tr th {\n",
       "        vertical-align: top;\n",
       "    }\n",
       "\n",
       "    .dataframe thead th {\n",
       "        text-align: right;\n",
       "    }\n",
       "</style>\n",
       "<table border=\"1\" class=\"dataframe\">\n",
       "  <thead>\n",
       "    <tr style=\"text-align: right;\">\n",
       "      <th></th>\n",
       "      <th>Churn</th>\n",
       "    </tr>\n",
       "    <tr>\n",
       "      <th>PhoneService</th>\n",
       "      <th></th>\n",
       "    </tr>\n",
       "  </thead>\n",
       "  <tbody>\n",
       "    <tr>\n",
       "      <th>0</th>\n",
       "      <td>0.249267</td>\n",
       "    </tr>\n",
       "    <tr>\n",
       "      <th>1</th>\n",
       "      <td>0.267096</td>\n",
       "    </tr>\n",
       "  </tbody>\n",
       "</table>\n",
       "</div>"
      ],
      "text/plain": [
       "                 Churn\n",
       "PhoneService          \n",
       "0             0.249267\n",
       "1             0.267096"
      ]
     },
     "execution_count": 66,
     "metadata": {},
     "output_type": "execute_result"
    }
   ],
   "source": [
    "df.groupby(df.PhoneService).Churn.mean().to_frame()"
   ]
  },
  {
   "cell_type": "code",
   "execution_count": 67,
   "metadata": {},
   "outputs": [
    {
     "data": {
      "text/plain": [
       "<matplotlib.axes._subplots.AxesSubplot at 0x24e4452d970>"
      ]
     },
     "execution_count": 67,
     "metadata": {},
     "output_type": "execute_result"
    },
    {
     "data": {
      "image/png": "[encoded data removed]",
      "text/plain": [
       "<Figure size 720x360 with 2 Axes>"
      ]
     },
     "metadata": {
      "needs_background": "light"
     },
     "output_type": "display_data"
    }
   ],
   "source": [
    "fig, (ax1,ax2) = plt.subplots(1,2, figsize=(10,5))\n",
    "ax1.set_title('Phone servive count')\n",
    "ax2.set_title('Churn vs Phone servive')\n",
    "sns.countplot(df.PhoneService, ax=ax1)\n",
    "sns.barplot(df.PhoneService, df.Churn, ax=ax2)"
   ]
  },
  {
   "cell_type": "markdown",
   "metadata": {},
   "source": [
    "### MultipleLines"
   ]
  },
  {
   "cell_type": "code",
   "execution_count": 68,
   "metadata": {},
   "outputs": [
    {
     "data": {
      "text/html": [
       "<div>\n",
       "<style scoped>\n",
       "    .dataframe tbody tr th:only-of-type {\n",
       "        vertical-align: middle;\n",
       "    }\n",
       "\n",
       "    .dataframe tbody tr th {\n",
       "        vertical-align: top;\n",
       "    }\n",
       "\n",
       "    .dataframe thead th {\n",
       "        text-align: right;\n",
       "    }\n",
       "</style>\n",
       "<table border=\"1\" class=\"dataframe\">\n",
       "  <thead>\n",
       "    <tr style=\"text-align: right;\">\n",
       "      <th></th>\n",
       "      <th>MultipleLines</th>\n",
       "    </tr>\n",
       "  </thead>\n",
       "  <tbody>\n",
       "    <tr>\n",
       "      <th>0</th>\n",
       "      <td>0.481329</td>\n",
       "    </tr>\n",
       "    <tr>\n",
       "      <th>1</th>\n",
       "      <td>0.421837</td>\n",
       "    </tr>\n",
       "    <tr>\n",
       "      <th>2</th>\n",
       "      <td>0.096834</td>\n",
       "    </tr>\n",
       "  </tbody>\n",
       "</table>\n",
       "</div>"
      ],
      "text/plain": [
       "   MultipleLines\n",
       "0       0.481329\n",
       "1       0.421837\n",
       "2       0.096834"
      ]
     },
     "execution_count": 68,
     "metadata": {},
     "output_type": "execute_result"
    }
   ],
   "source": [
    "df.MultipleLines.value_counts(normalize=True).to_frame()"
   ]
  },
  {
   "cell_type": "code",
   "execution_count": 69,
   "metadata": {},
   "outputs": [
    {
     "data": {
      "text/html": [
       "<div>\n",
       "<style scoped>\n",
       "    .dataframe tbody tr th:only-of-type {\n",
       "        vertical-align: middle;\n",
       "    }\n",
       "\n",
       "    .dataframe tbody tr th {\n",
       "        vertical-align: top;\n",
       "    }\n",
       "\n",
       "    .dataframe thead th {\n",
       "        text-align: right;\n",
       "    }\n",
       "</style>\n",
       "<table border=\"1\" class=\"dataframe\">\n",
       "  <thead>\n",
       "    <tr style=\"text-align: right;\">\n",
       "      <th></th>\n",
       "      <th>Churn</th>\n",
       "    </tr>\n",
       "    <tr>\n",
       "      <th>MultipleLines</th>\n",
       "      <th></th>\n",
       "    </tr>\n",
       "  </thead>\n",
       "  <tbody>\n",
       "    <tr>\n",
       "      <th>0</th>\n",
       "      <td>0.250442</td>\n",
       "    </tr>\n",
       "    <tr>\n",
       "      <th>1</th>\n",
       "      <td>0.286099</td>\n",
       "    </tr>\n",
       "    <tr>\n",
       "      <th>2</th>\n",
       "      <td>0.249267</td>\n",
       "    </tr>\n",
       "  </tbody>\n",
       "</table>\n",
       "</div>"
      ],
      "text/plain": [
       "                  Churn\n",
       "MultipleLines          \n",
       "0              0.250442\n",
       "1              0.286099\n",
       "2              0.249267"
      ]
     },
     "execution_count": 69,
     "metadata": {},
     "output_type": "execute_result"
    }
   ],
   "source": [
    "df.groupby(df.MultipleLines).Churn.mean().to_frame()"
   ]
  },
  {
   "cell_type": "code",
   "execution_count": 70,
   "metadata": {},
   "outputs": [
    {
     "data": {
      "text/plain": [
       "<matplotlib.axes._subplots.AxesSubplot at 0x24e4459a9d0>"
      ]
     },
     "execution_count": 70,
     "metadata": {},
     "output_type": "execute_result"
    },
    {
     "data": {
      "image/png": "[encoded data removed]",
      "text/plain": [
       "<Figure size 720x360 with 2 Axes>"
      ]
     },
     "metadata": {
      "needs_background": "light"
     },
     "output_type": "display_data"
    }
   ],
   "source": [
    "fig, (ax1,ax2) = plt.subplots(1,2, figsize=(10,5))\n",
    "ax1.set_title('MultipleLines count')\n",
    "ax2.set_title('Churn vs MultipleLines')\n",
    "sns.countplot(df.MultipleLines, ax=ax1)\n",
    "sns.barplot(df.MultipleLines, df.Churn, ax=ax2)"
   ]
  },
  {
   "cell_type": "markdown",
   "metadata": {},
   "source": [
    "### InternetService"
   ]
  },
  {
   "cell_type": "code",
   "execution_count": 71,
   "metadata": {},
   "outputs": [
    {
     "data": {
      "text/html": [
       "<div>\n",
       "<style scoped>\n",
       "    .dataframe tbody tr th:only-of-type {\n",
       "        vertical-align: middle;\n",
       "    }\n",
       "\n",
       "    .dataframe tbody tr th {\n",
       "        vertical-align: top;\n",
       "    }\n",
       "\n",
       "    .dataframe thead th {\n",
       "        text-align: right;\n",
       "    }\n",
       "</style>\n",
       "<table border=\"1\" class=\"dataframe\">\n",
       "  <thead>\n",
       "    <tr style=\"text-align: right;\">\n",
       "      <th></th>\n",
       "      <th>InternetService</th>\n",
       "    </tr>\n",
       "  </thead>\n",
       "  <tbody>\n",
       "    <tr>\n",
       "      <th>2</th>\n",
       "      <td>0.439585</td>\n",
       "    </tr>\n",
       "    <tr>\n",
       "      <th>1</th>\n",
       "      <td>0.343746</td>\n",
       "    </tr>\n",
       "    <tr>\n",
       "      <th>0</th>\n",
       "      <td>0.216669</td>\n",
       "    </tr>\n",
       "  </tbody>\n",
       "</table>\n",
       "</div>"
      ],
      "text/plain": [
       "   InternetService\n",
       "2         0.439585\n",
       "1         0.343746\n",
       "0         0.216669"
      ]
     },
     "execution_count": 71,
     "metadata": {},
     "output_type": "execute_result"
    }
   ],
   "source": [
    "df.InternetService.value_counts(normalize=True).to_frame()"
   ]
  },
  {
   "cell_type": "code",
   "execution_count": 72,
   "metadata": {},
   "outputs": [
    {
     "data": {
      "text/html": [
       "<div>\n",
       "<style scoped>\n",
       "    .dataframe tbody tr th:only-of-type {\n",
       "        vertical-align: middle;\n",
       "    }\n",
       "\n",
       "    .dataframe tbody tr th {\n",
       "        vertical-align: top;\n",
       "    }\n",
       "\n",
       "    .dataframe thead th {\n",
       "        text-align: right;\n",
       "    }\n",
       "</style>\n",
       "<table border=\"1\" class=\"dataframe\">\n",
       "  <thead>\n",
       "    <tr style=\"text-align: right;\">\n",
       "      <th></th>\n",
       "      <th>Churn</th>\n",
       "    </tr>\n",
       "    <tr>\n",
       "      <th>InternetService</th>\n",
       "      <th></th>\n",
       "    </tr>\n",
       "  </thead>\n",
       "  <tbody>\n",
       "    <tr>\n",
       "      <th>0</th>\n",
       "      <td>0.074050</td>\n",
       "    </tr>\n",
       "    <tr>\n",
       "      <th>1</th>\n",
       "      <td>0.189591</td>\n",
       "    </tr>\n",
       "    <tr>\n",
       "      <th>2</th>\n",
       "      <td>0.418928</td>\n",
       "    </tr>\n",
       "  </tbody>\n",
       "</table>\n",
       "</div>"
      ],
      "text/plain": [
       "                    Churn\n",
       "InternetService          \n",
       "0                0.074050\n",
       "1                0.189591\n",
       "2                0.418928"
      ]
     },
     "execution_count": 72,
     "metadata": {},
     "output_type": "execute_result"
    }
   ],
   "source": [
    "df.groupby(df.InternetService).Churn.mean().to_frame()"
   ]
  },
  {
   "cell_type": "code",
   "execution_count": 73,
   "metadata": {},
   "outputs": [
    {
     "data": {
      "text/plain": [
       "<matplotlib.axes._subplots.AxesSubplot at 0x24e44669dc0>"
      ]
     },
     "execution_count": 73,
     "metadata": {},
     "output_type": "execute_result"
    },
    {
     "data": {
      "image/png": "[encoded data removed]",
      "text/plain": [
       "<Figure size 720x360 with 2 Axes>"
      ]
     },
     "metadata": {
      "needs_background": "light"
     },
     "output_type": "display_data"
    }
   ],
   "source": [
    "fig, (ax1,ax2) = plt.subplots(1,2, figsize=(10,5))\n",
    "ax1.set_title('InternetService count')\n",
    "ax2.set_title('Churn vs InternetService')\n",
    "sns.countplot(df.InternetService, ax=ax1)\n",
    "sns.barplot(df.InternetService, df.Churn, ax=ax2)"
   ]
  },
  {
   "cell_type": "markdown",
   "metadata": {},
   "source": [
    "### OnlineSecurity"
   ]
  },
  {
   "cell_type": "code",
   "execution_count": 74,
   "metadata": {},
   "outputs": [
    {
     "data": {
      "text/html": [
       "<div>\n",
       "<style scoped>\n",
       "    .dataframe tbody tr th:only-of-type {\n",
       "        vertical-align: middle;\n",
       "    }\n",
       "\n",
       "    .dataframe tbody tr th {\n",
       "        vertical-align: top;\n",
       "    }\n",
       "\n",
       "    .dataframe thead th {\n",
       "        text-align: right;\n",
       "    }\n",
       "</style>\n",
       "<table border=\"1\" class=\"dataframe\">\n",
       "  <thead>\n",
       "    <tr style=\"text-align: right;\">\n",
       "      <th></th>\n",
       "      <th>OnlineSecurity</th>\n",
       "    </tr>\n",
       "  </thead>\n",
       "  <tbody>\n",
       "    <tr>\n",
       "      <th>0</th>\n",
       "      <td>0.496663</td>\n",
       "    </tr>\n",
       "    <tr>\n",
       "      <th>1</th>\n",
       "      <td>0.286668</td>\n",
       "    </tr>\n",
       "    <tr>\n",
       "      <th>2</th>\n",
       "      <td>0.216669</td>\n",
       "    </tr>\n",
       "  </tbody>\n",
       "</table>\n",
       "</div>"
      ],
      "text/plain": [
       "   OnlineSecurity\n",
       "0        0.496663\n",
       "1        0.286668\n",
       "2        0.216669"
      ]
     },
     "execution_count": 74,
     "metadata": {},
     "output_type": "execute_result"
    }
   ],
   "source": [
    "df.OnlineSecurity.value_counts(normalize=True).to_frame()"
   ]
  },
  {
   "cell_type": "code",
   "execution_count": 75,
   "metadata": {},
   "outputs": [
    {
     "data": {
      "text/html": [
       "<div>\n",
       "<style scoped>\n",
       "    .dataframe tbody tr th:only-of-type {\n",
       "        vertical-align: middle;\n",
       "    }\n",
       "\n",
       "    .dataframe tbody tr th {\n",
       "        vertical-align: top;\n",
       "    }\n",
       "\n",
       "    .dataframe thead th {\n",
       "        text-align: right;\n",
       "    }\n",
       "</style>\n",
       "<table border=\"1\" class=\"dataframe\">\n",
       "  <thead>\n",
       "    <tr style=\"text-align: right;\">\n",
       "      <th></th>\n",
       "      <th>Churn</th>\n",
       "    </tr>\n",
       "    <tr>\n",
       "      <th>OnlineSecurity</th>\n",
       "      <th></th>\n",
       "    </tr>\n",
       "  </thead>\n",
       "  <tbody>\n",
       "    <tr>\n",
       "      <th>0</th>\n",
       "      <td>0.417667</td>\n",
       "    </tr>\n",
       "    <tr>\n",
       "      <th>1</th>\n",
       "      <td>0.146112</td>\n",
       "    </tr>\n",
       "    <tr>\n",
       "      <th>2</th>\n",
       "      <td>0.074050</td>\n",
       "    </tr>\n",
       "  </tbody>\n",
       "</table>\n",
       "</div>"
      ],
      "text/plain": [
       "                   Churn\n",
       "OnlineSecurity          \n",
       "0               0.417667\n",
       "1               0.146112\n",
       "2               0.074050"
      ]
     },
     "execution_count": 75,
     "metadata": {},
     "output_type": "execute_result"
    }
   ],
   "source": [
    "df.groupby(df.OnlineSecurity).Churn.mean().to_frame()"
   ]
  },
  {
   "cell_type": "code",
   "execution_count": 76,
   "metadata": {},
   "outputs": [
    {
     "data": {
      "text/plain": [
       "<matplotlib.axes._subplots.AxesSubplot at 0x24e447024c0>"
      ]
     },
     "execution_count": 76,
     "metadata": {},
     "output_type": "execute_result"
    },
    {
     "data": {
      "image/png": "[encoded data removed]",
      "text/plain": [
       "<Figure size 720x360 with 2 Axes>"
      ]
     },
     "metadata": {
      "needs_background": "light"
     },
     "output_type": "display_data"
    }
   ],
   "source": [
    "fig, (ax1,ax2) = plt.subplots(1,2, figsize=(10,5))\n",
    "ax1.set_title('OnlineSecurity count')\n",
    "ax2.set_title('Churn vs OnlineSecurity')\n",
    "sns.countplot(df.OnlineSecurity, ax=ax1)\n",
    "sns.barplot(df.OnlineSecurity, df.Churn, ax=ax2)"
   ]
  },
  {
   "cell_type": "markdown",
   "metadata": {},
   "source": [
    "### OnlineBackup"
   ]
  },
  {
   "cell_type": "code",
   "execution_count": 77,
   "metadata": {},
   "outputs": [
    {
     "data": {
      "text/html": [
       "<div>\n",
       "<style scoped>\n",
       "    .dataframe tbody tr th:only-of-type {\n",
       "        vertical-align: middle;\n",
       "    }\n",
       "\n",
       "    .dataframe tbody tr th {\n",
       "        vertical-align: top;\n",
       "    }\n",
       "\n",
       "    .dataframe thead th {\n",
       "        text-align: right;\n",
       "    }\n",
       "</style>\n",
       "<table border=\"1\" class=\"dataframe\">\n",
       "  <thead>\n",
       "    <tr style=\"text-align: right;\">\n",
       "      <th></th>\n",
       "      <th>OnlineBackup</th>\n",
       "    </tr>\n",
       "  </thead>\n",
       "  <tbody>\n",
       "    <tr>\n",
       "      <th>0</th>\n",
       "      <td>0.438450</td>\n",
       "    </tr>\n",
       "    <tr>\n",
       "      <th>1</th>\n",
       "      <td>0.344881</td>\n",
       "    </tr>\n",
       "    <tr>\n",
       "      <th>2</th>\n",
       "      <td>0.216669</td>\n",
       "    </tr>\n",
       "  </tbody>\n",
       "</table>\n",
       "</div>"
      ],
      "text/plain": [
       "   OnlineBackup\n",
       "0      0.438450\n",
       "1      0.344881\n",
       "2      0.216669"
      ]
     },
     "execution_count": 77,
     "metadata": {},
     "output_type": "execute_result"
    }
   ],
   "source": [
    "df.OnlineBackup.value_counts(normalize=True).to_frame()"
   ]
  },
  {
   "cell_type": "code",
   "execution_count": 78,
   "metadata": {},
   "outputs": [
    {
     "data": {
      "text/html": [
       "<div>\n",
       "<style scoped>\n",
       "    .dataframe tbody tr th:only-of-type {\n",
       "        vertical-align: middle;\n",
       "    }\n",
       "\n",
       "    .dataframe tbody tr th {\n",
       "        vertical-align: top;\n",
       "    }\n",
       "\n",
       "    .dataframe thead th {\n",
       "        text-align: right;\n",
       "    }\n",
       "</style>\n",
       "<table border=\"1\" class=\"dataframe\">\n",
       "  <thead>\n",
       "    <tr style=\"text-align: right;\">\n",
       "      <th></th>\n",
       "      <th>Churn</th>\n",
       "    </tr>\n",
       "    <tr>\n",
       "      <th>OnlineBackup</th>\n",
       "      <th></th>\n",
       "    </tr>\n",
       "  </thead>\n",
       "  <tbody>\n",
       "    <tr>\n",
       "      <th>0</th>\n",
       "      <td>0.399288</td>\n",
       "    </tr>\n",
       "    <tr>\n",
       "      <th>1</th>\n",
       "      <td>0.215315</td>\n",
       "    </tr>\n",
       "    <tr>\n",
       "      <th>2</th>\n",
       "      <td>0.074050</td>\n",
       "    </tr>\n",
       "  </tbody>\n",
       "</table>\n",
       "</div>"
      ],
      "text/plain": [
       "                 Churn\n",
       "OnlineBackup          \n",
       "0             0.399288\n",
       "1             0.215315\n",
       "2             0.074050"
      ]
     },
     "execution_count": 78,
     "metadata": {},
     "output_type": "execute_result"
    }
   ],
   "source": [
    "df.groupby(df.OnlineBackup).Churn.mean().to_frame()"
   ]
  },
  {
   "cell_type": "code",
   "execution_count": 79,
   "metadata": {},
   "outputs": [
    {
     "data": {
      "text/plain": [
       "<matplotlib.axes._subplots.AxesSubplot at 0x24e4479daf0>"
      ]
     },
     "execution_count": 79,
     "metadata": {},
     "output_type": "execute_result"
    },
    {
     "data": {
      "image/png": "[encoded data removed]",
      "text/plain": [
       "<Figure size 720x360 with 2 Axes>"
      ]
     },
     "metadata": {
      "needs_background": "light"
     },
     "output_type": "display_data"
    }
   ],
   "source": [
    "fig, (ax1,ax2) = plt.subplots(1,2, figsize=(10,5))\n",
    "ax1.set_title('OnlineBackup count')\n",
    "ax2.set_title('Churn vs OnlineBackup')\n",
    "sns.countplot(df.OnlineBackup, ax=ax1)\n",
    "sns.barplot(df.OnlineBackup, df.Churn, ax=ax2)"
   ]
  },
  {
   "cell_type": "markdown",
   "metadata": {},
   "source": [
    "### DeviceProtection"
   ]
  },
  {
   "cell_type": "code",
   "execution_count": 80,
   "metadata": {},
   "outputs": [
    {
     "data": {
      "text/html": [
       "<div>\n",
       "<style scoped>\n",
       "    .dataframe tbody tr th:only-of-type {\n",
       "        vertical-align: middle;\n",
       "    }\n",
       "\n",
       "    .dataframe tbody tr th {\n",
       "        vertical-align: top;\n",
       "    }\n",
       "\n",
       "    .dataframe thead th {\n",
       "        text-align: right;\n",
       "    }\n",
       "</style>\n",
       "<table border=\"1\" class=\"dataframe\">\n",
       "  <thead>\n",
       "    <tr style=\"text-align: right;\">\n",
       "      <th></th>\n",
       "      <th>DeviceProtection</th>\n",
       "    </tr>\n",
       "  </thead>\n",
       "  <tbody>\n",
       "    <tr>\n",
       "      <th>0</th>\n",
       "      <td>0.439443</td>\n",
       "    </tr>\n",
       "    <tr>\n",
       "      <th>1</th>\n",
       "      <td>0.343888</td>\n",
       "    </tr>\n",
       "    <tr>\n",
       "      <th>2</th>\n",
       "      <td>0.216669</td>\n",
       "    </tr>\n",
       "  </tbody>\n",
       "</table>\n",
       "</div>"
      ],
      "text/plain": [
       "   DeviceProtection\n",
       "0          0.439443\n",
       "1          0.343888\n",
       "2          0.216669"
      ]
     },
     "execution_count": 80,
     "metadata": {},
     "output_type": "execute_result"
    }
   ],
   "source": [
    "df.DeviceProtection.value_counts(normalize=True).to_frame()"
   ]
  },
  {
   "cell_type": "code",
   "execution_count": 81,
   "metadata": {},
   "outputs": [
    {
     "data": {
      "text/html": [
       "<div>\n",
       "<style scoped>\n",
       "    .dataframe tbody tr th:only-of-type {\n",
       "        vertical-align: middle;\n",
       "    }\n",
       "\n",
       "    .dataframe tbody tr th {\n",
       "        vertical-align: top;\n",
       "    }\n",
       "\n",
       "    .dataframe thead th {\n",
       "        text-align: right;\n",
       "    }\n",
       "</style>\n",
       "<table border=\"1\" class=\"dataframe\">\n",
       "  <thead>\n",
       "    <tr style=\"text-align: right;\">\n",
       "      <th></th>\n",
       "      <th>Churn</th>\n",
       "    </tr>\n",
       "    <tr>\n",
       "      <th>DeviceProtection</th>\n",
       "      <th></th>\n",
       "    </tr>\n",
       "  </thead>\n",
       "  <tbody>\n",
       "    <tr>\n",
       "      <th>0</th>\n",
       "      <td>0.391276</td>\n",
       "    </tr>\n",
       "    <tr>\n",
       "      <th>1</th>\n",
       "      <td>0.225021</td>\n",
       "    </tr>\n",
       "    <tr>\n",
       "      <th>2</th>\n",
       "      <td>0.074050</td>\n",
       "    </tr>\n",
       "  </tbody>\n",
       "</table>\n",
       "</div>"
      ],
      "text/plain": [
       "                     Churn\n",
       "DeviceProtection          \n",
       "0                 0.391276\n",
       "1                 0.225021\n",
       "2                 0.074050"
      ]
     },
     "execution_count": 81,
     "metadata": {},
     "output_type": "execute_result"
    }
   ],
   "source": [
    "df.groupby(df.DeviceProtection).Churn.mean().to_frame()"
   ]
  },
  {
   "cell_type": "code",
   "execution_count": 82,
   "metadata": {},
   "outputs": [
    {
     "data": {
      "text/plain": [
       "<matplotlib.axes._subplots.AxesSubplot at 0x24e44832fd0>"
      ]
     },
     "execution_count": 82,
     "metadata": {},
     "output_type": "execute_result"
    },
    {
     "data": {
      "image/png": "[encoded data removed]",
      "text/plain": [
       "<Figure size 720x360 with 2 Axes>"
      ]
     },
     "metadata": {
      "needs_background": "light"
     },
     "output_type": "display_data"
    }
   ],
   "source": [
    "fig, (ax1,ax2) = plt.subplots(1,2, figsize=(10,5))\n",
    "ax1.set_title('DeviceProtection count')\n",
    "ax2.set_title('Churn vs DeviceProtection')\n",
    "sns.countplot(df.DeviceProtection, ax=ax1)\n",
    "sns.barplot(df.DeviceProtection, df.Churn, ax=ax2)"
   ]
  },
  {
   "cell_type": "markdown",
   "metadata": {},
   "source": [
    "### TechSupport"
   ]
  },
  {
   "cell_type": "code",
   "execution_count": 83,
   "metadata": {},
   "outputs": [
    {
     "data": {
      "text/html": [
       "<div>\n",
       "<style scoped>\n",
       "    .dataframe tbody tr th:only-of-type {\n",
       "        vertical-align: middle;\n",
       "    }\n",
       "\n",
       "    .dataframe tbody tr th {\n",
       "        vertical-align: top;\n",
       "    }\n",
       "\n",
       "    .dataframe thead th {\n",
       "        text-align: right;\n",
       "    }\n",
       "</style>\n",
       "<table border=\"1\" class=\"dataframe\">\n",
       "  <thead>\n",
       "    <tr style=\"text-align: right;\">\n",
       "      <th></th>\n",
       "      <th>TechSupport</th>\n",
       "    </tr>\n",
       "  </thead>\n",
       "  <tbody>\n",
       "    <tr>\n",
       "      <th>0</th>\n",
       "      <td>0.493114</td>\n",
       "    </tr>\n",
       "    <tr>\n",
       "      <th>1</th>\n",
       "      <td>0.290217</td>\n",
       "    </tr>\n",
       "    <tr>\n",
       "      <th>2</th>\n",
       "      <td>0.216669</td>\n",
       "    </tr>\n",
       "  </tbody>\n",
       "</table>\n",
       "</div>"
      ],
      "text/plain": [
       "   TechSupport\n",
       "0     0.493114\n",
       "1     0.290217\n",
       "2     0.216669"
      ]
     },
     "execution_count": 83,
     "metadata": {},
     "output_type": "execute_result"
    }
   ],
   "source": [
    "df.TechSupport.value_counts(normalize=True).to_frame()"
   ]
  },
  {
   "cell_type": "code",
   "execution_count": 84,
   "metadata": {},
   "outputs": [
    {
     "data": {
      "text/html": [
       "<div>\n",
       "<style scoped>\n",
       "    .dataframe tbody tr th:only-of-type {\n",
       "        vertical-align: middle;\n",
       "    }\n",
       "\n",
       "    .dataframe tbody tr th {\n",
       "        vertical-align: top;\n",
       "    }\n",
       "\n",
       "    .dataframe thead th {\n",
       "        text-align: right;\n",
       "    }\n",
       "</style>\n",
       "<table border=\"1\" class=\"dataframe\">\n",
       "  <thead>\n",
       "    <tr style=\"text-align: right;\">\n",
       "      <th></th>\n",
       "      <th>Churn</th>\n",
       "    </tr>\n",
       "    <tr>\n",
       "      <th>TechSupport</th>\n",
       "      <th></th>\n",
       "    </tr>\n",
       "  </thead>\n",
       "  <tbody>\n",
       "    <tr>\n",
       "      <th>0</th>\n",
       "      <td>0.416355</td>\n",
       "    </tr>\n",
       "    <tr>\n",
       "      <th>1</th>\n",
       "      <td>0.151663</td>\n",
       "    </tr>\n",
       "    <tr>\n",
       "      <th>2</th>\n",
       "      <td>0.074050</td>\n",
       "    </tr>\n",
       "  </tbody>\n",
       "</table>\n",
       "</div>"
      ],
      "text/plain": [
       "                Churn\n",
       "TechSupport          \n",
       "0            0.416355\n",
       "1            0.151663\n",
       "2            0.074050"
      ]
     },
     "execution_count": 84,
     "metadata": {},
     "output_type": "execute_result"
    }
   ],
   "source": [
    "df.groupby(df.TechSupport).Churn.mean().to_frame()"
   ]
  },
  {
   "cell_type": "code",
   "execution_count": 85,
   "metadata": {},
   "outputs": [
    {
     "data": {
      "text/plain": [
       "<matplotlib.axes._subplots.AxesSubplot at 0x24e3d04b760>"
      ]
     },
     "execution_count": 85,
     "metadata": {},
     "output_type": "execute_result"
    },
    {
     "data": {
      "image/png": "[encoded data removed]",
      "text/plain": [
       "<Figure size 720x360 with 2 Axes>"
      ]
     },
     "metadata": {
      "needs_background": "light"
     },
     "output_type": "display_data"
    }
   ],
   "source": [
    "fig, (ax1,ax2) = plt.subplots(1,2, figsize=(10,5))\n",
    "ax1.set_title('TechSupport count')\n",
    "ax2.set_title('Churn vs TechSupport')\n",
    "sns.countplot(df.TechSupport, ax=ax1)\n",
    "sns.barplot(df.TechSupport, df.Churn, ax=ax2)"
   ]
  },
  {
   "cell_type": "markdown",
   "metadata": {},
   "source": [
    "### StreamingTV"
   ]
  },
  {
   "cell_type": "code",
   "execution_count": 86,
   "metadata": {},
   "outputs": [
    {
     "data": {
      "text/html": [
       "<div>\n",
       "<style scoped>\n",
       "    .dataframe tbody tr th:only-of-type {\n",
       "        vertical-align: middle;\n",
       "    }\n",
       "\n",
       "    .dataframe tbody tr th {\n",
       "        vertical-align: top;\n",
       "    }\n",
       "\n",
       "    .dataframe thead th {\n",
       "        text-align: right;\n",
       "    }\n",
       "</style>\n",
       "<table border=\"1\" class=\"dataframe\">\n",
       "  <thead>\n",
       "    <tr style=\"text-align: right;\">\n",
       "      <th></th>\n",
       "      <th>StreamingTV</th>\n",
       "    </tr>\n",
       "  </thead>\n",
       "  <tbody>\n",
       "    <tr>\n",
       "      <th>0</th>\n",
       "      <td>0.398978</td>\n",
       "    </tr>\n",
       "    <tr>\n",
       "      <th>1</th>\n",
       "      <td>0.384353</td>\n",
       "    </tr>\n",
       "    <tr>\n",
       "      <th>2</th>\n",
       "      <td>0.216669</td>\n",
       "    </tr>\n",
       "  </tbody>\n",
       "</table>\n",
       "</div>"
      ],
      "text/plain": [
       "   StreamingTV\n",
       "0     0.398978\n",
       "1     0.384353\n",
       "2     0.216669"
      ]
     },
     "execution_count": 86,
     "metadata": {},
     "output_type": "execute_result"
    }
   ],
   "source": [
    "df.StreamingTV.value_counts(normalize=True).to_frame()"
   ]
  },
  {
   "cell_type": "code",
   "execution_count": 87,
   "metadata": {},
   "outputs": [
    {
     "data": {
      "text/html": [
       "<div>\n",
       "<style scoped>\n",
       "    .dataframe tbody tr th:only-of-type {\n",
       "        vertical-align: middle;\n",
       "    }\n",
       "\n",
       "    .dataframe tbody tr th {\n",
       "        vertical-align: top;\n",
       "    }\n",
       "\n",
       "    .dataframe thead th {\n",
       "        text-align: right;\n",
       "    }\n",
       "</style>\n",
       "<table border=\"1\" class=\"dataframe\">\n",
       "  <thead>\n",
       "    <tr style=\"text-align: right;\">\n",
       "      <th></th>\n",
       "      <th>Churn</th>\n",
       "    </tr>\n",
       "    <tr>\n",
       "      <th>StreamingTV</th>\n",
       "      <th></th>\n",
       "    </tr>\n",
       "  </thead>\n",
       "  <tbody>\n",
       "    <tr>\n",
       "      <th>0</th>\n",
       "      <td>0.335231</td>\n",
       "    </tr>\n",
       "    <tr>\n",
       "      <th>1</th>\n",
       "      <td>0.300702</td>\n",
       "    </tr>\n",
       "    <tr>\n",
       "      <th>2</th>\n",
       "      <td>0.074050</td>\n",
       "    </tr>\n",
       "  </tbody>\n",
       "</table>\n",
       "</div>"
      ],
      "text/plain": [
       "                Churn\n",
       "StreamingTV          \n",
       "0            0.335231\n",
       "1            0.300702\n",
       "2            0.074050"
      ]
     },
     "execution_count": 87,
     "metadata": {},
     "output_type": "execute_result"
    }
   ],
   "source": [
    "df.groupby(df.StreamingTV).Churn.mean().to_frame()"
   ]
  },
  {
   "cell_type": "code",
   "execution_count": 88,
   "metadata": {},
   "outputs": [
    {
     "data": {
      "text/plain": [
       "<matplotlib.axes._subplots.AxesSubplot at 0x24e4440dd30>"
      ]
     },
     "execution_count": 88,
     "metadata": {},
     "output_type": "execute_result"
    },
    {
     "data": {
      "image/png": "[encoded data removed]",
      "text/plain": [
       "<Figure size 720x360 with 2 Axes>"
      ]
     },
     "metadata": {
      "needs_background": "light"
     },
     "output_type": "display_data"
    }
   ],
   "source": [
    "fig, (ax1,ax2) = plt.subplots(1,2, figsize=(10,5))\n",
    "ax1.set_title('StreamingTV count')\n",
    "ax2.set_title('Churn vs StreamingTV')\n",
    "sns.countplot(df.StreamingTV, ax=ax1)\n",
    "sns.barplot(df.StreamingTV, df.Churn, ax=ax2)"
   ]
  },
  {
   "cell_type": "markdown",
   "metadata": {},
   "source": [
    "### StreamingMovies"
   ]
  },
  {
   "cell_type": "code",
   "execution_count": 89,
   "metadata": {},
   "outputs": [
    {
     "data": {
      "text/html": [
       "<div>\n",
       "<style scoped>\n",
       "    .dataframe tbody tr th:only-of-type {\n",
       "        vertical-align: middle;\n",
       "    }\n",
       "\n",
       "    .dataframe tbody tr th {\n",
       "        vertical-align: top;\n",
       "    }\n",
       "\n",
       "    .dataframe thead th {\n",
       "        text-align: right;\n",
       "    }\n",
       "</style>\n",
       "<table border=\"1\" class=\"dataframe\">\n",
       "  <thead>\n",
       "    <tr style=\"text-align: right;\">\n",
       "      <th></th>\n",
       "      <th>StreamingMovies</th>\n",
       "    </tr>\n",
       "  </thead>\n",
       "  <tbody>\n",
       "    <tr>\n",
       "      <th>0</th>\n",
       "      <td>0.395428</td>\n",
       "    </tr>\n",
       "    <tr>\n",
       "      <th>1</th>\n",
       "      <td>0.387903</td>\n",
       "    </tr>\n",
       "    <tr>\n",
       "      <th>2</th>\n",
       "      <td>0.216669</td>\n",
       "    </tr>\n",
       "  </tbody>\n",
       "</table>\n",
       "</div>"
      ],
      "text/plain": [
       "   StreamingMovies\n",
       "0         0.395428\n",
       "1         0.387903\n",
       "2         0.216669"
      ]
     },
     "execution_count": 89,
     "metadata": {},
     "output_type": "execute_result"
    }
   ],
   "source": [
    "df.StreamingMovies.value_counts(normalize=True).to_frame()"
   ]
  },
  {
   "cell_type": "code",
   "execution_count": 90,
   "metadata": {},
   "outputs": [
    {
     "data": {
      "text/html": [
       "<div>\n",
       "<style scoped>\n",
       "    .dataframe tbody tr th:only-of-type {\n",
       "        vertical-align: middle;\n",
       "    }\n",
       "\n",
       "    .dataframe tbody tr th {\n",
       "        vertical-align: top;\n",
       "    }\n",
       "\n",
       "    .dataframe thead th {\n",
       "        text-align: right;\n",
       "    }\n",
       "</style>\n",
       "<table border=\"1\" class=\"dataframe\">\n",
       "  <thead>\n",
       "    <tr style=\"text-align: right;\">\n",
       "      <th></th>\n",
       "      <th>Churn</th>\n",
       "    </tr>\n",
       "    <tr>\n",
       "      <th>StreamingMovies</th>\n",
       "      <th></th>\n",
       "    </tr>\n",
       "  </thead>\n",
       "  <tbody>\n",
       "    <tr>\n",
       "      <th>0</th>\n",
       "      <td>0.336804</td>\n",
       "    </tr>\n",
       "    <tr>\n",
       "      <th>1</th>\n",
       "      <td>0.299414</td>\n",
       "    </tr>\n",
       "    <tr>\n",
       "      <th>2</th>\n",
       "      <td>0.074050</td>\n",
       "    </tr>\n",
       "  </tbody>\n",
       "</table>\n",
       "</div>"
      ],
      "text/plain": [
       "                    Churn\n",
       "StreamingMovies          \n",
       "0                0.336804\n",
       "1                0.299414\n",
       "2                0.074050"
      ]
     },
     "execution_count": 90,
     "metadata": {},
     "output_type": "execute_result"
    }
   ],
   "source": [
    "df.groupby(df.StreamingMovies).Churn.mean().to_frame()"
   ]
  },
  {
   "cell_type": "code",
   "execution_count": 91,
   "metadata": {},
   "outputs": [
    {
     "data": {
      "text/plain": [
       "<matplotlib.axes._subplots.AxesSubplot at 0x24e4424ce50>"
      ]
     },
     "execution_count": 91,
     "metadata": {},
     "output_type": "execute_result"
    },
    {
     "data": {
      "image/png": "[encoded data removed]",
      "text/plain": [
       "<Figure size 720x360 with 2 Axes>"
      ]
     },
     "metadata": {
      "needs_background": "light"
     },
     "output_type": "display_data"
    }
   ],
   "source": [
    "fig, (ax1,ax2) = plt.subplots(1,2, figsize=(10,5))\n",
    "ax1.set_title('StreamingMovies count')\n",
    "ax2.set_title('Churn vs StreamingMovies')\n",
    "sns.countplot(df.StreamingMovies, ax=ax1)\n",
    "sns.barplot(df.StreamingMovies, df.Churn, ax=ax2)"
   ]
  },
  {
   "cell_type": "markdown",
   "metadata": {},
   "source": [
    "### Contract"
   ]
  },
  {
   "cell_type": "code",
   "execution_count": 92,
   "metadata": {},
   "outputs": [
    {
     "data": {
      "text/html": [
       "<div>\n",
       "<style scoped>\n",
       "    .dataframe tbody tr th:only-of-type {\n",
       "        vertical-align: middle;\n",
       "    }\n",
       "\n",
       "    .dataframe tbody tr th {\n",
       "        vertical-align: top;\n",
       "    }\n",
       "\n",
       "    .dataframe thead th {\n",
       "        text-align: right;\n",
       "    }\n",
       "</style>\n",
       "<table border=\"1\" class=\"dataframe\">\n",
       "  <thead>\n",
       "    <tr style=\"text-align: right;\">\n",
       "      <th></th>\n",
       "      <th>Contract</th>\n",
       "    </tr>\n",
       "  </thead>\n",
       "  <tbody>\n",
       "    <tr>\n",
       "      <th>0</th>\n",
       "      <td>0.550192</td>\n",
       "    </tr>\n",
       "    <tr>\n",
       "      <th>1</th>\n",
       "      <td>0.240664</td>\n",
       "    </tr>\n",
       "    <tr>\n",
       "      <th>2</th>\n",
       "      <td>0.209144</td>\n",
       "    </tr>\n",
       "  </tbody>\n",
       "</table>\n",
       "</div>"
      ],
      "text/plain": [
       "   Contract\n",
       "0  0.550192\n",
       "1  0.240664\n",
       "2  0.209144"
      ]
     },
     "execution_count": 92,
     "metadata": {},
     "output_type": "execute_result"
    }
   ],
   "source": [
    "df.Contract.value_counts(normalize=True).to_frame()"
   ]
  },
  {
   "cell_type": "code",
   "execution_count": 93,
   "metadata": {},
   "outputs": [
    {
     "data": {
      "text/html": [
       "<div>\n",
       "<style scoped>\n",
       "    .dataframe tbody tr th:only-of-type {\n",
       "        vertical-align: middle;\n",
       "    }\n",
       "\n",
       "    .dataframe tbody tr th {\n",
       "        vertical-align: top;\n",
       "    }\n",
       "\n",
       "    .dataframe thead th {\n",
       "        text-align: right;\n",
       "    }\n",
       "</style>\n",
       "<table border=\"1\" class=\"dataframe\">\n",
       "  <thead>\n",
       "    <tr style=\"text-align: right;\">\n",
       "      <th></th>\n",
       "      <th>Churn</th>\n",
       "    </tr>\n",
       "    <tr>\n",
       "      <th>Contract</th>\n",
       "      <th></th>\n",
       "    </tr>\n",
       "  </thead>\n",
       "  <tbody>\n",
       "    <tr>\n",
       "      <th>0</th>\n",
       "      <td>0.427097</td>\n",
       "    </tr>\n",
       "    <tr>\n",
       "      <th>1</th>\n",
       "      <td>0.028319</td>\n",
       "    </tr>\n",
       "    <tr>\n",
       "      <th>2</th>\n",
       "      <td>0.112695</td>\n",
       "    </tr>\n",
       "  </tbody>\n",
       "</table>\n",
       "</div>"
      ],
      "text/plain": [
       "             Churn\n",
       "Contract          \n",
       "0         0.427097\n",
       "1         0.028319\n",
       "2         0.112695"
      ]
     },
     "execution_count": 93,
     "metadata": {},
     "output_type": "execute_result"
    }
   ],
   "source": [
    "df.groupby(df.Contract).Churn.mean().to_frame()"
   ]
  },
  {
   "cell_type": "code",
   "execution_count": 94,
   "metadata": {},
   "outputs": [
    {
     "data": {
      "text/plain": [
       "<matplotlib.axes._subplots.AxesSubplot at 0x24e448ef8e0>"
      ]
     },
     "execution_count": 94,
     "metadata": {},
     "output_type": "execute_result"
    },
    {
     "data": {
      "image/png": "[encoded data removed]",
      "text/plain": [
       "<Figure size 720x360 with 2 Axes>"
      ]
     },
     "metadata": {
      "needs_background": "light"
     },
     "output_type": "display_data"
    }
   ],
   "source": [
    "fig, (ax1,ax2) = plt.subplots(1,2, figsize=(10,5))\n",
    "ax1.set_title('Contract count')\n",
    "ax2.set_title('Churn vs Contract')\n",
    "sns.countplot(df.Contract, ax=ax1)\n",
    "sns.barplot(df.Contract, df.Churn, ax=ax2)"
   ]
  },
  {
   "cell_type": "markdown",
   "metadata": {},
   "source": [
    "### PaperlessBilling"
   ]
  },
  {
   "cell_type": "code",
   "execution_count": 95,
   "metadata": {},
   "outputs": [
    {
     "data": {
      "text/html": [
       "<div>\n",
       "<style scoped>\n",
       "    .dataframe tbody tr th:only-of-type {\n",
       "        vertical-align: middle;\n",
       "    }\n",
       "\n",
       "    .dataframe tbody tr th {\n",
       "        vertical-align: top;\n",
       "    }\n",
       "\n",
       "    .dataframe thead th {\n",
       "        text-align: right;\n",
       "    }\n",
       "</style>\n",
       "<table border=\"1\" class=\"dataframe\">\n",
       "  <thead>\n",
       "    <tr style=\"text-align: right;\">\n",
       "      <th></th>\n",
       "      <th>PaperlessBilling</th>\n",
       "    </tr>\n",
       "  </thead>\n",
       "  <tbody>\n",
       "    <tr>\n",
       "      <th>1</th>\n",
       "      <td>0.592219</td>\n",
       "    </tr>\n",
       "    <tr>\n",
       "      <th>0</th>\n",
       "      <td>0.407781</td>\n",
       "    </tr>\n",
       "  </tbody>\n",
       "</table>\n",
       "</div>"
      ],
      "text/plain": [
       "   PaperlessBilling\n",
       "1          0.592219\n",
       "0          0.407781"
      ]
     },
     "execution_count": 95,
     "metadata": {},
     "output_type": "execute_result"
    }
   ],
   "source": [
    "df.PaperlessBilling.value_counts(normalize=True).to_frame()"
   ]
  },
  {
   "cell_type": "code",
   "execution_count": 96,
   "metadata": {},
   "outputs": [
    {
     "data": {
      "text/html": [
       "<div>\n",
       "<style scoped>\n",
       "    .dataframe tbody tr th:only-of-type {\n",
       "        vertical-align: middle;\n",
       "    }\n",
       "\n",
       "    .dataframe tbody tr th {\n",
       "        vertical-align: top;\n",
       "    }\n",
       "\n",
       "    .dataframe thead th {\n",
       "        text-align: right;\n",
       "    }\n",
       "</style>\n",
       "<table border=\"1\" class=\"dataframe\">\n",
       "  <thead>\n",
       "    <tr style=\"text-align: right;\">\n",
       "      <th></th>\n",
       "      <th>Churn</th>\n",
       "    </tr>\n",
       "    <tr>\n",
       "      <th>PaperlessBilling</th>\n",
       "      <th></th>\n",
       "    </tr>\n",
       "  </thead>\n",
       "  <tbody>\n",
       "    <tr>\n",
       "      <th>0</th>\n",
       "      <td>0.163301</td>\n",
       "    </tr>\n",
       "    <tr>\n",
       "      <th>1</th>\n",
       "      <td>0.335651</td>\n",
       "    </tr>\n",
       "  </tbody>\n",
       "</table>\n",
       "</div>"
      ],
      "text/plain": [
       "                     Churn\n",
       "PaperlessBilling          \n",
       "0                 0.163301\n",
       "1                 0.335651"
      ]
     },
     "execution_count": 96,
     "metadata": {},
     "output_type": "execute_result"
    }
   ],
   "source": [
    "df.groupby(df.PaperlessBilling).Churn.mean().to_frame()"
   ]
  },
  {
   "cell_type": "code",
   "execution_count": 97,
   "metadata": {},
   "outputs": [
    {
     "data": {
      "text/plain": [
       "<matplotlib.axes._subplots.AxesSubplot at 0x24e449984c0>"
      ]
     },
     "execution_count": 97,
     "metadata": {},
     "output_type": "execute_result"
    },
    {
     "data": {
      "image/png": "[encoded data removed]",
      "text/plain": [
       "<Figure size 720x360 with 2 Axes>"
      ]
     },
     "metadata": {
      "needs_background": "light"
     },
     "output_type": "display_data"
    }
   ],
   "source": [
    "fig, (ax1,ax2) = plt.subplots(1,2, figsize=(10,5))\n",
    "ax1.set_title('PaperlessBilling count')\n",
    "ax2.set_title('Churn vs PaperlessBilling')\n",
    "sns.countplot(df.PaperlessBilling, ax=ax1)\n",
    "sns.barplot(df.PaperlessBilling, df.Churn, ax=ax2)"
   ]
  },
  {
   "cell_type": "markdown",
   "metadata": {},
   "source": [
    "### PaymentMethod"
   ]
  },
  {
   "cell_type": "code",
   "execution_count": 98,
   "metadata": {},
   "outputs": [
    {
     "data": {
      "text/html": [
       "<div>\n",
       "<style scoped>\n",
       "    .dataframe tbody tr th:only-of-type {\n",
       "        vertical-align: middle;\n",
       "    }\n",
       "\n",
       "    .dataframe tbody tr th {\n",
       "        vertical-align: top;\n",
       "    }\n",
       "\n",
       "    .dataframe thead th {\n",
       "        text-align: right;\n",
       "    }\n",
       "</style>\n",
       "<table border=\"1\" class=\"dataframe\">\n",
       "  <thead>\n",
       "    <tr style=\"text-align: right;\">\n",
       "      <th></th>\n",
       "      <th>PaymentMethod</th>\n",
       "    </tr>\n",
       "  </thead>\n",
       "  <tbody>\n",
       "    <tr>\n",
       "      <th>0</th>\n",
       "      <td>0.335794</td>\n",
       "    </tr>\n",
       "    <tr>\n",
       "      <th>1</th>\n",
       "      <td>0.228880</td>\n",
       "    </tr>\n",
       "    <tr>\n",
       "      <th>2</th>\n",
       "      <td>0.219225</td>\n",
       "    </tr>\n",
       "    <tr>\n",
       "      <th>3</th>\n",
       "      <td>0.216101</td>\n",
       "    </tr>\n",
       "  </tbody>\n",
       "</table>\n",
       "</div>"
      ],
      "text/plain": [
       "   PaymentMethod\n",
       "0       0.335794\n",
       "1       0.228880\n",
       "2       0.219225\n",
       "3       0.216101"
      ]
     },
     "execution_count": 98,
     "metadata": {},
     "output_type": "execute_result"
    }
   ],
   "source": [
    "df.PaymentMethod.value_counts(normalize=True).to_frame()"
   ]
  },
  {
   "cell_type": "code",
   "execution_count": 99,
   "metadata": {},
   "outputs": [
    {
     "data": {
      "text/html": [
       "<div>\n",
       "<style scoped>\n",
       "    .dataframe tbody tr th:only-of-type {\n",
       "        vertical-align: middle;\n",
       "    }\n",
       "\n",
       "    .dataframe tbody tr th {\n",
       "        vertical-align: top;\n",
       "    }\n",
       "\n",
       "    .dataframe thead th {\n",
       "        text-align: right;\n",
       "    }\n",
       "</style>\n",
       "<table border=\"1\" class=\"dataframe\">\n",
       "  <thead>\n",
       "    <tr style=\"text-align: right;\">\n",
       "      <th></th>\n",
       "      <th>Churn</th>\n",
       "    </tr>\n",
       "    <tr>\n",
       "      <th>PaymentMethod</th>\n",
       "      <th></th>\n",
       "    </tr>\n",
       "  </thead>\n",
       "  <tbody>\n",
       "    <tr>\n",
       "      <th>0</th>\n",
       "      <td>0.452854</td>\n",
       "    </tr>\n",
       "    <tr>\n",
       "      <th>1</th>\n",
       "      <td>0.191067</td>\n",
       "    </tr>\n",
       "    <tr>\n",
       "      <th>2</th>\n",
       "      <td>0.167098</td>\n",
       "    </tr>\n",
       "    <tr>\n",
       "      <th>3</th>\n",
       "      <td>0.152431</td>\n",
       "    </tr>\n",
       "  </tbody>\n",
       "</table>\n",
       "</div>"
      ],
      "text/plain": [
       "                  Churn\n",
       "PaymentMethod          \n",
       "0              0.452854\n",
       "1              0.191067\n",
       "2              0.167098\n",
       "3              0.152431"
      ]
     },
     "execution_count": 99,
     "metadata": {},
     "output_type": "execute_result"
    }
   ],
   "source": [
    "df.groupby(df.PaymentMethod).Churn.mean().to_frame()"
   ]
  },
  {
   "cell_type": "code",
   "execution_count": 100,
   "metadata": {},
   "outputs": [
    {
     "data": {
      "text/plain": [
       "<matplotlib.axes._subplots.AxesSubplot at 0x24e45a05a30>"
      ]
     },
     "execution_count": 100,
     "metadata": {},
     "output_type": "execute_result"
    },
    {
     "data": {
      "image/png": "[encoded data removed]",
      "text/plain": [
       "<Figure size 720x360 with 2 Axes>"
      ]
     },
     "metadata": {
      "needs_background": "light"
     },
     "output_type": "display_data"
    }
   ],
   "source": [
    "fig, (ax1,ax2) = plt.subplots(1,2, figsize=(10,5))\n",
    "ax1.set_title('PaymentMethod count')\n",
    "ax2.set_title('Churn vs PaymentMethod')\n",
    "sns.countplot(df.PaymentMethod, ax=ax1)\n",
    "sns.barplot(df.PaymentMethod, df.Churn, ax=ax2)"
   ]
  },
  {
   "cell_type": "code",
   "execution_count": 101,
   "metadata": {},
   "outputs": [
    {
     "data": {
      "text/html": [
       "<div>\n",
       "<style scoped>\n",
       "    .dataframe tbody tr th:only-of-type {\n",
       "        vertical-align: middle;\n",
       "    }\n",
       "\n",
       "    .dataframe tbody tr th {\n",
       "        vertical-align: top;\n",
       "    }\n",
       "\n",
       "    .dataframe thead th {\n",
       "        text-align: right;\n",
       "    }\n",
       "</style>\n",
       "<table border=\"1\" class=\"dataframe\">\n",
       "  <thead>\n",
       "    <tr style=\"text-align: right;\">\n",
       "      <th></th>\n",
       "      <th>gender</th>\n",
       "      <th>SeniorCitizen</th>\n",
       "      <th>Partner</th>\n",
       "      <th>Dependents</th>\n",
       "      <th>tenure</th>\n",
       "      <th>PhoneService</th>\n",
       "      <th>MultipleLines</th>\n",
       "      <th>InternetService</th>\n",
       "      <th>OnlineSecurity</th>\n",
       "      <th>OnlineBackup</th>\n",
       "      <th>DeviceProtection</th>\n",
       "      <th>TechSupport</th>\n",
       "      <th>StreamingTV</th>\n",
       "      <th>StreamingMovies</th>\n",
       "      <th>Contract</th>\n",
       "      <th>PaperlessBilling</th>\n",
       "      <th>PaymentMethod</th>\n",
       "      <th>MonthlyCharges</th>\n",
       "      <th>TotalCharges</th>\n",
       "      <th>Churn</th>\n",
       "    </tr>\n",
       "  </thead>\n",
       "  <tbody>\n",
       "    <tr>\n",
       "      <th>gender</th>\n",
       "      <td>1.000000</td>\n",
       "      <td>-0.001874</td>\n",
       "      <td>-0.001808</td>\n",
       "      <td>0.010517</td>\n",
       "      <td>0.005106</td>\n",
       "      <td>-0.006488</td>\n",
       "      <td>-0.000485</td>\n",
       "      <td>-0.010380</td>\n",
       "      <td>-0.003429</td>\n",
       "      <td>-0.002032</td>\n",
       "      <td>0.005092</td>\n",
       "      <td>0.000985</td>\n",
       "      <td>0.001156</td>\n",
       "      <td>-0.000191</td>\n",
       "      <td>0.006171</td>\n",
       "      <td>-0.011754</td>\n",
       "      <td>-0.005209</td>\n",
       "      <td>-0.014569</td>\n",
       "      <td>0.000048</td>\n",
       "      <td>-0.008612</td>\n",
       "    </tr>\n",
       "    <tr>\n",
       "      <th>SeniorCitizen</th>\n",
       "      <td>-0.001874</td>\n",
       "      <td>1.000000</td>\n",
       "      <td>0.016479</td>\n",
       "      <td>-0.211185</td>\n",
       "      <td>0.016567</td>\n",
       "      <td>0.008576</td>\n",
       "      <td>0.099883</td>\n",
       "      <td>0.259390</td>\n",
       "      <td>-0.210897</td>\n",
       "      <td>-0.152780</td>\n",
       "      <td>-0.157095</td>\n",
       "      <td>-0.223770</td>\n",
       "      <td>-0.130130</td>\n",
       "      <td>-0.120802</td>\n",
       "      <td>-0.109299</td>\n",
       "      <td>0.156530</td>\n",
       "      <td>-0.093704</td>\n",
       "      <td>0.220173</td>\n",
       "      <td>0.102411</td>\n",
       "      <td>0.150889</td>\n",
       "    </tr>\n",
       "    <tr>\n",
       "      <th>Partner</th>\n",
       "      <td>-0.001808</td>\n",
       "      <td>0.016479</td>\n",
       "      <td>1.000000</td>\n",
       "      <td>0.452676</td>\n",
       "      <td>0.379697</td>\n",
       "      <td>0.017706</td>\n",
       "      <td>0.090981</td>\n",
       "      <td>-0.000132</td>\n",
       "      <td>0.081850</td>\n",
       "      <td>0.087055</td>\n",
       "      <td>0.094451</td>\n",
       "      <td>0.069072</td>\n",
       "      <td>0.080127</td>\n",
       "      <td>0.075779</td>\n",
       "      <td>0.216229</td>\n",
       "      <td>-0.014877</td>\n",
       "      <td>0.133115</td>\n",
       "      <td>0.096848</td>\n",
       "      <td>0.319072</td>\n",
       "      <td>-0.150448</td>\n",
       "    </tr>\n",
       "    <tr>\n",
       "      <th>Dependents</th>\n",
       "      <td>0.010517</td>\n",
       "      <td>-0.211185</td>\n",
       "      <td>0.452676</td>\n",
       "      <td>1.000000</td>\n",
       "      <td>0.159712</td>\n",
       "      <td>-0.001762</td>\n",
       "      <td>-0.016875</td>\n",
       "      <td>-0.179631</td>\n",
       "      <td>0.190523</td>\n",
       "      <td>0.162445</td>\n",
       "      <td>0.156439</td>\n",
       "      <td>0.180832</td>\n",
       "      <td>0.140395</td>\n",
       "      <td>0.125820</td>\n",
       "      <td>0.178429</td>\n",
       "      <td>-0.111377</td>\n",
       "      <td>0.123844</td>\n",
       "      <td>-0.113890</td>\n",
       "      <td>0.064653</td>\n",
       "      <td>-0.164221</td>\n",
       "    </tr>\n",
       "    <tr>\n",
       "      <th>tenure</th>\n",
       "      <td>0.005106</td>\n",
       "      <td>0.016567</td>\n",
       "      <td>0.379697</td>\n",
       "      <td>0.159712</td>\n",
       "      <td>1.000000</td>\n",
       "      <td>0.008448</td>\n",
       "      <td>0.242279</td>\n",
       "      <td>0.033230</td>\n",
       "      <td>0.145298</td>\n",
       "      <td>0.178651</td>\n",
       "      <td>0.178649</td>\n",
       "      <td>0.144459</td>\n",
       "      <td>0.136145</td>\n",
       "      <td>0.140781</td>\n",
       "      <td>0.503232</td>\n",
       "      <td>0.006152</td>\n",
       "      <td>0.340305</td>\n",
       "      <td>0.247900</td>\n",
       "      <td>0.825880</td>\n",
       "      <td>-0.352229</td>\n",
       "    </tr>\n",
       "    <tr>\n",
       "      <th>PhoneService</th>\n",
       "      <td>-0.006488</td>\n",
       "      <td>0.008576</td>\n",
       "      <td>0.017706</td>\n",
       "      <td>-0.001762</td>\n",
       "      <td>0.008448</td>\n",
       "      <td>1.000000</td>\n",
       "      <td>-0.691070</td>\n",
       "      <td>0.093720</td>\n",
       "      <td>0.125353</td>\n",
       "      <td>0.150338</td>\n",
       "      <td>0.138755</td>\n",
       "      <td>0.123350</td>\n",
       "      <td>0.171538</td>\n",
       "      <td>0.165205</td>\n",
       "      <td>-0.000955</td>\n",
       "      <td>0.016505</td>\n",
       "      <td>-0.004070</td>\n",
       "      <td>0.247398</td>\n",
       "      <td>0.113008</td>\n",
       "      <td>0.011942</td>\n",
       "    </tr>\n",
       "    <tr>\n",
       "      <th>MultipleLines</th>\n",
       "      <td>-0.000485</td>\n",
       "      <td>0.099883</td>\n",
       "      <td>0.090981</td>\n",
       "      <td>-0.016875</td>\n",
       "      <td>0.242279</td>\n",
       "      <td>-0.691070</td>\n",
       "      <td>1.000000</td>\n",
       "      <td>0.174989</td>\n",
       "      <td>-0.235021</td>\n",
       "      <td>-0.210372</td>\n",
       "      <td>-0.200463</td>\n",
       "      <td>-0.232155</td>\n",
       "      <td>-0.202414</td>\n",
       "      <td>-0.195815</td>\n",
       "      <td>0.040607</td>\n",
       "      <td>0.108230</td>\n",
       "      <td>0.030659</td>\n",
       "      <td>0.146153</td>\n",
       "      <td>0.251357</td>\n",
       "      <td>0.019423</td>\n",
       "    </tr>\n",
       "    <tr>\n",
       "      <th>InternetService</th>\n",
       "      <td>-0.010380</td>\n",
       "      <td>0.259390</td>\n",
       "      <td>-0.000132</td>\n",
       "      <td>-0.179631</td>\n",
       "      <td>0.033230</td>\n",
       "      <td>0.093720</td>\n",
       "      <td>0.174989</td>\n",
       "      <td>1.000000</td>\n",
       "      <td>-0.764943</td>\n",
       "      <td>-0.686403</td>\n",
       "      <td>-0.682448</td>\n",
       "      <td>-0.760985</td>\n",
       "      <td>-0.617704</td>\n",
       "      <td>-0.620005</td>\n",
       "      <td>-0.203148</td>\n",
       "      <td>0.378108</td>\n",
       "      <td>-0.178137</td>\n",
       "      <td>0.905491</td>\n",
       "      <td>0.428212</td>\n",
       "      <td>0.316846</td>\n",
       "    </tr>\n",
       "    <tr>\n",
       "      <th>OnlineSecurity</th>\n",
       "      <td>-0.003429</td>\n",
       "      <td>-0.210897</td>\n",
       "      <td>0.081850</td>\n",
       "      <td>0.190523</td>\n",
       "      <td>0.145298</td>\n",
       "      <td>0.125353</td>\n",
       "      <td>-0.235021</td>\n",
       "      <td>-0.764943</td>\n",
       "      <td>1.000000</td>\n",
       "      <td>0.751661</td>\n",
       "      <td>0.749040</td>\n",
       "      <td>0.791225</td>\n",
       "      <td>0.701976</td>\n",
       "      <td>0.704984</td>\n",
       "      <td>0.275864</td>\n",
       "      <td>-0.334003</td>\n",
       "      <td>0.213800</td>\n",
       "      <td>-0.621227</td>\n",
       "      <td>-0.153234</td>\n",
       "      <td>-0.332819</td>\n",
       "    </tr>\n",
       "    <tr>\n",
       "      <th>OnlineBackup</th>\n",
       "      <td>-0.002032</td>\n",
       "      <td>-0.152780</td>\n",
       "      <td>0.087055</td>\n",
       "      <td>0.162445</td>\n",
       "      <td>0.178651</td>\n",
       "      <td>0.150338</td>\n",
       "      <td>-0.210372</td>\n",
       "      <td>-0.686403</td>\n",
       "      <td>0.751661</td>\n",
       "      <td>1.000000</td>\n",
       "      <td>0.740604</td>\n",
       "      <td>0.754095</td>\n",
       "      <td>0.720671</td>\n",
       "      <td>0.716700</td>\n",
       "      <td>0.252097</td>\n",
       "      <td>-0.262402</td>\n",
       "      <td>0.182909</td>\n",
       "      <td>-0.538454</td>\n",
       "      <td>-0.085017</td>\n",
       "      <td>-0.291449</td>\n",
       "    </tr>\n",
       "    <tr>\n",
       "      <th>DeviceProtection</th>\n",
       "      <td>0.005092</td>\n",
       "      <td>-0.157095</td>\n",
       "      <td>0.094451</td>\n",
       "      <td>0.156439</td>\n",
       "      <td>0.178649</td>\n",
       "      <td>0.138755</td>\n",
       "      <td>-0.200463</td>\n",
       "      <td>-0.682448</td>\n",
       "      <td>0.749040</td>\n",
       "      <td>0.740604</td>\n",
       "      <td>1.000000</td>\n",
       "      <td>0.767970</td>\n",
       "      <td>0.763279</td>\n",
       "      <td>0.766821</td>\n",
       "      <td>0.280997</td>\n",
       "      <td>-0.276326</td>\n",
       "      <td>0.191746</td>\n",
       "      <td>-0.513440</td>\n",
       "      <td>-0.077394</td>\n",
       "      <td>-0.281465</td>\n",
       "    </tr>\n",
       "    <tr>\n",
       "      <th>TechSupport</th>\n",
       "      <td>0.000985</td>\n",
       "      <td>-0.223770</td>\n",
       "      <td>0.069072</td>\n",
       "      <td>0.180832</td>\n",
       "      <td>0.144459</td>\n",
       "      <td>0.123350</td>\n",
       "      <td>-0.232155</td>\n",
       "      <td>-0.760985</td>\n",
       "      <td>0.791225</td>\n",
       "      <td>0.754095</td>\n",
       "      <td>0.767970</td>\n",
       "      <td>1.000000</td>\n",
       "      <td>0.737578</td>\n",
       "      <td>0.737123</td>\n",
       "      <td>0.289006</td>\n",
       "      <td>-0.310749</td>\n",
       "      <td>0.216878</td>\n",
       "      <td>-0.597594</td>\n",
       "      <td>-0.141011</td>\n",
       "      <td>-0.329852</td>\n",
       "    </tr>\n",
       "    <tr>\n",
       "      <th>StreamingTV</th>\n",
       "      <td>0.001156</td>\n",
       "      <td>-0.130130</td>\n",
       "      <td>0.080127</td>\n",
       "      <td>0.140395</td>\n",
       "      <td>0.136145</td>\n",
       "      <td>0.171538</td>\n",
       "      <td>-0.202414</td>\n",
       "      <td>-0.617704</td>\n",
       "      <td>0.701976</td>\n",
       "      <td>0.720671</td>\n",
       "      <td>0.763279</td>\n",
       "      <td>0.737578</td>\n",
       "      <td>1.000000</td>\n",
       "      <td>0.809608</td>\n",
       "      <td>0.231572</td>\n",
       "      <td>-0.203907</td>\n",
       "      <td>0.117618</td>\n",
       "      <td>-0.423067</td>\n",
       "      <td>-0.075697</td>\n",
       "      <td>-0.205742</td>\n",
       "    </tr>\n",
       "    <tr>\n",
       "      <th>StreamingMovies</th>\n",
       "      <td>-0.000191</td>\n",
       "      <td>-0.120802</td>\n",
       "      <td>0.075779</td>\n",
       "      <td>0.125820</td>\n",
       "      <td>0.140781</td>\n",
       "      <td>0.165205</td>\n",
       "      <td>-0.195815</td>\n",
       "      <td>-0.620005</td>\n",
       "      <td>0.704984</td>\n",
       "      <td>0.716700</td>\n",
       "      <td>0.766821</td>\n",
       "      <td>0.737123</td>\n",
       "      <td>0.809608</td>\n",
       "      <td>1.000000</td>\n",
       "      <td>0.234936</td>\n",
       "      <td>-0.211818</td>\n",
       "      <td>0.123869</td>\n",
       "      <td>-0.424598</td>\n",
       "      <td>-0.072571</td>\n",
       "      <td>-0.207256</td>\n",
       "    </tr>\n",
       "    <tr>\n",
       "      <th>Contract</th>\n",
       "      <td>0.006171</td>\n",
       "      <td>-0.109299</td>\n",
       "      <td>0.216229</td>\n",
       "      <td>0.178429</td>\n",
       "      <td>0.503232</td>\n",
       "      <td>-0.000955</td>\n",
       "      <td>0.040607</td>\n",
       "      <td>-0.203148</td>\n",
       "      <td>0.275864</td>\n",
       "      <td>0.252097</td>\n",
       "      <td>0.280997</td>\n",
       "      <td>0.289006</td>\n",
       "      <td>0.231572</td>\n",
       "      <td>0.234936</td>\n",
       "      <td>1.000000</td>\n",
       "      <td>-0.130968</td>\n",
       "      <td>0.273288</td>\n",
       "      <td>-0.034838</td>\n",
       "      <td>0.363494</td>\n",
       "      <td>-0.341504</td>\n",
       "    </tr>\n",
       "    <tr>\n",
       "      <th>PaperlessBilling</th>\n",
       "      <td>-0.011754</td>\n",
       "      <td>0.156530</td>\n",
       "      <td>-0.014877</td>\n",
       "      <td>-0.111377</td>\n",
       "      <td>0.006152</td>\n",
       "      <td>0.016505</td>\n",
       "      <td>0.108230</td>\n",
       "      <td>0.378108</td>\n",
       "      <td>-0.334003</td>\n",
       "      <td>-0.262402</td>\n",
       "      <td>-0.276326</td>\n",
       "      <td>-0.310749</td>\n",
       "      <td>-0.203907</td>\n",
       "      <td>-0.211818</td>\n",
       "      <td>-0.130968</td>\n",
       "      <td>1.000000</td>\n",
       "      <td>-0.101480</td>\n",
       "      <td>0.352150</td>\n",
       "      <td>0.157830</td>\n",
       "      <td>0.191825</td>\n",
       "    </tr>\n",
       "    <tr>\n",
       "      <th>PaymentMethod</th>\n",
       "      <td>-0.005209</td>\n",
       "      <td>-0.093704</td>\n",
       "      <td>0.133115</td>\n",
       "      <td>0.123844</td>\n",
       "      <td>0.340305</td>\n",
       "      <td>-0.004070</td>\n",
       "      <td>0.030659</td>\n",
       "      <td>-0.178137</td>\n",
       "      <td>0.213800</td>\n",
       "      <td>0.182909</td>\n",
       "      <td>0.191746</td>\n",
       "      <td>0.216878</td>\n",
       "      <td>0.117618</td>\n",
       "      <td>0.123869</td>\n",
       "      <td>0.273288</td>\n",
       "      <td>-0.101480</td>\n",
       "      <td>1.000000</td>\n",
       "      <td>-0.074353</td>\n",
       "      <td>0.222694</td>\n",
       "      <td>-0.262818</td>\n",
       "    </tr>\n",
       "    <tr>\n",
       "      <th>MonthlyCharges</th>\n",
       "      <td>-0.014569</td>\n",
       "      <td>0.220173</td>\n",
       "      <td>0.096848</td>\n",
       "      <td>-0.113890</td>\n",
       "      <td>0.247900</td>\n",
       "      <td>0.247398</td>\n",
       "      <td>0.146153</td>\n",
       "      <td>0.905491</td>\n",
       "      <td>-0.621227</td>\n",
       "      <td>-0.538454</td>\n",
       "      <td>-0.513440</td>\n",
       "      <td>-0.597594</td>\n",
       "      <td>-0.423067</td>\n",
       "      <td>-0.424598</td>\n",
       "      <td>-0.034838</td>\n",
       "      <td>0.352150</td>\n",
       "      <td>-0.074353</td>\n",
       "      <td>1.000000</td>\n",
       "      <td>0.651065</td>\n",
       "      <td>0.193356</td>\n",
       "    </tr>\n",
       "    <tr>\n",
       "      <th>TotalCharges</th>\n",
       "      <td>0.000048</td>\n",
       "      <td>0.102411</td>\n",
       "      <td>0.319072</td>\n",
       "      <td>0.064653</td>\n",
       "      <td>0.825880</td>\n",
       "      <td>0.113008</td>\n",
       "      <td>0.251357</td>\n",
       "      <td>0.428212</td>\n",
       "      <td>-0.153234</td>\n",
       "      <td>-0.085017</td>\n",
       "      <td>-0.077394</td>\n",
       "      <td>-0.141011</td>\n",
       "      <td>-0.075697</td>\n",
       "      <td>-0.072571</td>\n",
       "      <td>0.363494</td>\n",
       "      <td>0.157830</td>\n",
       "      <td>0.222694</td>\n",
       "      <td>0.651065</td>\n",
       "      <td>1.000000</td>\n",
       "      <td>-0.199484</td>\n",
       "    </tr>\n",
       "    <tr>\n",
       "      <th>Churn</th>\n",
       "      <td>-0.008612</td>\n",
       "      <td>0.150889</td>\n",
       "      <td>-0.150448</td>\n",
       "      <td>-0.164221</td>\n",
       "      <td>-0.352229</td>\n",
       "      <td>0.011942</td>\n",
       "      <td>0.019423</td>\n",
       "      <td>0.316846</td>\n",
       "      <td>-0.332819</td>\n",
       "      <td>-0.291449</td>\n",
       "      <td>-0.281465</td>\n",
       "      <td>-0.329852</td>\n",
       "      <td>-0.205742</td>\n",
       "      <td>-0.207256</td>\n",
       "      <td>-0.341504</td>\n",
       "      <td>0.191825</td>\n",
       "      <td>-0.262818</td>\n",
       "      <td>0.193356</td>\n",
       "      <td>-0.199484</td>\n",
       "      <td>1.000000</td>\n",
       "    </tr>\n",
       "  </tbody>\n",
       "</table>\n",
       "</div>"
      ],
      "text/plain": [
       "                    gender  SeniorCitizen   Partner  Dependents    tenure  \\\n",
       "gender            1.000000      -0.001874 -0.001808    0.010517  0.005106   \n",
       "SeniorCitizen    -0.001874       1.000000  0.016479   -0.211185  0.016567   \n",
       "Partner          -0.001808       0.016479  1.000000    0.452676  0.379697   \n",
       "Dependents        0.010517      -0.211185  0.452676    1.000000  0.159712   \n",
       "tenure            0.005106       0.016567  0.379697    0.159712  1.000000   \n",
       "PhoneService     -0.006488       0.008576  0.017706   -0.001762  0.008448   \n",
       "MultipleLines    -0.000485       0.099883  0.090981   -0.016875  0.242279   \n",
       "InternetService  -0.010380       0.259390 -0.000132   -0.179631  0.033230   \n",
       "OnlineSecurity   -0.003429      -0.210897  0.081850    0.190523  0.145298   \n",
       "OnlineBackup     -0.002032      -0.152780  0.087055    0.162445  0.178651   \n",
       "DeviceProtection  0.005092      -0.157095  0.094451    0.156439  0.178649   \n",
       "TechSupport       0.000985      -0.223770  0.069072    0.180832  0.144459   \n",
       "StreamingTV       0.001156      -0.130130  0.080127    0.140395  0.136145   \n",
       "StreamingMovies  -0.000191      -0.120802  0.075779    0.125820  0.140781   \n",
       "Contract          0.006171      -0.109299  0.216229    0.178429  0.503232   \n",
       "PaperlessBilling -0.011754       0.156530 -0.014877   -0.111377  0.006152   \n",
       "PaymentMethod    -0.005209      -0.093704  0.133115    0.123844  0.340305   \n",
       "MonthlyCharges   -0.014569       0.220173  0.096848   -0.113890  0.247900   \n",
       "TotalCharges      0.000048       0.102411  0.319072    0.064653  0.825880   \n",
       "Churn            -0.008612       0.150889 -0.150448   -0.164221 -0.352229   \n",
       "\n",
       "                  PhoneService  MultipleLines  InternetService  \\\n",
       "gender               -0.006488      -0.000485        -0.010380   \n",
       "SeniorCitizen         0.008576       0.099883         0.259390   \n",
       "Partner               0.017706       0.090981        -0.000132   \n",
       "Dependents           -0.001762      -0.016875        -0.179631   \n",
       "tenure                0.008448       0.242279         0.033230   \n",
       "PhoneService          1.000000      -0.691070         0.093720   \n",
       "MultipleLines        -0.691070       1.000000         0.174989   \n",
       "InternetService       0.093720       0.174989         1.000000   \n",
       "OnlineSecurity        0.125353      -0.235021        -0.764943   \n",
       "OnlineBackup          0.150338      -0.210372        -0.686403   \n",
       "DeviceProtection      0.138755      -0.200463        -0.682448   \n",
       "TechSupport           0.123350      -0.232155        -0.760985   \n",
       "StreamingTV           0.171538      -0.202414        -0.617704   \n",
       "StreamingMovies       0.165205      -0.195815        -0.620005   \n",
       "Contract             -0.000955       0.040607        -0.203148   \n",
       "PaperlessBilling      0.016505       0.108230         0.378108   \n",
       "PaymentMethod        -0.004070       0.030659        -0.178137   \n",
       "MonthlyCharges        0.247398       0.146153         0.905491   \n",
       "TotalCharges          0.113008       0.251357         0.428212   \n",
       "Churn                 0.011942       0.019423         0.316846   \n",
       "\n",
       "                  OnlineSecurity  OnlineBackup  DeviceProtection  TechSupport  \\\n",
       "gender                 -0.003429     -0.002032          0.005092     0.000985   \n",
       "SeniorCitizen          -0.210897     -0.152780         -0.157095    -0.223770   \n",
       "Partner                 0.081850      0.087055          0.094451     0.069072   \n",
       "Dependents              0.190523      0.162445          0.156439     0.180832   \n",
       "tenure                  0.145298      0.178651          0.178649     0.144459   \n",
       "PhoneService            0.125353      0.150338          0.138755     0.123350   \n",
       "MultipleLines          -0.235021     -0.210372         -0.200463    -0.232155   \n",
       "InternetService        -0.764943     -0.686403         -0.682448    -0.760985   \n",
       "OnlineSecurity          1.000000      0.751661          0.749040     0.791225   \n",
       "OnlineBackup            0.751661      1.000000          0.740604     0.754095   \n",
       "DeviceProtection        0.749040      0.740604          1.000000     0.767970   \n",
       "TechSupport             0.791225      0.754095          0.767970     1.000000   \n",
       "StreamingTV             0.701976      0.720671          0.763279     0.737578   \n",
       "StreamingMovies         0.704984      0.716700          0.766821     0.737123   \n",
       "Contract                0.275864      0.252097          0.280997     0.289006   \n",
       "PaperlessBilling       -0.334003     -0.262402         -0.276326    -0.310749   \n",
       "PaymentMethod           0.213800      0.182909          0.191746     0.216878   \n",
       "MonthlyCharges         -0.621227     -0.538454         -0.513440    -0.597594   \n",
       "TotalCharges           -0.153234     -0.085017         -0.077394    -0.141011   \n",
       "Churn                  -0.332819     -0.291449         -0.281465    -0.329852   \n",
       "\n",
       "                  StreamingTV  StreamingMovies  Contract  PaperlessBilling  \\\n",
       "gender               0.001156        -0.000191  0.006171         -0.011754   \n",
       "SeniorCitizen       -0.130130        -0.120802 -0.109299          0.156530   \n",
       "Partner              0.080127         0.075779  0.216229         -0.014877   \n",
       "Dependents           0.140395         0.125820  0.178429         -0.111377   \n",
       "tenure               0.136145         0.140781  0.503232          0.006152   \n",
       "PhoneService         0.171538         0.165205 -0.000955          0.016505   \n",
       "MultipleLines       -0.202414        -0.195815  0.040607          0.108230   \n",
       "InternetService     -0.617704        -0.620005 -0.203148          0.378108   \n",
       "OnlineSecurity       0.701976         0.704984  0.275864         -0.334003   \n",
       "OnlineBackup         0.720671         0.716700  0.252097         -0.262402   \n",
       "DeviceProtection     0.763279         0.766821  0.280997         -0.276326   \n",
       "TechSupport          0.737578         0.737123  0.289006         -0.310749   \n",
       "StreamingTV          1.000000         0.809608  0.231572         -0.203907   \n",
       "StreamingMovies      0.809608         1.000000  0.234936         -0.211818   \n",
       "Contract             0.231572         0.234936  1.000000         -0.130968   \n",
       "PaperlessBilling    -0.203907        -0.211818 -0.130968          1.000000   \n",
       "PaymentMethod        0.117618         0.123869  0.273288         -0.101480   \n",
       "MonthlyCharges      -0.423067        -0.424598 -0.034838          0.352150   \n",
       "TotalCharges        -0.075697        -0.072571  0.363494          0.157830   \n",
       "Churn               -0.205742        -0.207256 -0.341504          0.191825   \n",
       "\n",
       "                  PaymentMethod  MonthlyCharges  TotalCharges     Churn  \n",
       "gender                -0.005209       -0.014569      0.000048 -0.008612  \n",
       "SeniorCitizen         -0.093704        0.220173      0.102411  0.150889  \n",
       "Partner                0.133115        0.096848      0.319072 -0.150448  \n",
       "Dependents             0.123844       -0.113890      0.064653 -0.164221  \n",
       "tenure                 0.340305        0.247900      0.825880 -0.352229  \n",
       "PhoneService          -0.004070        0.247398      0.113008  0.011942  \n",
       "MultipleLines          0.030659        0.146153      0.251357  0.019423  \n",
       "InternetService       -0.178137        0.905491      0.428212  0.316846  \n",
       "OnlineSecurity         0.213800       -0.621227     -0.153234 -0.332819  \n",
       "OnlineBackup           0.182909       -0.538454     -0.085017 -0.291449  \n",
       "DeviceProtection       0.191746       -0.513440     -0.077394 -0.281465  \n",
       "TechSupport            0.216878       -0.597594     -0.141011 -0.329852  \n",
       "StreamingTV            0.117618       -0.423067     -0.075697 -0.205742  \n",
       "StreamingMovies        0.123869       -0.424598     -0.072571 -0.207256  \n",
       "Contract               0.273288       -0.034838      0.363494 -0.341504  \n",
       "PaperlessBilling      -0.101480        0.352150      0.157830  0.191825  \n",
       "PaymentMethod          1.000000       -0.074353      0.222694 -0.262818  \n",
       "MonthlyCharges        -0.074353        1.000000      0.651065  0.193356  \n",
       "TotalCharges           0.222694        0.651065      1.000000 -0.199484  \n",
       "Churn                 -0.262818        0.193356     -0.199484  1.000000  "
      ]
     },
     "execution_count": 101,
     "metadata": {},
     "output_type": "execute_result"
    }
   ],
   "source": [
    "df.corr()"
   ]
  },
  {
   "cell_type": "code",
   "execution_count": 102,
   "metadata": {},
   "outputs": [],
   "source": [
    "df['Tenure'] = df.tenure.map(lambda x : 1 if x>20 else 0)"
   ]
  },
  {
   "cell_type": "code",
   "execution_count": 103,
   "metadata": {},
   "outputs": [
    {
     "data": {
      "text/html": [
       "<div>\n",
       "<style scoped>\n",
       "    .dataframe tbody tr th:only-of-type {\n",
       "        vertical-align: middle;\n",
       "    }\n",
       "\n",
       "    .dataframe tbody tr th {\n",
       "        vertical-align: top;\n",
       "    }\n",
       "\n",
       "    .dataframe thead th {\n",
       "        text-align: right;\n",
       "    }\n",
       "</style>\n",
       "<table border=\"1\" class=\"dataframe\">\n",
       "  <thead>\n",
       "    <tr style=\"text-align: right;\">\n",
       "      <th></th>\n",
       "      <th>customerID</th>\n",
       "      <th>gender</th>\n",
       "      <th>SeniorCitizen</th>\n",
       "      <th>Partner</th>\n",
       "      <th>Dependents</th>\n",
       "      <th>tenure</th>\n",
       "      <th>PhoneService</th>\n",
       "      <th>MultipleLines</th>\n",
       "      <th>InternetService</th>\n",
       "      <th>OnlineSecurity</th>\n",
       "      <th>OnlineBackup</th>\n",
       "      <th>DeviceProtection</th>\n",
       "      <th>TechSupport</th>\n",
       "      <th>StreamingTV</th>\n",
       "      <th>StreamingMovies</th>\n",
       "      <th>Contract</th>\n",
       "      <th>PaperlessBilling</th>\n",
       "      <th>PaymentMethod</th>\n",
       "      <th>MonthlyCharges</th>\n",
       "      <th>TotalCharges</th>\n",
       "      <th>Churn</th>\n",
       "      <th>Tenure</th>\n",
       "    </tr>\n",
       "  </thead>\n",
       "  <tbody>\n",
       "    <tr>\n",
       "      <th>0</th>\n",
       "      <td>7590-VHVEG</td>\n",
       "      <td>0</td>\n",
       "      <td>0</td>\n",
       "      <td>1</td>\n",
       "      <td>0</td>\n",
       "      <td>1</td>\n",
       "      <td>0</td>\n",
       "      <td>2</td>\n",
       "      <td>1</td>\n",
       "      <td>0</td>\n",
       "      <td>1</td>\n",
       "      <td>0</td>\n",
       "      <td>0</td>\n",
       "      <td>0</td>\n",
       "      <td>0</td>\n",
       "      <td>0</td>\n",
       "      <td>1</td>\n",
       "      <td>0</td>\n",
       "      <td>29.85</td>\n",
       "      <td>29.85</td>\n",
       "      <td>0</td>\n",
       "      <td>0</td>\n",
       "    </tr>\n",
       "    <tr>\n",
       "      <th>1</th>\n",
       "      <td>5575-GNVDE</td>\n",
       "      <td>1</td>\n",
       "      <td>0</td>\n",
       "      <td>0</td>\n",
       "      <td>0</td>\n",
       "      <td>34</td>\n",
       "      <td>1</td>\n",
       "      <td>0</td>\n",
       "      <td>1</td>\n",
       "      <td>1</td>\n",
       "      <td>0</td>\n",
       "      <td>1</td>\n",
       "      <td>0</td>\n",
       "      <td>0</td>\n",
       "      <td>0</td>\n",
       "      <td>2</td>\n",
       "      <td>0</td>\n",
       "      <td>1</td>\n",
       "      <td>56.95</td>\n",
       "      <td>1889.50</td>\n",
       "      <td>0</td>\n",
       "      <td>1</td>\n",
       "    </tr>\n",
       "    <tr>\n",
       "      <th>2</th>\n",
       "      <td>3668-QPYBK</td>\n",
       "      <td>1</td>\n",
       "      <td>0</td>\n",
       "      <td>0</td>\n",
       "      <td>0</td>\n",
       "      <td>2</td>\n",
       "      <td>1</td>\n",
       "      <td>0</td>\n",
       "      <td>1</td>\n",
       "      <td>1</td>\n",
       "      <td>1</td>\n",
       "      <td>0</td>\n",
       "      <td>0</td>\n",
       "      <td>0</td>\n",
       "      <td>0</td>\n",
       "      <td>0</td>\n",
       "      <td>1</td>\n",
       "      <td>1</td>\n",
       "      <td>53.85</td>\n",
       "      <td>108.15</td>\n",
       "      <td>1</td>\n",
       "      <td>0</td>\n",
       "    </tr>\n",
       "    <tr>\n",
       "      <th>3</th>\n",
       "      <td>7795-CFOCW</td>\n",
       "      <td>1</td>\n",
       "      <td>0</td>\n",
       "      <td>0</td>\n",
       "      <td>0</td>\n",
       "      <td>45</td>\n",
       "      <td>0</td>\n",
       "      <td>2</td>\n",
       "      <td>1</td>\n",
       "      <td>1</td>\n",
       "      <td>0</td>\n",
       "      <td>1</td>\n",
       "      <td>1</td>\n",
       "      <td>0</td>\n",
       "      <td>0</td>\n",
       "      <td>2</td>\n",
       "      <td>0</td>\n",
       "      <td>2</td>\n",
       "      <td>42.30</td>\n",
       "      <td>1840.75</td>\n",
       "      <td>0</td>\n",
       "      <td>1</td>\n",
       "    </tr>\n",
       "    <tr>\n",
       "      <th>4</th>\n",
       "      <td>9237-HQITU</td>\n",
       "      <td>0</td>\n",
       "      <td>0</td>\n",
       "      <td>0</td>\n",
       "      <td>0</td>\n",
       "      <td>2</td>\n",
       "      <td>1</td>\n",
       "      <td>0</td>\n",
       "      <td>2</td>\n",
       "      <td>0</td>\n",
       "      <td>0</td>\n",
       "      <td>0</td>\n",
       "      <td>0</td>\n",
       "      <td>0</td>\n",
       "      <td>0</td>\n",
       "      <td>0</td>\n",
       "      <td>1</td>\n",
       "      <td>0</td>\n",
       "      <td>70.70</td>\n",
       "      <td>151.65</td>\n",
       "      <td>1</td>\n",
       "      <td>0</td>\n",
       "    </tr>\n",
       "  </tbody>\n",
       "</table>\n",
       "</div>"
      ],
      "text/plain": [
       "   customerID  gender  SeniorCitizen  Partner  Dependents  tenure  \\\n",
       "0  7590-VHVEG       0              0        1           0       1   \n",
       "1  5575-GNVDE       1              0        0           0      34   \n",
       "2  3668-QPYBK       1              0        0           0       2   \n",
       "3  7795-CFOCW       1              0        0           0      45   \n",
       "4  9237-HQITU       0              0        0           0       2   \n",
       "\n",
       "   PhoneService  MultipleLines  InternetService  OnlineSecurity  OnlineBackup  \\\n",
       "0             0              2                1               0             1   \n",
       "1             1              0                1               1             0   \n",
       "2             1              0                1               1             1   \n",
       "3             0              2                1               1             0   \n",
       "4             1              0                2               0             0   \n",
       "\n",
       "   DeviceProtection  TechSupport  StreamingTV  StreamingMovies  Contract  \\\n",
       "0                 0            0            0                0         0   \n",
       "1                 1            0            0                0         2   \n",
       "2                 0            0            0                0         0   \n",
       "3                 1            1            0                0         2   \n",
       "4                 0            0            0                0         0   \n",
       "\n",
       "   PaperlessBilling  PaymentMethod  MonthlyCharges  TotalCharges  Churn  \\\n",
       "0                 1              0           29.85         29.85      0   \n",
       "1                 0              1           56.95       1889.50      0   \n",
       "2                 1              1           53.85        108.15      1   \n",
       "3                 0              2           42.30       1840.75      0   \n",
       "4                 1              0           70.70        151.65      1   \n",
       "\n",
       "   Tenure  \n",
       "0       0  \n",
       "1       1  \n",
       "2       0  \n",
       "3       1  \n",
       "4       0  "
      ]
     },
     "execution_count": 103,
     "metadata": {},
     "output_type": "execute_result"
    }
   ],
   "source": [
    "df.head()"
   ]
  },
  {
   "cell_type": "code",
   "execution_count": 104,
   "metadata": {},
   "outputs": [],
   "source": [
    "features = ['SeniorCitizen', 'Partner', 'Dependents', 'InternetService', 'OnlineSecurity', 'OnlineBackup', 'DeviceProtection', 'TechSupport', 'StreamingTV', 'Tenure', 'StreamingMovies', 'Contract', 'PaperlessBilling', 'PaymentMethod', 'Churn']"
   ]
  },
  {
   "cell_type": "markdown",
   "metadata": {},
   "source": [
    "## Classification models"
   ]
  },
  {
   "cell_type": "code",
   "execution_count": 105,
   "metadata": {},
   "outputs": [],
   "source": [
    "df.sample(frac=1).reset_index(drop=True)\n",
    "df_train = df[features].head(4000)\n",
    "df_test = df[features].tail(3043)"
   ]
  },
  {
   "cell_type": "code",
   "execution_count": 106,
   "metadata": {},
   "outputs": [],
   "source": [
    "dep_features = ['SeniorCitizen', 'Partner', 'Dependents', 'InternetService', 'OnlineSecurity', 'OnlineBackup', 'DeviceProtection', 'TechSupport', 'StreamingTV', 'Tenure', 'StreamingMovies', 'Contract', 'PaperlessBilling', 'PaymentMethod']"
   ]
  },
  {
   "cell_type": "code",
   "execution_count": 107,
   "metadata": {},
   "outputs": [],
   "source": [
    "X = df[dep_features]\n",
    "y = df['Churn']\n",
    "X_train = df_train[dep_features]\n",
    "y_train = df_train['Churn']\n",
    "X_test = df_test[dep_features]\n",
    "y_test = df_test['Churn']"
   ]
  },
  {
   "cell_type": "markdown",
   "metadata": {},
   "source": [
    "### Logistic regression"
   ]
  },
  {
   "cell_type": "code",
   "execution_count": 108,
   "metadata": {},
   "outputs": [],
   "source": [
    "clf = LogisticRegression()"
   ]
  },
  {
   "cell_type": "code",
   "execution_count": 109,
   "metadata": {},
   "outputs": [
    {
     "name": "stdout",
     "output_type": "stream",
     "text": [
      "Accuracy on all folds:  [0.7984386089425124, 0.8090844570617459, 0.7877927608232789, 0.7940340909090909, 0.796875]\n",
      "Mean accuracy:  0.7972449835473256\n"
     ]
    }
   ],
   "source": [
    "kf = KFold(n_splits=5)\n",
    "accuracy = []\n",
    "for train_index, test_index in kf.split(X, y):\n",
    "    X_train_fold, X_test_fold = X.loc[train_index], X.loc[test_index]\n",
    "    y_train_fold, y_test_fold = y.loc[train_index], y.loc[test_index]\n",
    "    clf.fit(X_train_fold, y_train_fold)\n",
    "    accuracy.append(clf.score(X_test_fold, y_test_fold))\n",
    "    \n",
    "print('Accuracy on all folds: ', accuracy)\n",
    "print('Mean accuracy: ', np.mean(accuracy))"
   ]
  },
  {
   "cell_type": "code",
   "execution_count": 110,
   "metadata": {},
   "outputs": [
    {
     "name": "stdout",
     "output_type": "stream",
     "text": [
      "Test set score:  0.7992113046335853\n"
     ]
    }
   ],
   "source": [
    "print('Test set score: ', clf.score(X_test, y_test))"
   ]
  },
  {
   "cell_type": "markdown",
   "metadata": {},
   "source": [
    "### Support Vector Machine"
   ]
  },
  {
   "cell_type": "code",
   "execution_count": 111,
   "metadata": {},
   "outputs": [],
   "source": [
    "svm_clf = svm.SVC()"
   ]
  },
  {
   "cell_type": "code",
   "execution_count": 112,
   "metadata": {},
   "outputs": [
    {
     "name": "stdout",
     "output_type": "stream",
     "text": [
      "Accuracy on all folds:  [0.7991483321504613, 0.8041163946061036, 0.7778566359119943, 0.7848011363636364, 0.7904829545454546]\n",
      "Mean accuracy:  0.7912810907155301\n"
     ]
    }
   ],
   "source": [
    "kf = KFold(n_splits=5)\n",
    "accuracy = []\n",
    "for train_index, test_index in kf.split(X, y):\n",
    "    X_train_fold, X_test_fold = X.loc[train_index], X.loc[test_index]\n",
    "    y_train_fold, y_test_fold = y.loc[train_index], y.loc[test_index]\n",
    "    svm_clf.fit(X_train_fold, y_train_fold)\n",
    "    accuracy.append(svm_clf.score(X_test_fold, y_test_fold))\n",
    "    \n",
    "print('Accuracy on all folds: ', accuracy)\n",
    "print('Mean accuracy: ', np.mean(accuracy))"
   ]
  },
  {
   "cell_type": "code",
   "execution_count": 113,
   "metadata": {},
   "outputs": [
    {
     "name": "stdout",
     "output_type": "stream",
     "text": [
      "Test set score:  0.7903384817614196\n"
     ]
    }
   ],
   "source": [
    "print('Test set score: ', svm_clf.score(X_test, y_test))"
   ]
  },
  {
   "cell_type": "markdown",
   "metadata": {},
   "source": [
    "## Non linear models"
   ]
  },
  {
   "cell_type": "code",
   "execution_count": 114,
   "metadata": {},
   "outputs": [
    {
     "data": {
      "text/html": [
       "<div>\n",
       "<style scoped>\n",
       "    .dataframe tbody tr th:only-of-type {\n",
       "        vertical-align: middle;\n",
       "    }\n",
       "\n",
       "    .dataframe tbody tr th {\n",
       "        vertical-align: top;\n",
       "    }\n",
       "\n",
       "    .dataframe thead th {\n",
       "        text-align: right;\n",
       "    }\n",
       "</style>\n",
       "<table border=\"1\" class=\"dataframe\">\n",
       "  <thead>\n",
       "    <tr style=\"text-align: right;\">\n",
       "      <th></th>\n",
       "      <th>customerID</th>\n",
       "      <th>gender</th>\n",
       "      <th>SeniorCitizen</th>\n",
       "      <th>Partner</th>\n",
       "      <th>Dependents</th>\n",
       "      <th>tenure</th>\n",
       "      <th>PhoneService</th>\n",
       "      <th>PaperlessBilling</th>\n",
       "      <th>MonthlyCharges</th>\n",
       "      <th>TotalCharges</th>\n",
       "      <th>Churn</th>\n",
       "      <th>Tenure</th>\n",
       "      <th>MultipleLines_1</th>\n",
       "      <th>MultipleLines_2</th>\n",
       "      <th>InternetService_1</th>\n",
       "      <th>InternetService_2</th>\n",
       "      <th>OnlineSecurity_1</th>\n",
       "      <th>OnlineSecurity_2</th>\n",
       "      <th>OnlineBackup_1</th>\n",
       "      <th>OnlineBackup_2</th>\n",
       "      <th>DeviceProtection_1</th>\n",
       "      <th>DeviceProtection_2</th>\n",
       "      <th>TechSupport_1</th>\n",
       "      <th>TechSupport_2</th>\n",
       "      <th>StreamingTV_1</th>\n",
       "      <th>StreamingTV_2</th>\n",
       "      <th>StreamingMovies_1</th>\n",
       "      <th>StreamingMovies_2</th>\n",
       "      <th>Contract_1</th>\n",
       "      <th>Contract_2</th>\n",
       "      <th>PaymentMethod_1</th>\n",
       "      <th>PaymentMethod_2</th>\n",
       "      <th>PaymentMethod_3</th>\n",
       "    </tr>\n",
       "  </thead>\n",
       "  <tbody>\n",
       "    <tr>\n",
       "      <th>0</th>\n",
       "      <td>7590-VHVEG</td>\n",
       "      <td>0</td>\n",
       "      <td>0</td>\n",
       "      <td>1</td>\n",
       "      <td>0</td>\n",
       "      <td>1</td>\n",
       "      <td>0</td>\n",
       "      <td>1</td>\n",
       "      <td>29.85</td>\n",
       "      <td>29.85</td>\n",
       "      <td>0</td>\n",
       "      <td>0</td>\n",
       "      <td>0</td>\n",
       "      <td>1</td>\n",
       "      <td>1</td>\n",
       "      <td>0</td>\n",
       "      <td>0</td>\n",
       "      <td>0</td>\n",
       "      <td>1</td>\n",
       "      <td>0</td>\n",
       "      <td>0</td>\n",
       "      <td>0</td>\n",
       "      <td>0</td>\n",
       "      <td>0</td>\n",
       "      <td>0</td>\n",
       "      <td>0</td>\n",
       "      <td>0</td>\n",
       "      <td>0</td>\n",
       "      <td>0</td>\n",
       "      <td>0</td>\n",
       "      <td>0</td>\n",
       "      <td>0</td>\n",
       "      <td>0</td>\n",
       "    </tr>\n",
       "    <tr>\n",
       "      <th>1</th>\n",
       "      <td>5575-GNVDE</td>\n",
       "      <td>1</td>\n",
       "      <td>0</td>\n",
       "      <td>0</td>\n",
       "      <td>0</td>\n",
       "      <td>34</td>\n",
       "      <td>1</td>\n",
       "      <td>0</td>\n",
       "      <td>56.95</td>\n",
       "      <td>1889.50</td>\n",
       "      <td>0</td>\n",
       "      <td>1</td>\n",
       "      <td>0</td>\n",
       "      <td>0</td>\n",
       "      <td>1</td>\n",
       "      <td>0</td>\n",
       "      <td>1</td>\n",
       "      <td>0</td>\n",
       "      <td>0</td>\n",
       "      <td>0</td>\n",
       "      <td>1</td>\n",
       "      <td>0</td>\n",
       "      <td>0</td>\n",
       "      <td>0</td>\n",
       "      <td>0</td>\n",
       "      <td>0</td>\n",
       "      <td>0</td>\n",
       "      <td>0</td>\n",
       "      <td>0</td>\n",
       "      <td>1</td>\n",
       "      <td>1</td>\n",
       "      <td>0</td>\n",
       "      <td>0</td>\n",
       "    </tr>\n",
       "    <tr>\n",
       "      <th>2</th>\n",
       "      <td>3668-QPYBK</td>\n",
       "      <td>1</td>\n",
       "      <td>0</td>\n",
       "      <td>0</td>\n",
       "      <td>0</td>\n",
       "      <td>2</td>\n",
       "      <td>1</td>\n",
       "      <td>1</td>\n",
       "      <td>53.85</td>\n",
       "      <td>108.15</td>\n",
       "      <td>1</td>\n",
       "      <td>0</td>\n",
       "      <td>0</td>\n",
       "      <td>0</td>\n",
       "      <td>1</td>\n",
       "      <td>0</td>\n",
       "      <td>1</td>\n",
       "      <td>0</td>\n",
       "      <td>1</td>\n",
       "      <td>0</td>\n",
       "      <td>0</td>\n",
       "      <td>0</td>\n",
       "      <td>0</td>\n",
       "      <td>0</td>\n",
       "      <td>0</td>\n",
       "      <td>0</td>\n",
       "      <td>0</td>\n",
       "      <td>0</td>\n",
       "      <td>0</td>\n",
       "      <td>0</td>\n",
       "      <td>1</td>\n",
       "      <td>0</td>\n",
       "      <td>0</td>\n",
       "    </tr>\n",
       "    <tr>\n",
       "      <th>3</th>\n",
       "      <td>7795-CFOCW</td>\n",
       "      <td>1</td>\n",
       "      <td>0</td>\n",
       "      <td>0</td>\n",
       "      <td>0</td>\n",
       "      <td>45</td>\n",
       "      <td>0</td>\n",
       "      <td>0</td>\n",
       "      <td>42.30</td>\n",
       "      <td>1840.75</td>\n",
       "      <td>0</td>\n",
       "      <td>1</td>\n",
       "      <td>0</td>\n",
       "      <td>1</td>\n",
       "      <td>1</td>\n",
       "      <td>0</td>\n",
       "      <td>1</td>\n",
       "      <td>0</td>\n",
       "      <td>0</td>\n",
       "      <td>0</td>\n",
       "      <td>1</td>\n",
       "      <td>0</td>\n",
       "      <td>1</td>\n",
       "      <td>0</td>\n",
       "      <td>0</td>\n",
       "      <td>0</td>\n",
       "      <td>0</td>\n",
       "      <td>0</td>\n",
       "      <td>0</td>\n",
       "      <td>1</td>\n",
       "      <td>0</td>\n",
       "      <td>1</td>\n",
       "      <td>0</td>\n",
       "    </tr>\n",
       "    <tr>\n",
       "      <th>4</th>\n",
       "      <td>9237-HQITU</td>\n",
       "      <td>0</td>\n",
       "      <td>0</td>\n",
       "      <td>0</td>\n",
       "      <td>0</td>\n",
       "      <td>2</td>\n",
       "      <td>1</td>\n",
       "      <td>1</td>\n",
       "      <td>70.70</td>\n",
       "      <td>151.65</td>\n",
       "      <td>1</td>\n",
       "      <td>0</td>\n",
       "      <td>0</td>\n",
       "      <td>0</td>\n",
       "      <td>0</td>\n",
       "      <td>1</td>\n",
       "      <td>0</td>\n",
       "      <td>0</td>\n",
       "      <td>0</td>\n",
       "      <td>0</td>\n",
       "      <td>0</td>\n",
       "      <td>0</td>\n",
       "      <td>0</td>\n",
       "      <td>0</td>\n",
       "      <td>0</td>\n",
       "      <td>0</td>\n",
       "      <td>0</td>\n",
       "      <td>0</td>\n",
       "      <td>0</td>\n",
       "      <td>0</td>\n",
       "      <td>0</td>\n",
       "      <td>0</td>\n",
       "      <td>0</td>\n",
       "    </tr>\n",
       "  </tbody>\n",
       "</table>\n",
       "</div>"
      ],
      "text/plain": [
       "   customerID  gender  SeniorCitizen  Partner  Dependents  tenure  \\\n",
       "0  7590-VHVEG       0              0        1           0       1   \n",
       "1  5575-GNVDE       1              0        0           0      34   \n",
       "2  3668-QPYBK       1              0        0           0       2   \n",
       "3  7795-CFOCW       1              0        0           0      45   \n",
       "4  9237-HQITU       0              0        0           0       2   \n",
       "\n",
       "   PhoneService  PaperlessBilling  MonthlyCharges  TotalCharges  Churn  \\\n",
       "0             0                 1           29.85         29.85      0   \n",
       "1             1                 0           56.95       1889.50      0   \n",
       "2             1                 1           53.85        108.15      1   \n",
       "3             0                 0           42.30       1840.75      0   \n",
       "4             1                 1           70.70        151.65      1   \n",
       "\n",
       "   Tenure  MultipleLines_1  MultipleLines_2  InternetService_1  \\\n",
       "0       0                0                1                  1   \n",
       "1       1                0                0                  1   \n",
       "2       0                0                0                  1   \n",
       "3       1                0                1                  1   \n",
       "4       0                0                0                  0   \n",
       "\n",
       "   InternetService_2  OnlineSecurity_1  OnlineSecurity_2  OnlineBackup_1  \\\n",
       "0                  0                 0                 0               1   \n",
       "1                  0                 1                 0               0   \n",
       "2                  0                 1                 0               1   \n",
       "3                  0                 1                 0               0   \n",
       "4                  1                 0                 0               0   \n",
       "\n",
       "   OnlineBackup_2  DeviceProtection_1  DeviceProtection_2  TechSupport_1  \\\n",
       "0               0                   0                   0              0   \n",
       "1               0                   1                   0              0   \n",
       "2               0                   0                   0              0   \n",
       "3               0                   1                   0              1   \n",
       "4               0                   0                   0              0   \n",
       "\n",
       "   TechSupport_2  StreamingTV_1  StreamingTV_2  StreamingMovies_1  \\\n",
       "0              0              0              0                  0   \n",
       "1              0              0              0                  0   \n",
       "2              0              0              0                  0   \n",
       "3              0              0              0                  0   \n",
       "4              0              0              0                  0   \n",
       "\n",
       "   StreamingMovies_2  Contract_1  Contract_2  PaymentMethod_1  \\\n",
       "0                  0           0           0                0   \n",
       "1                  0           0           1                1   \n",
       "2                  0           0           0                1   \n",
       "3                  0           0           1                0   \n",
       "4                  0           0           0                0   \n",
       "\n",
       "   PaymentMethod_2  PaymentMethod_3  \n",
       "0                0                0  \n",
       "1                0                0  \n",
       "2                0                0  \n",
       "3                1                0  \n",
       "4                0                0  "
      ]
     },
     "execution_count": 114,
     "metadata": {},
     "output_type": "execute_result"
    }
   ],
   "source": [
    "df = pd.get_dummies(df, columns=encode_cols, drop_first=True)\n",
    "df.head()"
   ]
  },
  {
   "cell_type": "code",
   "execution_count": 115,
   "metadata": {},
   "outputs": [],
   "source": [
    "features = ['SeniorCitizen', 'Partner', 'Dependents', 'InternetService_2', 'InternetService_1', 'InternetService_2', 'OnlineSecurity_1', 'OnlineSecurity_2', 'OnlineBackup_1', 'OnlineBackup_2', 'DeviceProtection_1', 'DeviceProtection_2', 'TechSupport_1', 'StreamingTV_2', 'StreamingTV_1', 'StreamingTV_2', 'Tenure', 'StreamingMovies_1', 'StreamingMovies_2', 'Contract_1', 'Contract_2', 'PaperlessBilling', 'PaymentMethod_1', 'PaymentMethod_2', 'PaymentMethod_3', 'Churn']"
   ]
  },
  {
   "cell_type": "code",
   "execution_count": 116,
   "metadata": {},
   "outputs": [],
   "source": [
    "dep_features = ['SeniorCitizen', 'Partner', 'Dependents', 'InternetService_2', 'InternetService_1', 'InternetService_2', 'OnlineSecurity_1', 'OnlineSecurity_2', 'OnlineBackup_1', 'OnlineBackup_2', 'DeviceProtection_1', 'DeviceProtection_2', 'TechSupport_1', 'StreamingTV_2', 'StreamingTV_1', 'StreamingTV_2', 'Tenure', 'StreamingMovies_1', 'StreamingMovies_2', 'Contract_1', 'Contract_2', 'PaperlessBilling', 'PaymentMethod_1', 'PaymentMethod_2', 'PaymentMethod_3']"
   ]
  },
  {
   "cell_type": "code",
   "execution_count": 117,
   "metadata": {},
   "outputs": [],
   "source": [
    "df.sample(frac=1).reset_index(drop=True)\n",
    "df_train = df[features].head(4000)\n",
    "df_test = df[features].tail(3043)"
   ]
  },
  {
   "cell_type": "code",
   "execution_count": 118,
   "metadata": {},
   "outputs": [],
   "source": [
    "X = df[dep_features]\n",
    "y = df['Churn']\n",
    "X_train = df_train[dep_features]\n",
    "y_train = df_train['Churn']\n",
    "X_test = df_test[dep_features]\n",
    "y_test = df_test['Churn']"
   ]
  },
  {
   "cell_type": "markdown",
   "metadata": {},
   "source": [
    "### Decision tree classifier"
   ]
  },
  {
   "cell_type": "code",
   "execution_count": 119,
   "metadata": {},
   "outputs": [],
   "source": [
    "dt = DecisionTreeClassifier()"
   ]
  },
  {
   "cell_type": "code",
   "execution_count": 120,
   "metadata": {},
   "outputs": [
    {
     "name": "stdout",
     "output_type": "stream",
     "text": [
      "Accuracy on all folds:  [0.7295954577714692, 0.7452093683463449, 0.7473385379701917, 0.7294034090909091, 0.7258522727272727]\n",
      "Mean accuracy:  0.7354798091812376\n"
     ]
    }
   ],
   "source": [
    "kf = KFold(n_splits=5)\n",
    "accuracy = []\n",
    "for train_index, test_index in kf.split(X, y):\n",
    "    X_train_fold, X_test_fold = X.loc[train_index], X.loc[test_index]\n",
    "    y_train_fold, y_test_fold = y.loc[train_index], y.loc[test_index]\n",
    "    dt.fit(X_train_fold, y_train_fold)\n",
    "    accuracy.append(dt.score(X_test_fold, y_test_fold))\n",
    "    \n",
    "print('Accuracy on all folds: ', accuracy)\n",
    "print('Mean accuracy: ', np.mean(accuracy))"
   ]
  },
  {
   "cell_type": "code",
   "execution_count": 121,
   "metadata": {},
   "outputs": [],
   "source": [
    "#print('Test set score: ', dt.score(X_test, y_test))"
   ]
  },
  {
   "cell_type": "markdown",
   "metadata": {},
   "source": [
    "### Random Forest Classifier"
   ]
  },
  {
   "cell_type": "code",
   "execution_count": 122,
   "metadata": {},
   "outputs": [],
   "source": [
    "rf_clf = RandomForestClassifier(n_jobs=-1)"
   ]
  },
  {
   "cell_type": "code",
   "execution_count": 123,
   "metadata": {},
   "outputs": [
    {
     "name": "stdout",
     "output_type": "stream",
     "text": [
      "Accuracy on all folds:  [0.7565649396735273, 0.7750177430801988, 0.7629524485450674, 0.7606534090909091, 0.7734375]\n",
      "Mean accuracy:  0.7657252080779406\n"
     ]
    }
   ],
   "source": [
    "kf = KFold(n_splits=5)\n",
    "accuracy = []\n",
    "for train_index, test_index in kf.split(X, y):\n",
    "    X_train_fold, X_test_fold = X.loc[train_index], X.loc[test_index]\n",
    "    y_train_fold, y_test_fold = y.loc[train_index], y.loc[test_index]\n",
    "    rf_clf.fit(X_train_fold, y_train_fold)\n",
    "    accuracy.append(rf_clf.score(X_test_fold, y_test_fold))\n",
    "    \n",
    "print('Accuracy on all folds: ', accuracy)\n",
    "print('Mean accuracy: ', np.mean(accuracy))"
   ]
  },
  {
   "cell_type": "code",
   "execution_count": 124,
   "metadata": {},
   "outputs": [],
   "source": [
    "#print('Test set score: ', rf_clf.score(X_test, y_test))"
   ]
  },
  {
   "cell_type": "code",
   "execution_count": 125,
   "metadata": {},
   "outputs": [],
   "source": [
    " param_grid = {\n",
    " \"n_estimators\": [100, 200, 250, 300, 400, 500],\n",
    " \"max_depth\": [1, 2, 5, 7, 11, 15],\n",
    " \"criterion\": [\"gini\", \"entropy\"]\n",
    " }"
   ]
  },
  {
   "cell_type": "code",
   "execution_count": 126,
   "metadata": {},
   "outputs": [],
   "source": [
    " model = GridSearchCV(\n",
    " estimator=rf_clf,\n",
    " param_grid=param_grid,\n",
    " scoring=\"accuracy\",\n",
    " verbose=10,\n",
    " n_jobs=1,\n",
    " cv=5\n",
    " )"
   ]
  },
  {
   "cell_type": "code",
   "execution_count": 127,
   "metadata": {},
   "outputs": [
    {
     "name": "stdout",
     "output_type": "stream",
     "text": [
      "Fitting 5 folds for each of 72 candidates, totalling 360 fits\n",
      "[CV 1/5; 1/72] START criterion=gini, max_depth=1, n_estimators=100..............\n",
      "[CV 1/5; 1/72] END criterion=gini, max_depth=1, n_estimators=100; total time=   4.7s\n",
      "[CV 2/5; 1/72] START criterion=gini, max_depth=1, n_estimators=100..............\n",
      "[CV 2/5; 1/72] END criterion=gini, max_depth=1, n_estimators=100; total time=   0.3s\n",
      "[CV 3/5; 1/72] START criterion=gini, max_depth=1, n_estimators=100..............\n",
      "[CV 3/5; 1/72] END criterion=gini, max_depth=1, n_estimators=100; total time=   0.5s\n",
      "[CV 4/5; 1/72] START criterion=gini, max_depth=1, n_estimators=100..............\n",
      "[CV 4/5; 1/72] END criterion=gini, max_depth=1, n_estimators=100; total time=   0.5s\n",
      "[CV 5/5; 1/72] START criterion=gini, max_depth=1, n_estimators=100..............\n",
      "[CV 5/5; 1/72] END criterion=gini, max_depth=1, n_estimators=100; total time=   0.4s\n",
      "[CV 1/5; 2/72] START criterion=gini, max_depth=1, n_estimators=200..............\n",
      "[CV 1/5; 2/72] END criterion=gini, max_depth=1, n_estimators=200; total time=   0.5s\n",
      "[CV 2/5; 2/72] START criterion=gini, max_depth=1, n_estimators=200..............\n",
      "[CV 2/5; 2/72] END criterion=gini, max_depth=1, n_estimators=200; total time=   0.5s\n",
      "[CV 3/5; 2/72] START criterion=gini, max_depth=1, n_estimators=200..............\n",
      "[CV 3/5; 2/72] END criterion=gini, max_depth=1, n_estimators=200; total time=   0.5s\n",
      "[CV 4/5; 2/72] START criterion=gini, max_depth=1, n_estimators=200..............\n",
      "[CV 4/5; 2/72] END criterion=gini, max_depth=1, n_estimators=200; total time=   0.7s\n",
      "[CV 5/5; 2/72] START criterion=gini, max_depth=1, n_estimators=200..............\n",
      "[CV 5/5; 2/72] END criterion=gini, max_depth=1, n_estimators=200; total time=   0.6s\n",
      "[CV 1/5; 3/72] START criterion=gini, max_depth=1, n_estimators=250..............\n",
      "[CV 1/5; 3/72] END criterion=gini, max_depth=1, n_estimators=250; total time=   0.7s\n",
      "[CV 2/5; 3/72] START criterion=gini, max_depth=1, n_estimators=250..............\n",
      "[CV 2/5; 3/72] END criterion=gini, max_depth=1, n_estimators=250; total time=   0.8s\n",
      "[CV 3/5; 3/72] START criterion=gini, max_depth=1, n_estimators=250..............\n",
      "[CV 3/5; 3/72] END criterion=gini, max_depth=1, n_estimators=250; total time=   0.8s\n",
      "[CV 4/5; 3/72] START criterion=gini, max_depth=1, n_estimators=250..............\n",
      "[CV 4/5; 3/72] END criterion=gini, max_depth=1, n_estimators=250; total time=   0.9s\n",
      "[CV 5/5; 3/72] START criterion=gini, max_depth=1, n_estimators=250..............\n",
      "[CV 5/5; 3/72] END criterion=gini, max_depth=1, n_estimators=250; total time=   0.7s\n",
      "[CV 1/5; 4/72] START criterion=gini, max_depth=1, n_estimators=300..............\n",
      "[CV 1/5; 4/72] END criterion=gini, max_depth=1, n_estimators=300; total time=   0.9s\n",
      "[CV 2/5; 4/72] START criterion=gini, max_depth=1, n_estimators=300..............\n",
      "[CV 2/5; 4/72] END criterion=gini, max_depth=1, n_estimators=300; total time=   0.9s\n",
      "[CV 3/5; 4/72] START criterion=gini, max_depth=1, n_estimators=300..............\n",
      "[CV 3/5; 4/72] END criterion=gini, max_depth=1, n_estimators=300; total time=   0.9s\n",
      "[CV 4/5; 4/72] START criterion=gini, max_depth=1, n_estimators=300..............\n",
      "[CV 4/5; 4/72] END criterion=gini, max_depth=1, n_estimators=300; total time=   1.1s\n",
      "[CV 5/5; 4/72] START criterion=gini, max_depth=1, n_estimators=300..............\n",
      "[CV 5/5; 4/72] END criterion=gini, max_depth=1, n_estimators=300; total time=   1.0s\n",
      "[CV 1/5; 5/72] START criterion=gini, max_depth=1, n_estimators=400..............\n",
      "[CV 1/5; 5/72] END criterion=gini, max_depth=1, n_estimators=400; total time=   1.1s\n",
      "[CV 2/5; 5/72] START criterion=gini, max_depth=1, n_estimators=400..............\n",
      "[CV 2/5; 5/72] END criterion=gini, max_depth=1, n_estimators=400; total time=   1.3s\n",
      "[CV 3/5; 5/72] START criterion=gini, max_depth=1, n_estimators=400..............\n",
      "[CV 3/5; 5/72] END criterion=gini, max_depth=1, n_estimators=400; total time=   1.3s\n",
      "[CV 4/5; 5/72] START criterion=gini, max_depth=1, n_estimators=400..............\n",
      "[CV 4/5; 5/72] END criterion=gini, max_depth=1, n_estimators=400; total time=   1.1s\n",
      "[CV 5/5; 5/72] START criterion=gini, max_depth=1, n_estimators=400..............\n",
      "[CV 5/5; 5/72] END criterion=gini, max_depth=1, n_estimators=400; total time=   1.2s\n",
      "[CV 1/5; 6/72] START criterion=gini, max_depth=1, n_estimators=500..............\n",
      "[CV 1/5; 6/72] END criterion=gini, max_depth=1, n_estimators=500; total time=   1.6s\n",
      "[CV 2/5; 6/72] START criterion=gini, max_depth=1, n_estimators=500..............\n",
      "[CV 2/5; 6/72] END criterion=gini, max_depth=1, n_estimators=500; total time=   1.5s\n",
      "[CV 3/5; 6/72] START criterion=gini, max_depth=1, n_estimators=500..............\n",
      "[CV 3/5; 6/72] END criterion=gini, max_depth=1, n_estimators=500; total time=   1.7s\n",
      "[CV 4/5; 6/72] START criterion=gini, max_depth=1, n_estimators=500..............\n",
      "[CV 4/5; 6/72] END criterion=gini, max_depth=1, n_estimators=500; total time=   1.4s\n",
      "[CV 5/5; 6/72] START criterion=gini, max_depth=1, n_estimators=500..............\n",
      "[CV 5/5; 6/72] END criterion=gini, max_depth=1, n_estimators=500; total time=   1.4s\n",
      "[CV 1/5; 7/72] START criterion=gini, max_depth=2, n_estimators=100..............\n",
      "[CV 1/5; 7/72] END criterion=gini, max_depth=2, n_estimators=100; total time=   0.3s\n",
      "[CV 2/5; 7/72] START criterion=gini, max_depth=2, n_estimators=100..............\n",
      "[CV 2/5; 7/72] END criterion=gini, max_depth=2, n_estimators=100; total time=   0.4s\n",
      "[CV 3/5; 7/72] START criterion=gini, max_depth=2, n_estimators=100..............\n",
      "[CV 3/5; 7/72] END criterion=gini, max_depth=2, n_estimators=100; total time=   0.4s\n",
      "[CV 4/5; 7/72] START criterion=gini, max_depth=2, n_estimators=100..............\n",
      "[CV 4/5; 7/72] END criterion=gini, max_depth=2, n_estimators=100; total time=   0.4s\n",
      "[CV 5/5; 7/72] START criterion=gini, max_depth=2, n_estimators=100..............\n",
      "[CV 5/5; 7/72] END criterion=gini, max_depth=2, n_estimators=100; total time=   0.3s\n",
      "[CV 1/5; 8/72] START criterion=gini, max_depth=2, n_estimators=200..............\n",
      "[CV 1/5; 8/72] END criterion=gini, max_depth=2, n_estimators=200; total time=   0.5s\n",
      "[CV 2/5; 8/72] START criterion=gini, max_depth=2, n_estimators=200..............\n",
      "[CV 2/5; 8/72] END criterion=gini, max_depth=2, n_estimators=200; total time=   0.5s\n",
      "[CV 3/5; 8/72] START criterion=gini, max_depth=2, n_estimators=200..............\n",
      "[CV 3/5; 8/72] END criterion=gini, max_depth=2, n_estimators=200; total time=   0.6s\n",
      "[CV 4/5; 8/72] START criterion=gini, max_depth=2, n_estimators=200..............\n",
      "[CV 4/5; 8/72] END criterion=gini, max_depth=2, n_estimators=200; total time=   0.6s\n",
      "[CV 5/5; 8/72] START criterion=gini, max_depth=2, n_estimators=200..............\n",
      "[CV 5/5; 8/72] END criterion=gini, max_depth=2, n_estimators=200; total time=   0.8s\n",
      "[CV 1/5; 9/72] START criterion=gini, max_depth=2, n_estimators=250..............\n",
      "[CV 1/5; 9/72] END criterion=gini, max_depth=2, n_estimators=250; total time=   0.7s\n",
      "[CV 2/5; 9/72] START criterion=gini, max_depth=2, n_estimators=250..............\n",
      "[CV 2/5; 9/72] END criterion=gini, max_depth=2, n_estimators=250; total time=   0.9s\n",
      "[CV 3/5; 9/72] START criterion=gini, max_depth=2, n_estimators=250..............\n",
      "[CV 3/5; 9/72] END criterion=gini, max_depth=2, n_estimators=250; total time=   0.7s\n",
      "[CV 4/5; 9/72] START criterion=gini, max_depth=2, n_estimators=250..............\n",
      "[CV 4/5; 9/72] END criterion=gini, max_depth=2, n_estimators=250; total time=   0.7s\n",
      "[CV 5/5; 9/72] START criterion=gini, max_depth=2, n_estimators=250..............\n",
      "[CV 5/5; 9/72] END criterion=gini, max_depth=2, n_estimators=250; total time=   0.8s\n",
      "[CV 1/5; 10/72] START criterion=gini, max_depth=2, n_estimators=300.............\n",
      "[CV 1/5; 10/72] END criterion=gini, max_depth=2, n_estimators=300; total time=   0.9s\n",
      "[CV 2/5; 10/72] START criterion=gini, max_depth=2, n_estimators=300.............\n",
      "[CV 2/5; 10/72] END criterion=gini, max_depth=2, n_estimators=300; total time=   1.1s\n",
      "[CV 3/5; 10/72] START criterion=gini, max_depth=2, n_estimators=300.............\n",
      "[CV 3/5; 10/72] END criterion=gini, max_depth=2, n_estimators=300; total time=   0.9s\n",
      "[CV 4/5; 10/72] START criterion=gini, max_depth=2, n_estimators=300.............\n",
      "[CV 4/5; 10/72] END criterion=gini, max_depth=2, n_estimators=300; total time=   1.0s\n",
      "[CV 5/5; 10/72] START criterion=gini, max_depth=2, n_estimators=300.............\n"
     ]
    },
    {
     "name": "stdout",
     "output_type": "stream",
     "text": [
      "[CV 5/5; 10/72] END criterion=gini, max_depth=2, n_estimators=300; total time=   1.4s\n",
      "[CV 1/5; 11/72] START criterion=gini, max_depth=2, n_estimators=400.............\n",
      "[CV 1/5; 11/72] END criterion=gini, max_depth=2, n_estimators=400; total time=   1.2s\n",
      "[CV 2/5; 11/72] START criterion=gini, max_depth=2, n_estimators=400.............\n",
      "[CV 2/5; 11/72] END criterion=gini, max_depth=2, n_estimators=400; total time=   1.3s\n",
      "[CV 3/5; 11/72] START criterion=gini, max_depth=2, n_estimators=400.............\n",
      "[CV 3/5; 11/72] END criterion=gini, max_depth=2, n_estimators=400; total time=   1.2s\n",
      "[CV 4/5; 11/72] START criterion=gini, max_depth=2, n_estimators=400.............\n",
      "[CV 4/5; 11/72] END criterion=gini, max_depth=2, n_estimators=400; total time=   1.4s\n",
      "[CV 5/5; 11/72] START criterion=gini, max_depth=2, n_estimators=400.............\n",
      "[CV 5/5; 11/72] END criterion=gini, max_depth=2, n_estimators=400; total time=   1.4s\n",
      "[CV 1/5; 12/72] START criterion=gini, max_depth=2, n_estimators=500.............\n",
      "[CV 1/5; 12/72] END criterion=gini, max_depth=2, n_estimators=500; total time=   1.4s\n",
      "[CV 2/5; 12/72] START criterion=gini, max_depth=2, n_estimators=500.............\n",
      "[CV 2/5; 12/72] END criterion=gini, max_depth=2, n_estimators=500; total time=   1.6s\n",
      "[CV 3/5; 12/72] START criterion=gini, max_depth=2, n_estimators=500.............\n",
      "[CV 3/5; 12/72] END criterion=gini, max_depth=2, n_estimators=500; total time=   1.6s\n",
      "[CV 4/5; 12/72] START criterion=gini, max_depth=2, n_estimators=500.............\n",
      "[CV 4/5; 12/72] END criterion=gini, max_depth=2, n_estimators=500; total time=   1.7s\n",
      "[CV 5/5; 12/72] START criterion=gini, max_depth=2, n_estimators=500.............\n",
      "[CV 5/5; 12/72] END criterion=gini, max_depth=2, n_estimators=500; total time=   1.8s\n",
      "[CV 1/5; 13/72] START criterion=gini, max_depth=5, n_estimators=100.............\n",
      "[CV 1/5; 13/72] END criterion=gini, max_depth=5, n_estimators=100; total time=   0.4s\n",
      "[CV 2/5; 13/72] START criterion=gini, max_depth=5, n_estimators=100.............\n",
      "[CV 2/5; 13/72] END criterion=gini, max_depth=5, n_estimators=100; total time=   0.4s\n",
      "[CV 3/5; 13/72] START criterion=gini, max_depth=5, n_estimators=100.............\n",
      "[CV 3/5; 13/72] END criterion=gini, max_depth=5, n_estimators=100; total time=   0.4s\n",
      "[CV 4/5; 13/72] START criterion=gini, max_depth=5, n_estimators=100.............\n",
      "[CV 4/5; 13/72] END criterion=gini, max_depth=5, n_estimators=100; total time=   0.3s\n",
      "[CV 5/5; 13/72] START criterion=gini, max_depth=5, n_estimators=100.............\n",
      "[CV 5/5; 13/72] END criterion=gini, max_depth=5, n_estimators=100; total time=   0.3s\n",
      "[CV 1/5; 14/72] START criterion=gini, max_depth=5, n_estimators=200.............\n",
      "[CV 1/5; 14/72] END criterion=gini, max_depth=5, n_estimators=200; total time=   0.7s\n",
      "[CV 2/5; 14/72] START criterion=gini, max_depth=5, n_estimators=200.............\n",
      "[CV 2/5; 14/72] END criterion=gini, max_depth=5, n_estimators=200; total time=   0.7s\n",
      "[CV 3/5; 14/72] START criterion=gini, max_depth=5, n_estimators=200.............\n",
      "[CV 3/5; 14/72] END criterion=gini, max_depth=5, n_estimators=200; total time=   0.6s\n",
      "[CV 4/5; 14/72] START criterion=gini, max_depth=5, n_estimators=200.............\n",
      "[CV 4/5; 14/72] END criterion=gini, max_depth=5, n_estimators=200; total time=   0.7s\n",
      "[CV 5/5; 14/72] START criterion=gini, max_depth=5, n_estimators=200.............\n",
      "[CV 5/5; 14/72] END criterion=gini, max_depth=5, n_estimators=200; total time=   0.8s\n",
      "[CV 1/5; 15/72] START criterion=gini, max_depth=5, n_estimators=250.............\n",
      "[CV 1/5; 15/72] END criterion=gini, max_depth=5, n_estimators=250; total time=   1.0s\n",
      "[CV 2/5; 15/72] START criterion=gini, max_depth=5, n_estimators=250.............\n",
      "[CV 2/5; 15/72] END criterion=gini, max_depth=5, n_estimators=250; total time=   0.8s\n",
      "[CV 3/5; 15/72] START criterion=gini, max_depth=5, n_estimators=250.............\n",
      "[CV 3/5; 15/72] END criterion=gini, max_depth=5, n_estimators=250; total time=   0.8s\n",
      "[CV 4/5; 15/72] START criterion=gini, max_depth=5, n_estimators=250.............\n",
      "[CV 4/5; 15/72] END criterion=gini, max_depth=5, n_estimators=250; total time=   0.9s\n",
      "[CV 5/5; 15/72] START criterion=gini, max_depth=5, n_estimators=250.............\n",
      "[CV 5/5; 15/72] END criterion=gini, max_depth=5, n_estimators=250; total time=   0.7s\n",
      "[CV 1/5; 16/72] START criterion=gini, max_depth=5, n_estimators=300.............\n",
      "[CV 1/5; 16/72] END criterion=gini, max_depth=5, n_estimators=300; total time=   1.1s\n",
      "[CV 2/5; 16/72] START criterion=gini, max_depth=5, n_estimators=300.............\n",
      "[CV 2/5; 16/72] END criterion=gini, max_depth=5, n_estimators=300; total time=   1.1s\n",
      "[CV 3/5; 16/72] START criterion=gini, max_depth=5, n_estimators=300.............\n",
      "[CV 3/5; 16/72] END criterion=gini, max_depth=5, n_estimators=300; total time=   1.1s\n",
      "[CV 4/5; 16/72] START criterion=gini, max_depth=5, n_estimators=300.............\n",
      "[CV 4/5; 16/72] END criterion=gini, max_depth=5, n_estimators=300; total time=   1.3s\n",
      "[CV 5/5; 16/72] START criterion=gini, max_depth=5, n_estimators=300.............\n",
      "[CV 5/5; 16/72] END criterion=gini, max_depth=5, n_estimators=300; total time=   1.1s\n",
      "[CV 1/5; 17/72] START criterion=gini, max_depth=5, n_estimators=400.............\n",
      "[CV 1/5; 17/72] END criterion=gini, max_depth=5, n_estimators=400; total time=   1.5s\n",
      "[CV 2/5; 17/72] START criterion=gini, max_depth=5, n_estimators=400.............\n",
      "[CV 2/5; 17/72] END criterion=gini, max_depth=5, n_estimators=400; total time=   1.4s\n",
      "[CV 3/5; 17/72] START criterion=gini, max_depth=5, n_estimators=400.............\n",
      "[CV 3/5; 17/72] END criterion=gini, max_depth=5, n_estimators=400; total time=   1.2s\n",
      "[CV 4/5; 17/72] START criterion=gini, max_depth=5, n_estimators=400.............\n",
      "[CV 4/5; 17/72] END criterion=gini, max_depth=5, n_estimators=400; total time=   1.3s\n",
      "[CV 5/5; 17/72] START criterion=gini, max_depth=5, n_estimators=400.............\n",
      "[CV 5/5; 17/72] END criterion=gini, max_depth=5, n_estimators=400; total time=   1.5s\n",
      "[CV 1/5; 18/72] START criterion=gini, max_depth=5, n_estimators=500.............\n",
      "[CV 1/5; 18/72] END criterion=gini, max_depth=5, n_estimators=500; total time=   1.5s\n",
      "[CV 2/5; 18/72] START criterion=gini, max_depth=5, n_estimators=500.............\n",
      "[CV 2/5; 18/72] END criterion=gini, max_depth=5, n_estimators=500; total time=   1.5s\n",
      "[CV 3/5; 18/72] START criterion=gini, max_depth=5, n_estimators=500.............\n",
      "[CV 3/5; 18/72] END criterion=gini, max_depth=5, n_estimators=500; total time=   1.4s\n",
      "[CV 4/5; 18/72] START criterion=gini, max_depth=5, n_estimators=500.............\n",
      "[CV 4/5; 18/72] END criterion=gini, max_depth=5, n_estimators=500; total time=   1.9s\n",
      "[CV 5/5; 18/72] START criterion=gini, max_depth=5, n_estimators=500.............\n",
      "[CV 5/5; 18/72] END criterion=gini, max_depth=5, n_estimators=500; total time=   1.6s\n",
      "[CV 1/5; 19/72] START criterion=gini, max_depth=7, n_estimators=100.............\n",
      "[CV 1/5; 19/72] END criterion=gini, max_depth=7, n_estimators=100; total time=   0.3s\n",
      "[CV 2/5; 19/72] START criterion=gini, max_depth=7, n_estimators=100.............\n",
      "[CV 2/5; 19/72] END criterion=gini, max_depth=7, n_estimators=100; total time=   0.3s\n",
      "[CV 3/5; 19/72] START criterion=gini, max_depth=7, n_estimators=100.............\n",
      "[CV 3/5; 19/72] END criterion=gini, max_depth=7, n_estimators=100; total time=   0.3s\n",
      "[CV 4/5; 19/72] START criterion=gini, max_depth=7, n_estimators=100.............\n",
      "[CV 4/5; 19/72] END criterion=gini, max_depth=7, n_estimators=100; total time=   0.4s\n",
      "[CV 5/5; 19/72] START criterion=gini, max_depth=7, n_estimators=100.............\n",
      "[CV 5/5; 19/72] END criterion=gini, max_depth=7, n_estimators=100; total time=   0.4s\n",
      "[CV 1/5; 20/72] START criterion=gini, max_depth=7, n_estimators=200.............\n",
      "[CV 1/5; 20/72] END criterion=gini, max_depth=7, n_estimators=200; total time=   0.7s\n",
      "[CV 2/5; 20/72] START criterion=gini, max_depth=7, n_estimators=200.............\n",
      "[CV 2/5; 20/72] END criterion=gini, max_depth=7, n_estimators=200; total time=   0.6s\n",
      "[CV 3/5; 20/72] START criterion=gini, max_depth=7, n_estimators=200.............\n",
      "[CV 3/5; 20/72] END criterion=gini, max_depth=7, n_estimators=200; total time=   0.6s\n",
      "[CV 4/5; 20/72] START criterion=gini, max_depth=7, n_estimators=200.............\n",
      "[CV 4/5; 20/72] END criterion=gini, max_depth=7, n_estimators=200; total time=   0.7s\n",
      "[CV 5/5; 20/72] START criterion=gini, max_depth=7, n_estimators=200.............\n"
     ]
    },
    {
     "name": "stdout",
     "output_type": "stream",
     "text": [
      "[CV 5/5; 20/72] END criterion=gini, max_depth=7, n_estimators=200; total time=   0.6s\n",
      "[CV 1/5; 21/72] START criterion=gini, max_depth=7, n_estimators=250.............\n",
      "[CV 1/5; 21/72] END criterion=gini, max_depth=7, n_estimators=250; total time=   0.8s\n",
      "[CV 2/5; 21/72] START criterion=gini, max_depth=7, n_estimators=250.............\n",
      "[CV 2/5; 21/72] END criterion=gini, max_depth=7, n_estimators=250; total time=   1.2s\n",
      "[CV 3/5; 21/72] START criterion=gini, max_depth=7, n_estimators=250.............\n",
      "[CV 3/5; 21/72] END criterion=gini, max_depth=7, n_estimators=250; total time=   0.8s\n",
      "[CV 4/5; 21/72] START criterion=gini, max_depth=7, n_estimators=250.............\n",
      "[CV 4/5; 21/72] END criterion=gini, max_depth=7, n_estimators=250; total time=   0.8s\n",
      "[CV 5/5; 21/72] START criterion=gini, max_depth=7, n_estimators=250.............\n",
      "[CV 5/5; 21/72] END criterion=gini, max_depth=7, n_estimators=250; total time=   0.8s\n",
      "[CV 1/5; 22/72] START criterion=gini, max_depth=7, n_estimators=300.............\n",
      "[CV 1/5; 22/72] END criterion=gini, max_depth=7, n_estimators=300; total time=   1.0s\n",
      "[CV 2/5; 22/72] START criterion=gini, max_depth=7, n_estimators=300.............\n",
      "[CV 2/5; 22/72] END criterion=gini, max_depth=7, n_estimators=300; total time=   1.1s\n",
      "[CV 3/5; 22/72] START criterion=gini, max_depth=7, n_estimators=300.............\n",
      "[CV 3/5; 22/72] END criterion=gini, max_depth=7, n_estimators=300; total time=   1.1s\n",
      "[CV 4/5; 22/72] START criterion=gini, max_depth=7, n_estimators=300.............\n",
      "[CV 4/5; 22/72] END criterion=gini, max_depth=7, n_estimators=300; total time=   1.1s\n",
      "[CV 5/5; 22/72] START criterion=gini, max_depth=7, n_estimators=300.............\n",
      "[CV 5/5; 22/72] END criterion=gini, max_depth=7, n_estimators=300; total time=   1.0s\n",
      "[CV 1/5; 23/72] START criterion=gini, max_depth=7, n_estimators=400.............\n",
      "[CV 1/5; 23/72] END criterion=gini, max_depth=7, n_estimators=400; total time=   1.3s\n",
      "[CV 2/5; 23/72] START criterion=gini, max_depth=7, n_estimators=400.............\n",
      "[CV 2/5; 23/72] END criterion=gini, max_depth=7, n_estimators=400; total time=   1.4s\n",
      "[CV 3/5; 23/72] START criterion=gini, max_depth=7, n_estimators=400.............\n",
      "[CV 3/5; 23/72] END criterion=gini, max_depth=7, n_estimators=400; total time=   1.1s\n",
      "[CV 4/5; 23/72] START criterion=gini, max_depth=7, n_estimators=400.............\n",
      "[CV 4/5; 23/72] END criterion=gini, max_depth=7, n_estimators=400; total time=   1.2s\n",
      "[CV 5/5; 23/72] START criterion=gini, max_depth=7, n_estimators=400.............\n",
      "[CV 5/5; 23/72] END criterion=gini, max_depth=7, n_estimators=400; total time=   1.5s\n",
      "[CV 1/5; 24/72] START criterion=gini, max_depth=7, n_estimators=500.............\n",
      "[CV 1/5; 24/72] END criterion=gini, max_depth=7, n_estimators=500; total time=   1.5s\n",
      "[CV 2/5; 24/72] START criterion=gini, max_depth=7, n_estimators=500.............\n",
      "[CV 2/5; 24/72] END criterion=gini, max_depth=7, n_estimators=500; total time=   1.6s\n",
      "[CV 3/5; 24/72] START criterion=gini, max_depth=7, n_estimators=500.............\n",
      "[CV 3/5; 24/72] END criterion=gini, max_depth=7, n_estimators=500; total time=   1.6s\n",
      "[CV 4/5; 24/72] START criterion=gini, max_depth=7, n_estimators=500.............\n",
      "[CV 4/5; 24/72] END criterion=gini, max_depth=7, n_estimators=500; total time=   1.5s\n",
      "[CV 5/5; 24/72] START criterion=gini, max_depth=7, n_estimators=500.............\n",
      "[CV 5/5; 24/72] END criterion=gini, max_depth=7, n_estimators=500; total time=   1.9s\n",
      "[CV 1/5; 25/72] START criterion=gini, max_depth=11, n_estimators=100............\n",
      "[CV 1/5; 25/72] END criterion=gini, max_depth=11, n_estimators=100; total time=   0.4s\n",
      "[CV 2/5; 25/72] START criterion=gini, max_depth=11, n_estimators=100............\n",
      "[CV 2/5; 25/72] END criterion=gini, max_depth=11, n_estimators=100; total time=   0.4s\n",
      "[CV 3/5; 25/72] START criterion=gini, max_depth=11, n_estimators=100............\n",
      "[CV 3/5; 25/72] END criterion=gini, max_depth=11, n_estimators=100; total time=   0.4s\n",
      "[CV 4/5; 25/72] START criterion=gini, max_depth=11, n_estimators=100............\n",
      "[CV 4/5; 25/72] END criterion=gini, max_depth=11, n_estimators=100; total time=   0.4s\n",
      "[CV 5/5; 25/72] START criterion=gini, max_depth=11, n_estimators=100............\n",
      "[CV 5/5; 25/72] END criterion=gini, max_depth=11, n_estimators=100; total time=   0.4s\n",
      "[CV 1/5; 26/72] START criterion=gini, max_depth=11, n_estimators=200............\n",
      "[CV 1/5; 26/72] END criterion=gini, max_depth=11, n_estimators=200; total time=   0.7s\n",
      "[CV 2/5; 26/72] START criterion=gini, max_depth=11, n_estimators=200............\n",
      "[CV 2/5; 26/72] END criterion=gini, max_depth=11, n_estimators=200; total time=   0.7s\n",
      "[CV 3/5; 26/72] START criterion=gini, max_depth=11, n_estimators=200............\n",
      "[CV 3/5; 26/72] END criterion=gini, max_depth=11, n_estimators=200; total time=   0.9s\n",
      "[CV 4/5; 26/72] START criterion=gini, max_depth=11, n_estimators=200............\n",
      "[CV 4/5; 26/72] END criterion=gini, max_depth=11, n_estimators=200; total time=   0.7s\n",
      "[CV 5/5; 26/72] START criterion=gini, max_depth=11, n_estimators=200............\n",
      "[CV 5/5; 26/72] END criterion=gini, max_depth=11, n_estimators=200; total time=   0.8s\n",
      "[CV 1/5; 27/72] START criterion=gini, max_depth=11, n_estimators=250............\n",
      "[CV 1/5; 27/72] END criterion=gini, max_depth=11, n_estimators=250; total time=   0.8s\n",
      "[CV 2/5; 27/72] START criterion=gini, max_depth=11, n_estimators=250............\n",
      "[CV 2/5; 27/72] END criterion=gini, max_depth=11, n_estimators=250; total time=   0.9s\n",
      "[CV 3/5; 27/72] START criterion=gini, max_depth=11, n_estimators=250............\n",
      "[CV 3/5; 27/72] END criterion=gini, max_depth=11, n_estimators=250; total time=   0.9s\n",
      "[CV 4/5; 27/72] START criterion=gini, max_depth=11, n_estimators=250............\n",
      "[CV 4/5; 27/72] END criterion=gini, max_depth=11, n_estimators=250; total time=   0.9s\n",
      "[CV 5/5; 27/72] START criterion=gini, max_depth=11, n_estimators=250............\n",
      "[CV 5/5; 27/72] END criterion=gini, max_depth=11, n_estimators=250; total time=   0.9s\n",
      "[CV 1/5; 28/72] START criterion=gini, max_depth=11, n_estimators=300............\n",
      "[CV 1/5; 28/72] END criterion=gini, max_depth=11, n_estimators=300; total time=   1.2s\n",
      "[CV 2/5; 28/72] START criterion=gini, max_depth=11, n_estimators=300............\n",
      "[CV 2/5; 28/72] END criterion=gini, max_depth=11, n_estimators=300; total time=   1.1s\n",
      "[CV 3/5; 28/72] START criterion=gini, max_depth=11, n_estimators=300............\n",
      "[CV 3/5; 28/72] END criterion=gini, max_depth=11, n_estimators=300; total time=   1.2s\n",
      "[CV 4/5; 28/72] START criterion=gini, max_depth=11, n_estimators=300............\n",
      "[CV 4/5; 28/72] END criterion=gini, max_depth=11, n_estimators=300; total time=   1.2s\n",
      "[CV 5/5; 28/72] START criterion=gini, max_depth=11, n_estimators=300............\n",
      "[CV 5/5; 28/72] END criterion=gini, max_depth=11, n_estimators=300; total time=   1.2s\n",
      "[CV 1/5; 29/72] START criterion=gini, max_depth=11, n_estimators=400............\n",
      "[CV 1/5; 29/72] END criterion=gini, max_depth=11, n_estimators=400; total time=   1.6s\n",
      "[CV 2/5; 29/72] START criterion=gini, max_depth=11, n_estimators=400............\n",
      "[CV 2/5; 29/72] END criterion=gini, max_depth=11, n_estimators=400; total time=   1.4s\n",
      "[CV 3/5; 29/72] START criterion=gini, max_depth=11, n_estimators=400............\n",
      "[CV 3/5; 29/72] END criterion=gini, max_depth=11, n_estimators=400; total time=   1.4s\n",
      "[CV 4/5; 29/72] START criterion=gini, max_depth=11, n_estimators=400............\n",
      "[CV 4/5; 29/72] END criterion=gini, max_depth=11, n_estimators=400; total time=   1.5s\n",
      "[CV 5/5; 29/72] START criterion=gini, max_depth=11, n_estimators=400............\n",
      "[CV 5/5; 29/72] END criterion=gini, max_depth=11, n_estimators=400; total time=   1.5s\n",
      "[CV 1/5; 30/72] START criterion=gini, max_depth=11, n_estimators=500............\n",
      "[CV 1/5; 30/72] END criterion=gini, max_depth=11, n_estimators=500; total time=   1.9s\n",
      "[CV 2/5; 30/72] START criterion=gini, max_depth=11, n_estimators=500............\n",
      "[CV 2/5; 30/72] END criterion=gini, max_depth=11, n_estimators=500; total time=   1.8s\n",
      "[CV 3/5; 30/72] START criterion=gini, max_depth=11, n_estimators=500............\n",
      "[CV 3/5; 30/72] END criterion=gini, max_depth=11, n_estimators=500; total time=   1.8s\n",
      "[CV 4/5; 30/72] START criterion=gini, max_depth=11, n_estimators=500............\n"
     ]
    },
    {
     "name": "stdout",
     "output_type": "stream",
     "text": [
      "[CV 4/5; 30/72] END criterion=gini, max_depth=11, n_estimators=500; total time=   1.8s\n",
      "[CV 5/5; 30/72] START criterion=gini, max_depth=11, n_estimators=500............\n",
      "[CV 5/5; 30/72] END criterion=gini, max_depth=11, n_estimators=500; total time=   1.8s\n",
      "[CV 1/5; 31/72] START criterion=gini, max_depth=15, n_estimators=100............\n",
      "[CV 1/5; 31/72] END criterion=gini, max_depth=15, n_estimators=100; total time=   0.4s\n",
      "[CV 2/5; 31/72] START criterion=gini, max_depth=15, n_estimators=100............\n",
      "[CV 2/5; 31/72] END criterion=gini, max_depth=15, n_estimators=100; total time=   0.5s\n",
      "[CV 3/5; 31/72] START criterion=gini, max_depth=15, n_estimators=100............\n",
      "[CV 3/5; 31/72] END criterion=gini, max_depth=15, n_estimators=100; total time=   0.4s\n",
      "[CV 4/5; 31/72] START criterion=gini, max_depth=15, n_estimators=100............\n",
      "[CV 4/5; 31/72] END criterion=gini, max_depth=15, n_estimators=100; total time=   0.4s\n",
      "[CV 5/5; 31/72] START criterion=gini, max_depth=15, n_estimators=100............\n",
      "[CV 5/5; 31/72] END criterion=gini, max_depth=15, n_estimators=100; total time=   0.4s\n",
      "[CV 1/5; 32/72] START criterion=gini, max_depth=15, n_estimators=200............\n",
      "[CV 1/5; 32/72] END criterion=gini, max_depth=15, n_estimators=200; total time=   0.8s\n",
      "[CV 2/5; 32/72] START criterion=gini, max_depth=15, n_estimators=200............\n",
      "[CV 2/5; 32/72] END criterion=gini, max_depth=15, n_estimators=200; total time=   0.9s\n",
      "[CV 3/5; 32/72] START criterion=gini, max_depth=15, n_estimators=200............\n",
      "[CV 3/5; 32/72] END criterion=gini, max_depth=15, n_estimators=200; total time=   0.9s\n",
      "[CV 4/5; 32/72] START criterion=gini, max_depth=15, n_estimators=200............\n",
      "[CV 4/5; 32/72] END criterion=gini, max_depth=15, n_estimators=200; total time=   0.8s\n",
      "[CV 5/5; 32/72] START criterion=gini, max_depth=15, n_estimators=200............\n",
      "[CV 5/5; 32/72] END criterion=gini, max_depth=15, n_estimators=200; total time=   0.8s\n",
      "[CV 1/5; 33/72] START criterion=gini, max_depth=15, n_estimators=250............\n",
      "[CV 1/5; 33/72] END criterion=gini, max_depth=15, n_estimators=250; total time=   1.1s\n",
      "[CV 2/5; 33/72] START criterion=gini, max_depth=15, n_estimators=250............\n",
      "[CV 2/5; 33/72] END criterion=gini, max_depth=15, n_estimators=250; total time=   1.2s\n",
      "[CV 3/5; 33/72] START criterion=gini, max_depth=15, n_estimators=250............\n",
      "[CV 3/5; 33/72] END criterion=gini, max_depth=15, n_estimators=250; total time=   1.0s\n",
      "[CV 4/5; 33/72] START criterion=gini, max_depth=15, n_estimators=250............\n",
      "[CV 4/5; 33/72] END criterion=gini, max_depth=15, n_estimators=250; total time=   1.0s\n",
      "[CV 5/5; 33/72] START criterion=gini, max_depth=15, n_estimators=250............\n",
      "[CV 5/5; 33/72] END criterion=gini, max_depth=15, n_estimators=250; total time=   1.2s\n",
      "[CV 1/5; 34/72] START criterion=gini, max_depth=15, n_estimators=300............\n",
      "[CV 1/5; 34/72] END criterion=gini, max_depth=15, n_estimators=300; total time=   1.4s\n",
      "[CV 2/5; 34/72] START criterion=gini, max_depth=15, n_estimators=300............\n",
      "[CV 2/5; 34/72] END criterion=gini, max_depth=15, n_estimators=300; total time=   1.6s\n",
      "[CV 3/5; 34/72] START criterion=gini, max_depth=15, n_estimators=300............\n",
      "[CV 3/5; 34/72] END criterion=gini, max_depth=15, n_estimators=300; total time=   1.3s\n",
      "[CV 4/5; 34/72] START criterion=gini, max_depth=15, n_estimators=300............\n",
      "[CV 4/5; 34/72] END criterion=gini, max_depth=15, n_estimators=300; total time=   1.2s\n",
      "[CV 5/5; 34/72] START criterion=gini, max_depth=15, n_estimators=300............\n",
      "[CV 5/5; 34/72] END criterion=gini, max_depth=15, n_estimators=300; total time=   1.2s\n",
      "[CV 1/5; 35/72] START criterion=gini, max_depth=15, n_estimators=400............\n",
      "[CV 1/5; 35/72] END criterion=gini, max_depth=15, n_estimators=400; total time=   2.2s\n",
      "[CV 2/5; 35/72] START criterion=gini, max_depth=15, n_estimators=400............\n",
      "[CV 2/5; 35/72] END criterion=gini, max_depth=15, n_estimators=400; total time=   1.7s\n",
      "[CV 3/5; 35/72] START criterion=gini, max_depth=15, n_estimators=400............\n",
      "[CV 3/5; 35/72] END criterion=gini, max_depth=15, n_estimators=400; total time=   1.7s\n",
      "[CV 4/5; 35/72] START criterion=gini, max_depth=15, n_estimators=400............\n",
      "[CV 4/5; 35/72] END criterion=gini, max_depth=15, n_estimators=400; total time=   1.9s\n",
      "[CV 5/5; 35/72] START criterion=gini, max_depth=15, n_estimators=400............\n",
      "[CV 5/5; 35/72] END criterion=gini, max_depth=15, n_estimators=400; total time=   1.7s\n",
      "[CV 1/5; 36/72] START criterion=gini, max_depth=15, n_estimators=500............\n",
      "[CV 1/5; 36/72] END criterion=gini, max_depth=15, n_estimators=500; total time=   2.1s\n",
      "[CV 2/5; 36/72] START criterion=gini, max_depth=15, n_estimators=500............\n",
      "[CV 2/5; 36/72] END criterion=gini, max_depth=15, n_estimators=500; total time=   2.1s\n",
      "[CV 3/5; 36/72] START criterion=gini, max_depth=15, n_estimators=500............\n",
      "[CV 3/5; 36/72] END criterion=gini, max_depth=15, n_estimators=500; total time=   2.0s\n",
      "[CV 4/5; 36/72] START criterion=gini, max_depth=15, n_estimators=500............\n",
      "[CV 4/5; 36/72] END criterion=gini, max_depth=15, n_estimators=500; total time=   2.1s\n",
      "[CV 5/5; 36/72] START criterion=gini, max_depth=15, n_estimators=500............\n",
      "[CV 5/5; 36/72] END criterion=gini, max_depth=15, n_estimators=500; total time=   2.1s\n",
      "[CV 1/5; 37/72] START criterion=entropy, max_depth=1, n_estimators=100..........\n",
      "[CV 1/5; 37/72] END criterion=entropy, max_depth=1, n_estimators=100; total time=   0.3s\n",
      "[CV 2/5; 37/72] START criterion=entropy, max_depth=1, n_estimators=100..........\n",
      "[CV 2/5; 37/72] END criterion=entropy, max_depth=1, n_estimators=100; total time=   0.3s\n",
      "[CV 3/5; 37/72] START criterion=entropy, max_depth=1, n_estimators=100..........\n",
      "[CV 3/5; 37/72] END criterion=entropy, max_depth=1, n_estimators=100; total time=   0.3s\n",
      "[CV 4/5; 37/72] START criterion=entropy, max_depth=1, n_estimators=100..........\n",
      "[CV 4/5; 37/72] END criterion=entropy, max_depth=1, n_estimators=100; total time=   0.3s\n",
      "[CV 5/5; 37/72] START criterion=entropy, max_depth=1, n_estimators=100..........\n",
      "[CV 5/5; 37/72] END criterion=entropy, max_depth=1, n_estimators=100; total time=   0.3s\n",
      "[CV 1/5; 38/72] START criterion=entropy, max_depth=1, n_estimators=200..........\n",
      "[CV 1/5; 38/72] END criterion=entropy, max_depth=1, n_estimators=200; total time=   0.7s\n",
      "[CV 2/5; 38/72] START criterion=entropy, max_depth=1, n_estimators=200..........\n",
      "[CV 2/5; 38/72] END criterion=entropy, max_depth=1, n_estimators=200; total time=   0.8s\n",
      "[CV 3/5; 38/72] START criterion=entropy, max_depth=1, n_estimators=200..........\n",
      "[CV 3/5; 38/72] END criterion=entropy, max_depth=1, n_estimators=200; total time=   0.6s\n",
      "[CV 4/5; 38/72] START criterion=entropy, max_depth=1, n_estimators=200..........\n",
      "[CV 4/5; 38/72] END criterion=entropy, max_depth=1, n_estimators=200; total time=   0.6s\n",
      "[CV 5/5; 38/72] START criterion=entropy, max_depth=1, n_estimators=200..........\n",
      "[CV 5/5; 38/72] END criterion=entropy, max_depth=1, n_estimators=200; total time=   0.6s\n",
      "[CV 1/5; 39/72] START criterion=entropy, max_depth=1, n_estimators=250..........\n",
      "[CV 1/5; 39/72] END criterion=entropy, max_depth=1, n_estimators=250; total time=   0.7s\n",
      "[CV 2/5; 39/72] START criterion=entropy, max_depth=1, n_estimators=250..........\n",
      "[CV 2/5; 39/72] END criterion=entropy, max_depth=1, n_estimators=250; total time=   0.8s\n",
      "[CV 3/5; 39/72] START criterion=entropy, max_depth=1, n_estimators=250..........\n",
      "[CV 3/5; 39/72] END criterion=entropy, max_depth=1, n_estimators=250; total time=   0.9s\n",
      "[CV 4/5; 39/72] START criterion=entropy, max_depth=1, n_estimators=250..........\n",
      "[CV 4/5; 39/72] END criterion=entropy, max_depth=1, n_estimators=250; total time=   1.0s\n",
      "[CV 5/5; 39/72] START criterion=entropy, max_depth=1, n_estimators=250..........\n",
      "[CV 5/5; 39/72] END criterion=entropy, max_depth=1, n_estimators=250; total time=   0.7s\n",
      "[CV 1/5; 40/72] START criterion=entropy, max_depth=1, n_estimators=300..........\n",
      "[CV 1/5; 40/72] END criterion=entropy, max_depth=1, n_estimators=300; total time=   0.9s\n",
      "[CV 2/5; 40/72] START criterion=entropy, max_depth=1, n_estimators=300..........\n",
      "[CV 2/5; 40/72] END criterion=entropy, max_depth=1, n_estimators=300; total time=   1.0s\n",
      "[CV 3/5; 40/72] START criterion=entropy, max_depth=1, n_estimators=300..........\n"
     ]
    },
    {
     "name": "stdout",
     "output_type": "stream",
     "text": [
      "[CV 3/5; 40/72] END criterion=entropy, max_depth=1, n_estimators=300; total time=   1.0s\n",
      "[CV 4/5; 40/72] START criterion=entropy, max_depth=1, n_estimators=300..........\n",
      "[CV 4/5; 40/72] END criterion=entropy, max_depth=1, n_estimators=300; total time=   0.8s\n",
      "[CV 5/5; 40/72] START criterion=entropy, max_depth=1, n_estimators=300..........\n",
      "[CV 5/5; 40/72] END criterion=entropy, max_depth=1, n_estimators=300; total time=   1.2s\n",
      "[CV 1/5; 41/72] START criterion=entropy, max_depth=1, n_estimators=400..........\n",
      "[CV 1/5; 41/72] END criterion=entropy, max_depth=1, n_estimators=400; total time=   1.0s\n",
      "[CV 2/5; 41/72] START criterion=entropy, max_depth=1, n_estimators=400..........\n",
      "[CV 2/5; 41/72] END criterion=entropy, max_depth=1, n_estimators=400; total time=   1.2s\n",
      "[CV 3/5; 41/72] START criterion=entropy, max_depth=1, n_estimators=400..........\n",
      "[CV 3/5; 41/72] END criterion=entropy, max_depth=1, n_estimators=400; total time=   1.1s\n",
      "[CV 4/5; 41/72] START criterion=entropy, max_depth=1, n_estimators=400..........\n",
      "[CV 4/5; 41/72] END criterion=entropy, max_depth=1, n_estimators=400; total time=   1.5s\n",
      "[CV 5/5; 41/72] START criterion=entropy, max_depth=1, n_estimators=400..........\n",
      "[CV 5/5; 41/72] END criterion=entropy, max_depth=1, n_estimators=400; total time=   1.1s\n",
      "[CV 1/5; 42/72] START criterion=entropy, max_depth=1, n_estimators=500..........\n",
      "[CV 1/5; 42/72] END criterion=entropy, max_depth=1, n_estimators=500; total time=   1.3s\n",
      "[CV 2/5; 42/72] START criterion=entropy, max_depth=1, n_estimators=500..........\n",
      "[CV 2/5; 42/72] END criterion=entropy, max_depth=1, n_estimators=500; total time=   1.4s\n",
      "[CV 3/5; 42/72] START criterion=entropy, max_depth=1, n_estimators=500..........\n",
      "[CV 3/5; 42/72] END criterion=entropy, max_depth=1, n_estimators=500; total time=   1.8s\n",
      "[CV 4/5; 42/72] START criterion=entropy, max_depth=1, n_estimators=500..........\n",
      "[CV 4/5; 42/72] END criterion=entropy, max_depth=1, n_estimators=500; total time=   1.4s\n",
      "[CV 5/5; 42/72] START criterion=entropy, max_depth=1, n_estimators=500..........\n",
      "[CV 5/5; 42/72] END criterion=entropy, max_depth=1, n_estimators=500; total time=   1.1s\n",
      "[CV 1/5; 43/72] START criterion=entropy, max_depth=2, n_estimators=100..........\n",
      "[CV 1/5; 43/72] END criterion=entropy, max_depth=2, n_estimators=100; total time=   0.3s\n",
      "[CV 2/5; 43/72] START criterion=entropy, max_depth=2, n_estimators=100..........\n",
      "[CV 2/5; 43/72] END criterion=entropy, max_depth=2, n_estimators=100; total time=   0.3s\n",
      "[CV 3/5; 43/72] START criterion=entropy, max_depth=2, n_estimators=100..........\n",
      "[CV 3/5; 43/72] END criterion=entropy, max_depth=2, n_estimators=100; total time=   0.3s\n",
      "[CV 4/5; 43/72] START criterion=entropy, max_depth=2, n_estimators=100..........\n",
      "[CV 4/5; 43/72] END criterion=entropy, max_depth=2, n_estimators=100; total time=   0.4s\n",
      "[CV 5/5; 43/72] START criterion=entropy, max_depth=2, n_estimators=100..........\n",
      "[CV 5/5; 43/72] END criterion=entropy, max_depth=2, n_estimators=100; total time=   0.4s\n",
      "[CV 1/5; 44/72] START criterion=entropy, max_depth=2, n_estimators=200..........\n",
      "[CV 1/5; 44/72] END criterion=entropy, max_depth=2, n_estimators=200; total time=   0.7s\n",
      "[CV 2/5; 44/72] START criterion=entropy, max_depth=2, n_estimators=200..........\n",
      "[CV 2/5; 44/72] END criterion=entropy, max_depth=2, n_estimators=200; total time=   0.6s\n",
      "[CV 3/5; 44/72] START criterion=entropy, max_depth=2, n_estimators=200..........\n",
      "[CV 3/5; 44/72] END criterion=entropy, max_depth=2, n_estimators=200; total time=   0.6s\n",
      "[CV 4/5; 44/72] START criterion=entropy, max_depth=2, n_estimators=200..........\n",
      "[CV 4/5; 44/72] END criterion=entropy, max_depth=2, n_estimators=200; total time=   0.7s\n",
      "[CV 5/5; 44/72] START criterion=entropy, max_depth=2, n_estimators=200..........\n",
      "[CV 5/5; 44/72] END criterion=entropy, max_depth=2, n_estimators=200; total time=   0.6s\n",
      "[CV 1/5; 45/72] START criterion=entropy, max_depth=2, n_estimators=250..........\n",
      "[CV 1/5; 45/72] END criterion=entropy, max_depth=2, n_estimators=250; total time=   0.7s\n",
      "[CV 2/5; 45/72] START criterion=entropy, max_depth=2, n_estimators=250..........\n",
      "[CV 2/5; 45/72] END criterion=entropy, max_depth=2, n_estimators=250; total time=   1.0s\n",
      "[CV 3/5; 45/72] START criterion=entropy, max_depth=2, n_estimators=250..........\n",
      "[CV 3/5; 45/72] END criterion=entropy, max_depth=2, n_estimators=250; total time=   0.5s\n",
      "[CV 4/5; 45/72] START criterion=entropy, max_depth=2, n_estimators=250..........\n",
      "[CV 4/5; 45/72] END criterion=entropy, max_depth=2, n_estimators=250; total time=   0.8s\n",
      "[CV 5/5; 45/72] START criterion=entropy, max_depth=2, n_estimators=250..........\n",
      "[CV 5/5; 45/72] END criterion=entropy, max_depth=2, n_estimators=250; total time=   0.7s\n",
      "[CV 1/5; 46/72] START criterion=entropy, max_depth=2, n_estimators=300..........\n",
      "[CV 1/5; 46/72] END criterion=entropy, max_depth=2, n_estimators=300; total time=   0.9s\n",
      "[CV 2/5; 46/72] START criterion=entropy, max_depth=2, n_estimators=300..........\n",
      "[CV 2/5; 46/72] END criterion=entropy, max_depth=2, n_estimators=300; total time=   1.0s\n",
      "[CV 3/5; 46/72] START criterion=entropy, max_depth=2, n_estimators=300..........\n",
      "[CV 3/5; 46/72] END criterion=entropy, max_depth=2, n_estimators=300; total time=   1.2s\n",
      "[CV 4/5; 46/72] START criterion=entropy, max_depth=2, n_estimators=300..........\n",
      "[CV 4/5; 46/72] END criterion=entropy, max_depth=2, n_estimators=300; total time=   0.9s\n",
      "[CV 5/5; 46/72] START criterion=entropy, max_depth=2, n_estimators=300..........\n",
      "[CV 5/5; 46/72] END criterion=entropy, max_depth=2, n_estimators=300; total time=   1.1s\n",
      "[CV 1/5; 47/72] START criterion=entropy, max_depth=2, n_estimators=400..........\n",
      "[CV 1/5; 47/72] END criterion=entropy, max_depth=2, n_estimators=400; total time=   1.1s\n",
      "[CV 2/5; 47/72] START criterion=entropy, max_depth=2, n_estimators=400..........\n",
      "[CV 2/5; 47/72] END criterion=entropy, max_depth=2, n_estimators=400; total time=   1.1s\n",
      "[CV 3/5; 47/72] START criterion=entropy, max_depth=2, n_estimators=400..........\n",
      "[CV 3/5; 47/72] END criterion=entropy, max_depth=2, n_estimators=400; total time=   1.4s\n",
      "[CV 4/5; 47/72] START criterion=entropy, max_depth=2, n_estimators=400..........\n",
      "[CV 4/5; 47/72] END criterion=entropy, max_depth=2, n_estimators=400; total time=   1.2s\n",
      "[CV 5/5; 47/72] START criterion=entropy, max_depth=2, n_estimators=400..........\n",
      "[CV 5/5; 47/72] END criterion=entropy, max_depth=2, n_estimators=400; total time=   1.2s\n",
      "[CV 1/5; 48/72] START criterion=entropy, max_depth=2, n_estimators=500..........\n",
      "[CV 1/5; 48/72] END criterion=entropy, max_depth=2, n_estimators=500; total time=   1.4s\n",
      "[CV 2/5; 48/72] START criterion=entropy, max_depth=2, n_estimators=500..........\n",
      "[CV 2/5; 48/72] END criterion=entropy, max_depth=2, n_estimators=500; total time=   1.8s\n",
      "[CV 3/5; 48/72] START criterion=entropy, max_depth=2, n_estimators=500..........\n",
      "[CV 3/5; 48/72] END criterion=entropy, max_depth=2, n_estimators=500; total time=   1.3s\n",
      "[CV 4/5; 48/72] START criterion=entropy, max_depth=2, n_estimators=500..........\n",
      "[CV 4/5; 48/72] END criterion=entropy, max_depth=2, n_estimators=500; total time=   1.4s\n",
      "[CV 5/5; 48/72] START criterion=entropy, max_depth=2, n_estimators=500..........\n",
      "[CV 5/5; 48/72] END criterion=entropy, max_depth=2, n_estimators=500; total time=   1.3s\n",
      "[CV 1/5; 49/72] START criterion=entropy, max_depth=5, n_estimators=100..........\n",
      "[CV 1/5; 49/72] END criterion=entropy, max_depth=5, n_estimators=100; total time=   0.3s\n",
      "[CV 2/5; 49/72] START criterion=entropy, max_depth=5, n_estimators=100..........\n",
      "[CV 2/5; 49/72] END criterion=entropy, max_depth=5, n_estimators=100; total time=   0.4s\n",
      "[CV 3/5; 49/72] START criterion=entropy, max_depth=5, n_estimators=100..........\n",
      "[CV 3/5; 49/72] END criterion=entropy, max_depth=5, n_estimators=100; total time=   0.4s\n",
      "[CV 4/5; 49/72] START criterion=entropy, max_depth=5, n_estimators=100..........\n",
      "[CV 4/5; 49/72] END criterion=entropy, max_depth=5, n_estimators=100; total time=   0.3s\n",
      "[CV 5/5; 49/72] START criterion=entropy, max_depth=5, n_estimators=100..........\n",
      "[CV 5/5; 49/72] END criterion=entropy, max_depth=5, n_estimators=100; total time=   0.3s\n",
      "[CV 1/5; 50/72] START criterion=entropy, max_depth=5, n_estimators=200..........\n",
      "[CV 1/5; 50/72] END criterion=entropy, max_depth=5, n_estimators=200; total time=   0.7s\n",
      "[CV 2/5; 50/72] START criterion=entropy, max_depth=5, n_estimators=200..........\n"
     ]
    },
    {
     "name": "stdout",
     "output_type": "stream",
     "text": [
      "[CV 2/5; 50/72] END criterion=entropy, max_depth=5, n_estimators=200; total time=   0.6s\n",
      "[CV 3/5; 50/72] START criterion=entropy, max_depth=5, n_estimators=200..........\n",
      "[CV 3/5; 50/72] END criterion=entropy, max_depth=5, n_estimators=200; total time=   0.6s\n",
      "[CV 4/5; 50/72] START criterion=entropy, max_depth=5, n_estimators=200..........\n",
      "[CV 4/5; 50/72] END criterion=entropy, max_depth=5, n_estimators=200; total time=   0.7s\n",
      "[CV 5/5; 50/72] START criterion=entropy, max_depth=5, n_estimators=200..........\n",
      "[CV 5/5; 50/72] END criterion=entropy, max_depth=5, n_estimators=200; total time=   0.9s\n",
      "[CV 1/5; 51/72] START criterion=entropy, max_depth=5, n_estimators=250..........\n",
      "[CV 1/5; 51/72] END criterion=entropy, max_depth=5, n_estimators=250; total time=   0.8s\n",
      "[CV 2/5; 51/72] START criterion=entropy, max_depth=5, n_estimators=250..........\n",
      "[CV 2/5; 51/72] END criterion=entropy, max_depth=5, n_estimators=250; total time=   0.7s\n",
      "[CV 3/5; 51/72] START criterion=entropy, max_depth=5, n_estimators=250..........\n",
      "[CV 3/5; 51/72] END criterion=entropy, max_depth=5, n_estimators=250; total time=   0.7s\n",
      "[CV 4/5; 51/72] START criterion=entropy, max_depth=5, n_estimators=250..........\n",
      "[CV 4/5; 51/72] END criterion=entropy, max_depth=5, n_estimators=250; total time=   0.8s\n",
      "[CV 5/5; 51/72] START criterion=entropy, max_depth=5, n_estimators=250..........\n",
      "[CV 5/5; 51/72] END criterion=entropy, max_depth=5, n_estimators=250; total time=   0.7s\n",
      "[CV 1/5; 52/72] START criterion=entropy, max_depth=5, n_estimators=300..........\n",
      "[CV 1/5; 52/72] END criterion=entropy, max_depth=5, n_estimators=300; total time=   1.0s\n",
      "[CV 2/5; 52/72] START criterion=entropy, max_depth=5, n_estimators=300..........\n",
      "[CV 2/5; 52/72] END criterion=entropy, max_depth=5, n_estimators=300; total time=   1.1s\n",
      "[CV 3/5; 52/72] START criterion=entropy, max_depth=5, n_estimators=300..........\n",
      "[CV 3/5; 52/72] END criterion=entropy, max_depth=5, n_estimators=300; total time=   1.0s\n",
      "[CV 4/5; 52/72] START criterion=entropy, max_depth=5, n_estimators=300..........\n",
      "[CV 4/5; 52/72] END criterion=entropy, max_depth=5, n_estimators=300; total time=   1.0s\n",
      "[CV 5/5; 52/72] START criterion=entropy, max_depth=5, n_estimators=300..........\n",
      "[CV 5/5; 52/72] END criterion=entropy, max_depth=5, n_estimators=300; total time=   1.0s\n",
      "[CV 1/5; 53/72] START criterion=entropy, max_depth=5, n_estimators=400..........\n",
      "[CV 1/5; 53/72] END criterion=entropy, max_depth=5, n_estimators=400; total time=   1.2s\n",
      "[CV 2/5; 53/72] START criterion=entropy, max_depth=5, n_estimators=400..........\n",
      "[CV 2/5; 53/72] END criterion=entropy, max_depth=5, n_estimators=400; total time=   1.3s\n",
      "[CV 3/5; 53/72] START criterion=entropy, max_depth=5, n_estimators=400..........\n",
      "[CV 3/5; 53/72] END criterion=entropy, max_depth=5, n_estimators=400; total time=   1.3s\n",
      "[CV 4/5; 53/72] START criterion=entropy, max_depth=5, n_estimators=400..........\n",
      "[CV 4/5; 53/72] END criterion=entropy, max_depth=5, n_estimators=400; total time=   1.3s\n",
      "[CV 5/5; 53/72] START criterion=entropy, max_depth=5, n_estimators=400..........\n",
      "[CV 5/5; 53/72] END criterion=entropy, max_depth=5, n_estimators=400; total time=   1.3s\n",
      "[CV 1/5; 54/72] START criterion=entropy, max_depth=5, n_estimators=500..........\n",
      "[CV 1/5; 54/72] END criterion=entropy, max_depth=5, n_estimators=500; total time=   1.5s\n",
      "[CV 2/5; 54/72] START criterion=entropy, max_depth=5, n_estimators=500..........\n",
      "[CV 2/5; 54/72] END criterion=entropy, max_depth=5, n_estimators=500; total time=   1.5s\n",
      "[CV 3/5; 54/72] START criterion=entropy, max_depth=5, n_estimators=500..........\n",
      "[CV 3/5; 54/72] END criterion=entropy, max_depth=5, n_estimators=500; total time=   1.5s\n",
      "[CV 4/5; 54/72] START criterion=entropy, max_depth=5, n_estimators=500..........\n",
      "[CV 4/5; 54/72] END criterion=entropy, max_depth=5, n_estimators=500; total time=   1.7s\n",
      "[CV 5/5; 54/72] START criterion=entropy, max_depth=5, n_estimators=500..........\n",
      "[CV 5/5; 54/72] END criterion=entropy, max_depth=5, n_estimators=500; total time=   1.5s\n",
      "[CV 1/5; 55/72] START criterion=entropy, max_depth=7, n_estimators=100..........\n",
      "[CV 1/5; 55/72] END criterion=entropy, max_depth=7, n_estimators=100; total time=   0.3s\n",
      "[CV 2/5; 55/72] START criterion=entropy, max_depth=7, n_estimators=100..........\n",
      "[CV 2/5; 55/72] END criterion=entropy, max_depth=7, n_estimators=100; total time=   0.3s\n",
      "[CV 3/5; 55/72] START criterion=entropy, max_depth=7, n_estimators=100..........\n",
      "[CV 3/5; 55/72] END criterion=entropy, max_depth=7, n_estimators=100; total time=   0.3s\n",
      "[CV 4/5; 55/72] START criterion=entropy, max_depth=7, n_estimators=100..........\n",
      "[CV 4/5; 55/72] END criterion=entropy, max_depth=7, n_estimators=100; total time=   0.3s\n",
      "[CV 5/5; 55/72] START criterion=entropy, max_depth=7, n_estimators=100..........\n",
      "[CV 5/5; 55/72] END criterion=entropy, max_depth=7, n_estimators=100; total time=   0.4s\n",
      "[CV 1/5; 56/72] START criterion=entropy, max_depth=7, n_estimators=200..........\n",
      "[CV 1/5; 56/72] END criterion=entropy, max_depth=7, n_estimators=200; total time=   0.9s\n",
      "[CV 2/5; 56/72] START criterion=entropy, max_depth=7, n_estimators=200..........\n",
      "[CV 2/5; 56/72] END criterion=entropy, max_depth=7, n_estimators=200; total time=   0.7s\n",
      "[CV 3/5; 56/72] START criterion=entropy, max_depth=7, n_estimators=200..........\n",
      "[CV 3/5; 56/72] END criterion=entropy, max_depth=7, n_estimators=200; total time=   0.6s\n",
      "[CV 4/5; 56/72] START criterion=entropy, max_depth=7, n_estimators=200..........\n",
      "[CV 4/5; 56/72] END criterion=entropy, max_depth=7, n_estimators=200; total time=   0.6s\n",
      "[CV 5/5; 56/72] START criterion=entropy, max_depth=7, n_estimators=200..........\n",
      "[CV 5/5; 56/72] END criterion=entropy, max_depth=7, n_estimators=200; total time=   0.6s\n",
      "[CV 1/5; 57/72] START criterion=entropy, max_depth=7, n_estimators=250..........\n",
      "[CV 1/5; 57/72] END criterion=entropy, max_depth=7, n_estimators=250; total time=   0.8s\n",
      "[CV 2/5; 57/72] START criterion=entropy, max_depth=7, n_estimators=250..........\n",
      "[CV 2/5; 57/72] END criterion=entropy, max_depth=7, n_estimators=250; total time=   0.9s\n",
      "[CV 3/5; 57/72] START criterion=entropy, max_depth=7, n_estimators=250..........\n",
      "[CV 3/5; 57/72] END criterion=entropy, max_depth=7, n_estimators=250; total time=   0.9s\n",
      "[CV 4/5; 57/72] START criterion=entropy, max_depth=7, n_estimators=250..........\n",
      "[CV 4/5; 57/72] END criterion=entropy, max_depth=7, n_estimators=250; total time=   0.9s\n",
      "[CV 5/5; 57/72] START criterion=entropy, max_depth=7, n_estimators=250..........\n",
      "[CV 5/5; 57/72] END criterion=entropy, max_depth=7, n_estimators=250; total time=   1.0s\n",
      "[CV 1/5; 58/72] START criterion=entropy, max_depth=7, n_estimators=300..........\n",
      "[CV 1/5; 58/72] END criterion=entropy, max_depth=7, n_estimators=300; total time=   1.0s\n",
      "[CV 2/5; 58/72] START criterion=entropy, max_depth=7, n_estimators=300..........\n",
      "[CV 2/5; 58/72] END criterion=entropy, max_depth=7, n_estimators=300; total time=   1.0s\n",
      "[CV 3/5; 58/72] START criterion=entropy, max_depth=7, n_estimators=300..........\n",
      "[CV 3/5; 58/72] END criterion=entropy, max_depth=7, n_estimators=300; total time=   1.0s\n",
      "[CV 4/5; 58/72] START criterion=entropy, max_depth=7, n_estimators=300..........\n",
      "[CV 4/5; 58/72] END criterion=entropy, max_depth=7, n_estimators=300; total time=   1.0s\n",
      "[CV 5/5; 58/72] START criterion=entropy, max_depth=7, n_estimators=300..........\n",
      "[CV 5/5; 58/72] END criterion=entropy, max_depth=7, n_estimators=300; total time=   1.1s\n",
      "[CV 1/5; 59/72] START criterion=entropy, max_depth=7, n_estimators=400..........\n",
      "[CV 1/5; 59/72] END criterion=entropy, max_depth=7, n_estimators=400; total time=   1.2s\n",
      "[CV 2/5; 59/72] START criterion=entropy, max_depth=7, n_estimators=400..........\n",
      "[CV 2/5; 59/72] END criterion=entropy, max_depth=7, n_estimators=400; total time=   1.4s\n",
      "[CV 3/5; 59/72] START criterion=entropy, max_depth=7, n_estimators=400..........\n",
      "[CV 3/5; 59/72] END criterion=entropy, max_depth=7, n_estimators=400; total time=   1.6s\n",
      "[CV 4/5; 59/72] START criterion=entropy, max_depth=7, n_estimators=400..........\n",
      "[CV 4/5; 59/72] END criterion=entropy, max_depth=7, n_estimators=400; total time=   1.3s\n",
      "[CV 5/5; 59/72] START criterion=entropy, max_depth=7, n_estimators=400..........\n",
      "[CV 5/5; 59/72] END criterion=entropy, max_depth=7, n_estimators=400; total time=   1.3s\n",
      "[CV 1/5; 60/72] START criterion=entropy, max_depth=7, n_estimators=500..........\n"
     ]
    },
    {
     "name": "stdout",
     "output_type": "stream",
     "text": [
      "[CV 1/5; 60/72] END criterion=entropy, max_depth=7, n_estimators=500; total time=   1.5s\n",
      "[CV 2/5; 60/72] START criterion=entropy, max_depth=7, n_estimators=500..........\n",
      "[CV 2/5; 60/72] END criterion=entropy, max_depth=7, n_estimators=500; total time=   1.6s\n",
      "[CV 3/5; 60/72] START criterion=entropy, max_depth=7, n_estimators=500..........\n",
      "[CV 3/5; 60/72] END criterion=entropy, max_depth=7, n_estimators=500; total time=   1.5s\n",
      "[CV 4/5; 60/72] START criterion=entropy, max_depth=7, n_estimators=500..........\n",
      "[CV 4/5; 60/72] END criterion=entropy, max_depth=7, n_estimators=500; total time=   1.8s\n",
      "[CV 5/5; 60/72] START criterion=entropy, max_depth=7, n_estimators=500..........\n",
      "[CV 5/5; 60/72] END criterion=entropy, max_depth=7, n_estimators=500; total time=   1.8s\n",
      "[CV 1/5; 61/72] START criterion=entropy, max_depth=11, n_estimators=100.........\n",
      "[CV 1/5; 61/72] END criterion=entropy, max_depth=11, n_estimators=100; total time=   0.4s\n",
      "[CV 2/5; 61/72] START criterion=entropy, max_depth=11, n_estimators=100.........\n",
      "[CV 2/5; 61/72] END criterion=entropy, max_depth=11, n_estimators=100; total time=   0.4s\n",
      "[CV 3/5; 61/72] START criterion=entropy, max_depth=11, n_estimators=100.........\n",
      "[CV 3/5; 61/72] END criterion=entropy, max_depth=11, n_estimators=100; total time=   0.3s\n",
      "[CV 4/5; 61/72] START criterion=entropy, max_depth=11, n_estimators=100.........\n",
      "[CV 4/5; 61/72] END criterion=entropy, max_depth=11, n_estimators=100; total time=   0.4s\n",
      "[CV 5/5; 61/72] START criterion=entropy, max_depth=11, n_estimators=100.........\n",
      "[CV 5/5; 61/72] END criterion=entropy, max_depth=11, n_estimators=100; total time=   0.3s\n",
      "[CV 1/5; 62/72] START criterion=entropy, max_depth=11, n_estimators=200.........\n",
      "[CV 1/5; 62/72] END criterion=entropy, max_depth=11, n_estimators=200; total time=   0.8s\n",
      "[CV 2/5; 62/72] START criterion=entropy, max_depth=11, n_estimators=200.........\n",
      "[CV 2/5; 62/72] END criterion=entropy, max_depth=11, n_estimators=200; total time=   0.8s\n",
      "[CV 3/5; 62/72] START criterion=entropy, max_depth=11, n_estimators=200.........\n",
      "[CV 3/5; 62/72] END criterion=entropy, max_depth=11, n_estimators=200; total time=   0.8s\n",
      "[CV 4/5; 62/72] START criterion=entropy, max_depth=11, n_estimators=200.........\n",
      "[CV 4/5; 62/72] END criterion=entropy, max_depth=11, n_estimators=200; total time=   0.8s\n",
      "[CV 5/5; 62/72] START criterion=entropy, max_depth=11, n_estimators=200.........\n",
      "[CV 5/5; 62/72] END criterion=entropy, max_depth=11, n_estimators=200; total time=   0.7s\n",
      "[CV 1/5; 63/72] START criterion=entropy, max_depth=11, n_estimators=250.........\n",
      "[CV 1/5; 63/72] END criterion=entropy, max_depth=11, n_estimators=250; total time=   0.9s\n",
      "[CV 2/5; 63/72] START criterion=entropy, max_depth=11, n_estimators=250.........\n",
      "[CV 2/5; 63/72] END criterion=entropy, max_depth=11, n_estimators=250; total time=   0.9s\n",
      "[CV 3/5; 63/72] START criterion=entropy, max_depth=11, n_estimators=250.........\n",
      "[CV 3/5; 63/72] END criterion=entropy, max_depth=11, n_estimators=250; total time=   0.9s\n",
      "[CV 4/5; 63/72] START criterion=entropy, max_depth=11, n_estimators=250.........\n",
      "[CV 4/5; 63/72] END criterion=entropy, max_depth=11, n_estimators=250; total time=   1.0s\n",
      "[CV 5/5; 63/72] START criterion=entropy, max_depth=11, n_estimators=250.........\n",
      "[CV 5/5; 63/72] END criterion=entropy, max_depth=11, n_estimators=250; total time=   0.8s\n",
      "[CV 1/5; 64/72] START criterion=entropy, max_depth=11, n_estimators=300.........\n",
      "[CV 1/5; 64/72] END criterion=entropy, max_depth=11, n_estimators=300; total time=   1.2s\n",
      "[CV 2/5; 64/72] START criterion=entropy, max_depth=11, n_estimators=300.........\n",
      "[CV 2/5; 64/72] END criterion=entropy, max_depth=11, n_estimators=300; total time=   1.1s\n",
      "[CV 3/5; 64/72] START criterion=entropy, max_depth=11, n_estimators=300.........\n",
      "[CV 3/5; 64/72] END criterion=entropy, max_depth=11, n_estimators=300; total time=   1.1s\n",
      "[CV 4/5; 64/72] START criterion=entropy, max_depth=11, n_estimators=300.........\n",
      "[CV 4/5; 64/72] END criterion=entropy, max_depth=11, n_estimators=300; total time=   1.2s\n",
      "[CV 5/5; 64/72] START criterion=entropy, max_depth=11, n_estimators=300.........\n",
      "[CV 5/5; 64/72] END criterion=entropy, max_depth=11, n_estimators=300; total time=   1.3s\n",
      "[CV 1/5; 65/72] START criterion=entropy, max_depth=11, n_estimators=400.........\n",
      "[CV 1/5; 65/72] END criterion=entropy, max_depth=11, n_estimators=400; total time=   1.5s\n",
      "[CV 2/5; 65/72] START criterion=entropy, max_depth=11, n_estimators=400.........\n",
      "[CV 2/5; 65/72] END criterion=entropy, max_depth=11, n_estimators=400; total time=   1.4s\n",
      "[CV 3/5; 65/72] START criterion=entropy, max_depth=11, n_estimators=400.........\n",
      "[CV 3/5; 65/72] END criterion=entropy, max_depth=11, n_estimators=400; total time=   1.5s\n",
      "[CV 4/5; 65/72] START criterion=entropy, max_depth=11, n_estimators=400.........\n",
      "[CV 4/5; 65/72] END criterion=entropy, max_depth=11, n_estimators=400; total time=   1.5s\n",
      "[CV 5/5; 65/72] START criterion=entropy, max_depth=11, n_estimators=400.........\n",
      "[CV 5/5; 65/72] END criterion=entropy, max_depth=11, n_estimators=400; total time=   1.7s\n",
      "[CV 1/5; 66/72] START criterion=entropy, max_depth=11, n_estimators=500.........\n",
      "[CV 1/5; 66/72] END criterion=entropy, max_depth=11, n_estimators=500; total time=   2.2s\n",
      "[CV 2/5; 66/72] START criterion=entropy, max_depth=11, n_estimators=500.........\n",
      "[CV 2/5; 66/72] END criterion=entropy, max_depth=11, n_estimators=500; total time=   1.9s\n",
      "[CV 3/5; 66/72] START criterion=entropy, max_depth=11, n_estimators=500.........\n",
      "[CV 3/5; 66/72] END criterion=entropy, max_depth=11, n_estimators=500; total time=   2.0s\n",
      "[CV 4/5; 66/72] START criterion=entropy, max_depth=11, n_estimators=500.........\n",
      "[CV 4/5; 66/72] END criterion=entropy, max_depth=11, n_estimators=500; total time=   1.8s\n",
      "[CV 5/5; 66/72] START criterion=entropy, max_depth=11, n_estimators=500.........\n",
      "[CV 5/5; 66/72] END criterion=entropy, max_depth=11, n_estimators=500; total time=   1.8s\n",
      "[CV 1/5; 67/72] START criterion=entropy, max_depth=15, n_estimators=100.........\n",
      "[CV 1/5; 67/72] END criterion=entropy, max_depth=15, n_estimators=100; total time=   0.4s\n",
      "[CV 2/5; 67/72] START criterion=entropy, max_depth=15, n_estimators=100.........\n",
      "[CV 2/5; 67/72] END criterion=entropy, max_depth=15, n_estimators=100; total time=   0.4s\n",
      "[CV 3/5; 67/72] START criterion=entropy, max_depth=15, n_estimators=100.........\n",
      "[CV 3/5; 67/72] END criterion=entropy, max_depth=15, n_estimators=100; total time=   0.5s\n",
      "[CV 4/5; 67/72] START criterion=entropy, max_depth=15, n_estimators=100.........\n",
      "[CV 4/5; 67/72] END criterion=entropy, max_depth=15, n_estimators=100; total time=   0.4s\n",
      "[CV 5/5; 67/72] START criterion=entropy, max_depth=15, n_estimators=100.........\n",
      "[CV 5/5; 67/72] END criterion=entropy, max_depth=15, n_estimators=100; total time=   0.5s\n",
      "[CV 1/5; 68/72] START criterion=entropy, max_depth=15, n_estimators=200.........\n",
      "[CV 1/5; 68/72] END criterion=entropy, max_depth=15, n_estimators=200; total time=   0.8s\n",
      "[CV 2/5; 68/72] START criterion=entropy, max_depth=15, n_estimators=200.........\n",
      "[CV 2/5; 68/72] END criterion=entropy, max_depth=15, n_estimators=200; total time=   0.9s\n",
      "[CV 3/5; 68/72] START criterion=entropy, max_depth=15, n_estimators=200.........\n",
      "[CV 3/5; 68/72] END criterion=entropy, max_depth=15, n_estimators=200; total time=   1.0s\n",
      "[CV 4/5; 68/72] START criterion=entropy, max_depth=15, n_estimators=200.........\n",
      "[CV 4/5; 68/72] END criterion=entropy, max_depth=15, n_estimators=200; total time=   0.9s\n",
      "[CV 5/5; 68/72] START criterion=entropy, max_depth=15, n_estimators=200.........\n",
      "[CV 5/5; 68/72] END criterion=entropy, max_depth=15, n_estimators=200; total time=   0.9s\n",
      "[CV 1/5; 69/72] START criterion=entropy, max_depth=15, n_estimators=250.........\n",
      "[CV 1/5; 69/72] END criterion=entropy, max_depth=15, n_estimators=250; total time=   1.1s\n",
      "[CV 2/5; 69/72] START criterion=entropy, max_depth=15, n_estimators=250.........\n",
      "[CV 2/5; 69/72] END criterion=entropy, max_depth=15, n_estimators=250; total time=   1.0s\n",
      "[CV 3/5; 69/72] START criterion=entropy, max_depth=15, n_estimators=250.........\n",
      "[CV 3/5; 69/72] END criterion=entropy, max_depth=15, n_estimators=250; total time=   1.1s\n",
      "[CV 4/5; 69/72] START criterion=entropy, max_depth=15, n_estimators=250.........\n"
     ]
    },
    {
     "name": "stdout",
     "output_type": "stream",
     "text": [
      "[CV 4/5; 69/72] END criterion=entropy, max_depth=15, n_estimators=250; total time=   1.1s\n",
      "[CV 5/5; 69/72] START criterion=entropy, max_depth=15, n_estimators=250.........\n",
      "[CV 5/5; 69/72] END criterion=entropy, max_depth=15, n_estimators=250; total time=   1.2s\n",
      "[CV 1/5; 70/72] START criterion=entropy, max_depth=15, n_estimators=300.........\n",
      "[CV 1/5; 70/72] END criterion=entropy, max_depth=15, n_estimators=300; total time=   1.3s\n",
      "[CV 2/5; 70/72] START criterion=entropy, max_depth=15, n_estimators=300.........\n",
      "[CV 2/5; 70/72] END criterion=entropy, max_depth=15, n_estimators=300; total time=   1.5s\n",
      "[CV 3/5; 70/72] START criterion=entropy, max_depth=15, n_estimators=300.........\n",
      "[CV 3/5; 70/72] END criterion=entropy, max_depth=15, n_estimators=300; total time=   1.3s\n",
      "[CV 4/5; 70/72] START criterion=entropy, max_depth=15, n_estimators=300.........\n",
      "[CV 4/5; 70/72] END criterion=entropy, max_depth=15, n_estimators=300; total time=   1.6s\n",
      "[CV 5/5; 70/72] START criterion=entropy, max_depth=15, n_estimators=300.........\n",
      "[CV 5/5; 70/72] END criterion=entropy, max_depth=15, n_estimators=300; total time=   1.4s\n",
      "[CV 1/5; 71/72] START criterion=entropy, max_depth=15, n_estimators=400.........\n",
      "[CV 1/5; 71/72] END criterion=entropy, max_depth=15, n_estimators=400; total time=   1.7s\n",
      "[CV 2/5; 71/72] START criterion=entropy, max_depth=15, n_estimators=400.........\n",
      "[CV 2/5; 71/72] END criterion=entropy, max_depth=15, n_estimators=400; total time=   1.8s\n",
      "[CV 3/5; 71/72] START criterion=entropy, max_depth=15, n_estimators=400.........\n",
      "[CV 3/5; 71/72] END criterion=entropy, max_depth=15, n_estimators=400; total time=   1.9s\n",
      "[CV 4/5; 71/72] START criterion=entropy, max_depth=15, n_estimators=400.........\n",
      "[CV 4/5; 71/72] END criterion=entropy, max_depth=15, n_estimators=400; total time=   1.9s\n",
      "[CV 5/5; 71/72] START criterion=entropy, max_depth=15, n_estimators=400.........\n",
      "[CV 5/5; 71/72] END criterion=entropy, max_depth=15, n_estimators=400; total time=   1.8s\n",
      "[CV 1/5; 72/72] START criterion=entropy, max_depth=15, n_estimators=500.........\n",
      "[CV 1/5; 72/72] END criterion=entropy, max_depth=15, n_estimators=500; total time=   2.3s\n",
      "[CV 2/5; 72/72] START criterion=entropy, max_depth=15, n_estimators=500.........\n",
      "[CV 2/5; 72/72] END criterion=entropy, max_depth=15, n_estimators=500; total time=   2.2s\n",
      "[CV 3/5; 72/72] START criterion=entropy, max_depth=15, n_estimators=500.........\n",
      "[CV 3/5; 72/72] END criterion=entropy, max_depth=15, n_estimators=500; total time=   2.5s\n",
      "[CV 4/5; 72/72] START criterion=entropy, max_depth=15, n_estimators=500.........\n",
      "[CV 4/5; 72/72] END criterion=entropy, max_depth=15, n_estimators=500; total time=   2.2s\n",
      "[CV 5/5; 72/72] START criterion=entropy, max_depth=15, n_estimators=500.........\n",
      "[CV 5/5; 72/72] END criterion=entropy, max_depth=15, n_estimators=500; total time=   2.2s\n",
      "Best score: 0.7904304309955481\n"
     ]
    }
   ],
   "source": [
    "model.fit(X, y)\n",
    "print(f\"Best score: {model.best_score_}\")"
   ]
  },
  {
   "cell_type": "code",
   "execution_count": 128,
   "metadata": {},
   "outputs": [
    {
     "name": "stdout",
     "output_type": "stream",
     "text": [
      "Best parameters set:\n",
      "\tcriterion: entropy\n",
      "\tmax_depth: 7\n",
      "\tn_estimators: 200\n"
     ]
    }
   ],
   "source": [
    "print(\"Best parameters set:\")\n",
    "best_parameters = model.best_estimator_.get_params()\n",
    "\n",
    "for param_name in sorted(param_grid.keys()):\n",
    "    print(f\"\\t{param_name}: {best_parameters[param_name]}\")"
   ]
  },
  {
   "cell_type": "markdown",
   "metadata": {},
   "source": [
    "### Boosting classifier"
   ]
  },
  {
   "cell_type": "code",
   "execution_count": 129,
   "metadata": {},
   "outputs": [],
   "source": [
    "gb_clf = GradientBoostingClassifier()"
   ]
  },
  {
   "cell_type": "code",
   "execution_count": 130,
   "metadata": {},
   "outputs": [],
   "source": [
    " param_grid = {\n",
    "     'learning_rate': [0.05, 0.1],\n",
    "     \"n_estimators\": [100, 300, 500],\n",
    "     \"max_depth\": [3, 5, 7, 9],\n",
    "     \"criterion\": [\"friedman_mse\", \"mse\"]\n",
    " }"
   ]
  },
  {
   "cell_type": "code",
   "execution_count": 131,
   "metadata": {},
   "outputs": [],
   "source": [
    " model = GridSearchCV(\n",
    " estimator=gb_clf,\n",
    " param_grid=param_grid,\n",
    " scoring=\"accuracy\",\n",
    " verbose=10,\n",
    " n_jobs=1,\n",
    " cv=5\n",
    " )"
   ]
  },
  {
   "cell_type": "code",
   "execution_count": 132,
   "metadata": {},
   "outputs": [
    {
     "name": "stdout",
     "output_type": "stream",
     "text": [
      "Fitting 5 folds for each of 48 candidates, totalling 240 fits\n",
      "[CV 1/5; 1/48] START criterion=friedman_mse, learning_rate=0.05, max_depth=3, n_estimators=100\n",
      "[CV 1/5; 1/48] END criterion=friedman_mse, learning_rate=0.05, max_depth=3, n_estimators=100; total time=   1.2s\n",
      "[CV 2/5; 1/48] START criterion=friedman_mse, learning_rate=0.05, max_depth=3, n_estimators=100\n",
      "[CV 2/5; 1/48] END criterion=friedman_mse, learning_rate=0.05, max_depth=3, n_estimators=100; total time=   1.0s\n",
      "[CV 3/5; 1/48] START criterion=friedman_mse, learning_rate=0.05, max_depth=3, n_estimators=100\n",
      "[CV 3/5; 1/48] END criterion=friedman_mse, learning_rate=0.05, max_depth=3, n_estimators=100; total time=   1.2s\n",
      "[CV 4/5; 1/48] START criterion=friedman_mse, learning_rate=0.05, max_depth=3, n_estimators=100\n",
      "[CV 4/5; 1/48] END criterion=friedman_mse, learning_rate=0.05, max_depth=3, n_estimators=100; total time=   1.4s\n",
      "[CV 5/5; 1/48] START criterion=friedman_mse, learning_rate=0.05, max_depth=3, n_estimators=100\n",
      "[CV 5/5; 1/48] END criterion=friedman_mse, learning_rate=0.05, max_depth=3, n_estimators=100; total time=   1.2s\n",
      "[CV 1/5; 2/48] START criterion=friedman_mse, learning_rate=0.05, max_depth=3, n_estimators=300\n",
      "[CV 1/5; 2/48] END criterion=friedman_mse, learning_rate=0.05, max_depth=3, n_estimators=300; total time=   3.5s\n",
      "[CV 2/5; 2/48] START criterion=friedman_mse, learning_rate=0.05, max_depth=3, n_estimators=300\n",
      "[CV 2/5; 2/48] END criterion=friedman_mse, learning_rate=0.05, max_depth=3, n_estimators=300; total time=   3.4s\n",
      "[CV 3/5; 2/48] START criterion=friedman_mse, learning_rate=0.05, max_depth=3, n_estimators=300\n",
      "[CV 3/5; 2/48] END criterion=friedman_mse, learning_rate=0.05, max_depth=3, n_estimators=300; total time=   3.5s\n",
      "[CV 4/5; 2/48] START criterion=friedman_mse, learning_rate=0.05, max_depth=3, n_estimators=300\n",
      "[CV 4/5; 2/48] END criterion=friedman_mse, learning_rate=0.05, max_depth=3, n_estimators=300; total time=   3.2s\n",
      "[CV 5/5; 2/48] START criterion=friedman_mse, learning_rate=0.05, max_depth=3, n_estimators=300\n",
      "[CV 5/5; 2/48] END criterion=friedman_mse, learning_rate=0.05, max_depth=3, n_estimators=300; total time=   3.3s\n",
      "[CV 1/5; 3/48] START criterion=friedman_mse, learning_rate=0.05, max_depth=3, n_estimators=500\n",
      "[CV 1/5; 3/48] END criterion=friedman_mse, learning_rate=0.05, max_depth=3, n_estimators=500; total time=   5.7s\n",
      "[CV 2/5; 3/48] START criterion=friedman_mse, learning_rate=0.05, max_depth=3, n_estimators=500\n",
      "[CV 2/5; 3/48] END criterion=friedman_mse, learning_rate=0.05, max_depth=3, n_estimators=500; total time=   5.5s\n",
      "[CV 3/5; 3/48] START criterion=friedman_mse, learning_rate=0.05, max_depth=3, n_estimators=500\n",
      "[CV 3/5; 3/48] END criterion=friedman_mse, learning_rate=0.05, max_depth=3, n_estimators=500; total time=   5.6s\n",
      "[CV 4/5; 3/48] START criterion=friedman_mse, learning_rate=0.05, max_depth=3, n_estimators=500\n",
      "[CV 4/5; 3/48] END criterion=friedman_mse, learning_rate=0.05, max_depth=3, n_estimators=500; total time=   5.5s\n",
      "[CV 5/5; 3/48] START criterion=friedman_mse, learning_rate=0.05, max_depth=3, n_estimators=500\n",
      "[CV 5/5; 3/48] END criterion=friedman_mse, learning_rate=0.05, max_depth=3, n_estimators=500; total time=   5.5s\n",
      "[CV 1/5; 4/48] START criterion=friedman_mse, learning_rate=0.05, max_depth=5, n_estimators=100\n",
      "[CV 1/5; 4/48] END criterion=friedman_mse, learning_rate=0.05, max_depth=5, n_estimators=100; total time=   1.8s\n",
      "[CV 2/5; 4/48] START criterion=friedman_mse, learning_rate=0.05, max_depth=5, n_estimators=100\n",
      "[CV 2/5; 4/48] END criterion=friedman_mse, learning_rate=0.05, max_depth=5, n_estimators=100; total time=   1.7s\n",
      "[CV 3/5; 4/48] START criterion=friedman_mse, learning_rate=0.05, max_depth=5, n_estimators=100\n",
      "[CV 3/5; 4/48] END criterion=friedman_mse, learning_rate=0.05, max_depth=5, n_estimators=100; total time=   1.8s\n",
      "[CV 4/5; 4/48] START criterion=friedman_mse, learning_rate=0.05, max_depth=5, n_estimators=100\n",
      "[CV 4/5; 4/48] END criterion=friedman_mse, learning_rate=0.05, max_depth=5, n_estimators=100; total time=   1.8s\n",
      "[CV 5/5; 4/48] START criterion=friedman_mse, learning_rate=0.05, max_depth=5, n_estimators=100\n",
      "[CV 5/5; 4/48] END criterion=friedman_mse, learning_rate=0.05, max_depth=5, n_estimators=100; total time=   1.7s\n",
      "[CV 1/5; 5/48] START criterion=friedman_mse, learning_rate=0.05, max_depth=5, n_estimators=300\n",
      "[CV 1/5; 5/48] END criterion=friedman_mse, learning_rate=0.05, max_depth=5, n_estimators=300; total time=   5.5s\n",
      "[CV 2/5; 5/48] START criterion=friedman_mse, learning_rate=0.05, max_depth=5, n_estimators=300\n",
      "[CV 2/5; 5/48] END criterion=friedman_mse, learning_rate=0.05, max_depth=5, n_estimators=300; total time=   5.5s\n",
      "[CV 3/5; 5/48] START criterion=friedman_mse, learning_rate=0.05, max_depth=5, n_estimators=300\n",
      "[CV 3/5; 5/48] END criterion=friedman_mse, learning_rate=0.05, max_depth=5, n_estimators=300; total time=   5.4s\n",
      "[CV 4/5; 5/48] START criterion=friedman_mse, learning_rate=0.05, max_depth=5, n_estimators=300\n",
      "[CV 4/5; 5/48] END criterion=friedman_mse, learning_rate=0.05, max_depth=5, n_estimators=300; total time=   5.4s\n",
      "[CV 5/5; 5/48] START criterion=friedman_mse, learning_rate=0.05, max_depth=5, n_estimators=300\n",
      "[CV 5/5; 5/48] END criterion=friedman_mse, learning_rate=0.05, max_depth=5, n_estimators=300; total time=   5.4s\n",
      "[CV 1/5; 6/48] START criterion=friedman_mse, learning_rate=0.05, max_depth=5, n_estimators=500\n",
      "[CV 1/5; 6/48] END criterion=friedman_mse, learning_rate=0.05, max_depth=5, n_estimators=500; total time=   9.0s\n",
      "[CV 2/5; 6/48] START criterion=friedman_mse, learning_rate=0.05, max_depth=5, n_estimators=500\n",
      "[CV 2/5; 6/48] END criterion=friedman_mse, learning_rate=0.05, max_depth=5, n_estimators=500; total time=   8.9s\n",
      "[CV 3/5; 6/48] START criterion=friedman_mse, learning_rate=0.05, max_depth=5, n_estimators=500\n",
      "[CV 3/5; 6/48] END criterion=friedman_mse, learning_rate=0.05, max_depth=5, n_estimators=500; total time=   9.2s\n",
      "[CV 4/5; 6/48] START criterion=friedman_mse, learning_rate=0.05, max_depth=5, n_estimators=500\n",
      "[CV 4/5; 6/48] END criterion=friedman_mse, learning_rate=0.05, max_depth=5, n_estimators=500; total time=   9.0s\n",
      "[CV 5/5; 6/48] START criterion=friedman_mse, learning_rate=0.05, max_depth=5, n_estimators=500\n",
      "[CV 5/5; 6/48] END criterion=friedman_mse, learning_rate=0.05, max_depth=5, n_estimators=500; total time=   9.5s\n",
      "[CV 1/5; 7/48] START criterion=friedman_mse, learning_rate=0.05, max_depth=7, n_estimators=100\n",
      "[CV 1/5; 7/48] END criterion=friedman_mse, learning_rate=0.05, max_depth=7, n_estimators=100; total time=   3.2s\n",
      "[CV 2/5; 7/48] START criterion=friedman_mse, learning_rate=0.05, max_depth=7, n_estimators=100\n",
      "[CV 2/5; 7/48] END criterion=friedman_mse, learning_rate=0.05, max_depth=7, n_estimators=100; total time=   2.9s\n",
      "[CV 3/5; 7/48] START criterion=friedman_mse, learning_rate=0.05, max_depth=7, n_estimators=100\n",
      "[CV 3/5; 7/48] END criterion=friedman_mse, learning_rate=0.05, max_depth=7, n_estimators=100; total time=   2.9s\n",
      "[CV 4/5; 7/48] START criterion=friedman_mse, learning_rate=0.05, max_depth=7, n_estimators=100\n",
      "[CV 4/5; 7/48] END criterion=friedman_mse, learning_rate=0.05, max_depth=7, n_estimators=100; total time=   2.9s\n",
      "[CV 5/5; 7/48] START criterion=friedman_mse, learning_rate=0.05, max_depth=7, n_estimators=100\n",
      "[CV 5/5; 7/48] END criterion=friedman_mse, learning_rate=0.05, max_depth=7, n_estimators=100; total time=   2.8s\n",
      "[CV 1/5; 8/48] START criterion=friedman_mse, learning_rate=0.05, max_depth=7, n_estimators=300\n",
      "[CV 1/5; 8/48] END criterion=friedman_mse, learning_rate=0.05, max_depth=7, n_estimators=300; total time=   9.3s\n",
      "[CV 2/5; 8/48] START criterion=friedman_mse, learning_rate=0.05, max_depth=7, n_estimators=300\n",
      "[CV 2/5; 8/48] END criterion=friedman_mse, learning_rate=0.05, max_depth=7, n_estimators=300; total time=  12.7s\n",
      "[CV 3/5; 8/48] START criterion=friedman_mse, learning_rate=0.05, max_depth=7, n_estimators=300\n",
      "[CV 3/5; 8/48] END criterion=friedman_mse, learning_rate=0.05, max_depth=7, n_estimators=300; total time=  12.5s\n",
      "[CV 4/5; 8/48] START criterion=friedman_mse, learning_rate=0.05, max_depth=7, n_estimators=300\n",
      "[CV 4/5; 8/48] END criterion=friedman_mse, learning_rate=0.05, max_depth=7, n_estimators=300; total time=  12.8s\n",
      "[CV 5/5; 8/48] START criterion=friedman_mse, learning_rate=0.05, max_depth=7, n_estimators=300\n"
     ]
    },
    {
     "name": "stdout",
     "output_type": "stream",
     "text": [
      "[CV 5/5; 8/48] END criterion=friedman_mse, learning_rate=0.05, max_depth=7, n_estimators=300; total time=  12.7s\n",
      "[CV 1/5; 9/48] START criterion=friedman_mse, learning_rate=0.05, max_depth=7, n_estimators=500\n",
      "[CV 1/5; 9/48] END criterion=friedman_mse, learning_rate=0.05, max_depth=7, n_estimators=500; total time=  20.0s\n",
      "[CV 2/5; 9/48] START criterion=friedman_mse, learning_rate=0.05, max_depth=7, n_estimators=500\n",
      "[CV 2/5; 9/48] END criterion=friedman_mse, learning_rate=0.05, max_depth=7, n_estimators=500; total time=  19.2s\n",
      "[CV 3/5; 9/48] START criterion=friedman_mse, learning_rate=0.05, max_depth=7, n_estimators=500\n",
      "[CV 3/5; 9/48] END criterion=friedman_mse, learning_rate=0.05, max_depth=7, n_estimators=500; total time=  16.2s\n",
      "[CV 4/5; 9/48] START criterion=friedman_mse, learning_rate=0.05, max_depth=7, n_estimators=500\n",
      "[CV 4/5; 9/48] END criterion=friedman_mse, learning_rate=0.05, max_depth=7, n_estimators=500; total time=  14.9s\n",
      "[CV 5/5; 9/48] START criterion=friedman_mse, learning_rate=0.05, max_depth=7, n_estimators=500\n",
      "[CV 5/5; 9/48] END criterion=friedman_mse, learning_rate=0.05, max_depth=7, n_estimators=500; total time=  15.4s\n",
      "[CV 1/5; 10/48] START criterion=friedman_mse, learning_rate=0.05, max_depth=9, n_estimators=100\n",
      "[CV 1/5; 10/48] END criterion=friedman_mse, learning_rate=0.05, max_depth=9, n_estimators=100; total time=   5.9s\n",
      "[CV 2/5; 10/48] START criterion=friedman_mse, learning_rate=0.05, max_depth=9, n_estimators=100\n",
      "[CV 2/5; 10/48] END criterion=friedman_mse, learning_rate=0.05, max_depth=9, n_estimators=100; total time=   5.6s\n",
      "[CV 3/5; 10/48] START criterion=friedman_mse, learning_rate=0.05, max_depth=9, n_estimators=100\n",
      "[CV 3/5; 10/48] END criterion=friedman_mse, learning_rate=0.05, max_depth=9, n_estimators=100; total time=   6.6s\n",
      "[CV 4/5; 10/48] START criterion=friedman_mse, learning_rate=0.05, max_depth=9, n_estimators=100\n",
      "[CV 4/5; 10/48] END criterion=friedman_mse, learning_rate=0.05, max_depth=9, n_estimators=100; total time=   8.5s\n",
      "[CV 5/5; 10/48] START criterion=friedman_mse, learning_rate=0.05, max_depth=9, n_estimators=100\n",
      "[CV 5/5; 10/48] END criterion=friedman_mse, learning_rate=0.05, max_depth=9, n_estimators=100; total time=   7.5s\n",
      "[CV 1/5; 11/48] START criterion=friedman_mse, learning_rate=0.05, max_depth=9, n_estimators=300\n",
      "[CV 1/5; 11/48] END criterion=friedman_mse, learning_rate=0.05, max_depth=9, n_estimators=300; total time=  23.8s\n",
      "[CV 2/5; 11/48] START criterion=friedman_mse, learning_rate=0.05, max_depth=9, n_estimators=300\n",
      "[CV 2/5; 11/48] END criterion=friedman_mse, learning_rate=0.05, max_depth=9, n_estimators=300; total time=  23.4s\n",
      "[CV 3/5; 11/48] START criterion=friedman_mse, learning_rate=0.05, max_depth=9, n_estimators=300\n",
      "[CV 3/5; 11/48] END criterion=friedman_mse, learning_rate=0.05, max_depth=9, n_estimators=300; total time=  24.9s\n",
      "[CV 4/5; 11/48] START criterion=friedman_mse, learning_rate=0.05, max_depth=9, n_estimators=300\n",
      "[CV 4/5; 11/48] END criterion=friedman_mse, learning_rate=0.05, max_depth=9, n_estimators=300; total time=  24.3s\n",
      "[CV 5/5; 11/48] START criterion=friedman_mse, learning_rate=0.05, max_depth=9, n_estimators=300\n",
      "[CV 5/5; 11/48] END criterion=friedman_mse, learning_rate=0.05, max_depth=9, n_estimators=300; total time=  21.7s\n",
      "[CV 1/5; 12/48] START criterion=friedman_mse, learning_rate=0.05, max_depth=9, n_estimators=500\n",
      "[CV 1/5; 12/48] END criterion=friedman_mse, learning_rate=0.05, max_depth=9, n_estimators=500; total time=  33.0s\n",
      "[CV 2/5; 12/48] START criterion=friedman_mse, learning_rate=0.05, max_depth=9, n_estimators=500\n",
      "[CV 2/5; 12/48] END criterion=friedman_mse, learning_rate=0.05, max_depth=9, n_estimators=500; total time=  33.0s\n",
      "[CV 3/5; 12/48] START criterion=friedman_mse, learning_rate=0.05, max_depth=9, n_estimators=500\n",
      "[CV 3/5; 12/48] END criterion=friedman_mse, learning_rate=0.05, max_depth=9, n_estimators=500; total time=  32.6s\n",
      "[CV 4/5; 12/48] START criterion=friedman_mse, learning_rate=0.05, max_depth=9, n_estimators=500\n",
      "[CV 4/5; 12/48] END criterion=friedman_mse, learning_rate=0.05, max_depth=9, n_estimators=500; total time=  35.4s\n",
      "[CV 5/5; 12/48] START criterion=friedman_mse, learning_rate=0.05, max_depth=9, n_estimators=500\n",
      "[CV 5/5; 12/48] END criterion=friedman_mse, learning_rate=0.05, max_depth=9, n_estimators=500; total time=  30.7s\n",
      "[CV 1/5; 13/48] START criterion=friedman_mse, learning_rate=0.1, max_depth=3, n_estimators=100\n",
      "[CV 1/5; 13/48] END criterion=friedman_mse, learning_rate=0.1, max_depth=3, n_estimators=100; total time=   1.1s\n",
      "[CV 2/5; 13/48] START criterion=friedman_mse, learning_rate=0.1, max_depth=3, n_estimators=100\n",
      "[CV 2/5; 13/48] END criterion=friedman_mse, learning_rate=0.1, max_depth=3, n_estimators=100; total time=   1.1s\n",
      "[CV 3/5; 13/48] START criterion=friedman_mse, learning_rate=0.1, max_depth=3, n_estimators=100\n",
      "[CV 3/5; 13/48] END criterion=friedman_mse, learning_rate=0.1, max_depth=3, n_estimators=100; total time=   1.1s\n",
      "[CV 4/5; 13/48] START criterion=friedman_mse, learning_rate=0.1, max_depth=3, n_estimators=100\n",
      "[CV 4/5; 13/48] END criterion=friedman_mse, learning_rate=0.1, max_depth=3, n_estimators=100; total time=   1.0s\n",
      "[CV 5/5; 13/48] START criterion=friedman_mse, learning_rate=0.1, max_depth=3, n_estimators=100\n",
      "[CV 5/5; 13/48] END criterion=friedman_mse, learning_rate=0.1, max_depth=3, n_estimators=100; total time=   1.0s\n",
      "[CV 1/5; 14/48] START criterion=friedman_mse, learning_rate=0.1, max_depth=3, n_estimators=300\n",
      "[CV 1/5; 14/48] END criterion=friedman_mse, learning_rate=0.1, max_depth=3, n_estimators=300; total time=   3.3s\n",
      "[CV 2/5; 14/48] START criterion=friedman_mse, learning_rate=0.1, max_depth=3, n_estimators=300\n",
      "[CV 2/5; 14/48] END criterion=friedman_mse, learning_rate=0.1, max_depth=3, n_estimators=300; total time=   3.5s\n",
      "[CV 3/5; 14/48] START criterion=friedman_mse, learning_rate=0.1, max_depth=3, n_estimators=300\n",
      "[CV 3/5; 14/48] END criterion=friedman_mse, learning_rate=0.1, max_depth=3, n_estimators=300; total time=   3.5s\n",
      "[CV 4/5; 14/48] START criterion=friedman_mse, learning_rate=0.1, max_depth=3, n_estimators=300\n",
      "[CV 4/5; 14/48] END criterion=friedman_mse, learning_rate=0.1, max_depth=3, n_estimators=300; total time=   3.3s\n",
      "[CV 5/5; 14/48] START criterion=friedman_mse, learning_rate=0.1, max_depth=3, n_estimators=300\n",
      "[CV 5/5; 14/48] END criterion=friedman_mse, learning_rate=0.1, max_depth=3, n_estimators=300; total time=   3.2s\n",
      "[CV 1/5; 15/48] START criterion=friedman_mse, learning_rate=0.1, max_depth=3, n_estimators=500\n",
      "[CV 1/5; 15/48] END criterion=friedman_mse, learning_rate=0.1, max_depth=3, n_estimators=500; total time=   5.4s\n",
      "[CV 2/5; 15/48] START criterion=friedman_mse, learning_rate=0.1, max_depth=3, n_estimators=500\n",
      "[CV 2/5; 15/48] END criterion=friedman_mse, learning_rate=0.1, max_depth=3, n_estimators=500; total time=   5.5s\n",
      "[CV 3/5; 15/48] START criterion=friedman_mse, learning_rate=0.1, max_depth=3, n_estimators=500\n",
      "[CV 3/5; 15/48] END criterion=friedman_mse, learning_rate=0.1, max_depth=3, n_estimators=500; total time=   5.9s\n",
      "[CV 4/5; 15/48] START criterion=friedman_mse, learning_rate=0.1, max_depth=3, n_estimators=500\n",
      "[CV 4/5; 15/48] END criterion=friedman_mse, learning_rate=0.1, max_depth=3, n_estimators=500; total time=   6.1s\n",
      "[CV 5/5; 15/48] START criterion=friedman_mse, learning_rate=0.1, max_depth=3, n_estimators=500\n",
      "[CV 5/5; 15/48] END criterion=friedman_mse, learning_rate=0.1, max_depth=3, n_estimators=500; total time=   6.4s\n",
      "[CV 1/5; 16/48] START criterion=friedman_mse, learning_rate=0.1, max_depth=5, n_estimators=100\n",
      "[CV 1/5; 16/48] END criterion=friedman_mse, learning_rate=0.1, max_depth=5, n_estimators=100; total time=   1.7s\n",
      "[CV 2/5; 16/48] START criterion=friedman_mse, learning_rate=0.1, max_depth=5, n_estimators=100\n",
      "[CV 2/5; 16/48] END criterion=friedman_mse, learning_rate=0.1, max_depth=5, n_estimators=100; total time=   1.8s\n",
      "[CV 3/5; 16/48] START criterion=friedman_mse, learning_rate=0.1, max_depth=5, n_estimators=100\n",
      "[CV 3/5; 16/48] END criterion=friedman_mse, learning_rate=0.1, max_depth=5, n_estimators=100; total time=   1.8s\n",
      "[CV 4/5; 16/48] START criterion=friedman_mse, learning_rate=0.1, max_depth=5, n_estimators=100\n",
      "[CV 4/5; 16/48] END criterion=friedman_mse, learning_rate=0.1, max_depth=5, n_estimators=100; total time=   1.7s\n",
      "[CV 5/5; 16/48] START criterion=friedman_mse, learning_rate=0.1, max_depth=5, n_estimators=100\n"
     ]
    },
    {
     "name": "stdout",
     "output_type": "stream",
     "text": [
      "[CV 5/5; 16/48] END criterion=friedman_mse, learning_rate=0.1, max_depth=5, n_estimators=100; total time=   1.8s\n",
      "[CV 1/5; 17/48] START criterion=friedman_mse, learning_rate=0.1, max_depth=5, n_estimators=300\n",
      "[CV 1/5; 17/48] END criterion=friedman_mse, learning_rate=0.1, max_depth=5, n_estimators=300; total time=   5.4s\n",
      "[CV 2/5; 17/48] START criterion=friedman_mse, learning_rate=0.1, max_depth=5, n_estimators=300\n",
      "[CV 2/5; 17/48] END criterion=friedman_mse, learning_rate=0.1, max_depth=5, n_estimators=300; total time=   5.4s\n",
      "[CV 3/5; 17/48] START criterion=friedman_mse, learning_rate=0.1, max_depth=5, n_estimators=300\n",
      "[CV 3/5; 17/48] END criterion=friedman_mse, learning_rate=0.1, max_depth=5, n_estimators=300; total time=   5.5s\n",
      "[CV 4/5; 17/48] START criterion=friedman_mse, learning_rate=0.1, max_depth=5, n_estimators=300\n",
      "[CV 4/5; 17/48] END criterion=friedman_mse, learning_rate=0.1, max_depth=5, n_estimators=300; total time=   5.5s\n",
      "[CV 5/5; 17/48] START criterion=friedman_mse, learning_rate=0.1, max_depth=5, n_estimators=300\n",
      "[CV 5/5; 17/48] END criterion=friedman_mse, learning_rate=0.1, max_depth=5, n_estimators=300; total time=   5.5s\n",
      "[CV 1/5; 18/48] START criterion=friedman_mse, learning_rate=0.1, max_depth=5, n_estimators=500\n",
      "[CV 1/5; 18/48] END criterion=friedman_mse, learning_rate=0.1, max_depth=5, n_estimators=500; total time=   9.0s\n",
      "[CV 2/5; 18/48] START criterion=friedman_mse, learning_rate=0.1, max_depth=5, n_estimators=500\n",
      "[CV 2/5; 18/48] END criterion=friedman_mse, learning_rate=0.1, max_depth=5, n_estimators=500; total time=   9.1s\n",
      "[CV 3/5; 18/48] START criterion=friedman_mse, learning_rate=0.1, max_depth=5, n_estimators=500\n",
      "[CV 3/5; 18/48] END criterion=friedman_mse, learning_rate=0.1, max_depth=5, n_estimators=500; total time=   9.1s\n",
      "[CV 4/5; 18/48] START criterion=friedman_mse, learning_rate=0.1, max_depth=5, n_estimators=500\n",
      "[CV 4/5; 18/48] END criterion=friedman_mse, learning_rate=0.1, max_depth=5, n_estimators=500; total time=   9.5s\n",
      "[CV 5/5; 18/48] START criterion=friedman_mse, learning_rate=0.1, max_depth=5, n_estimators=500\n",
      "[CV 5/5; 18/48] END criterion=friedman_mse, learning_rate=0.1, max_depth=5, n_estimators=500; total time=   9.2s\n",
      "[CV 1/5; 19/48] START criterion=friedman_mse, learning_rate=0.1, max_depth=7, n_estimators=100\n",
      "[CV 1/5; 19/48] END criterion=friedman_mse, learning_rate=0.1, max_depth=7, n_estimators=100; total time=   2.9s\n",
      "[CV 2/5; 19/48] START criterion=friedman_mse, learning_rate=0.1, max_depth=7, n_estimators=100\n",
      "[CV 2/5; 19/48] END criterion=friedman_mse, learning_rate=0.1, max_depth=7, n_estimators=100; total time=   3.0s\n",
      "[CV 3/5; 19/48] START criterion=friedman_mse, learning_rate=0.1, max_depth=7, n_estimators=100\n",
      "[CV 3/5; 19/48] END criterion=friedman_mse, learning_rate=0.1, max_depth=7, n_estimators=100; total time=   3.7s\n",
      "[CV 4/5; 19/48] START criterion=friedman_mse, learning_rate=0.1, max_depth=7, n_estimators=100\n",
      "[CV 4/5; 19/48] END criterion=friedman_mse, learning_rate=0.1, max_depth=7, n_estimators=100; total time=   3.1s\n",
      "[CV 5/5; 19/48] START criterion=friedman_mse, learning_rate=0.1, max_depth=7, n_estimators=100\n",
      "[CV 5/5; 19/48] END criterion=friedman_mse, learning_rate=0.1, max_depth=7, n_estimators=100; total time=   2.9s\n",
      "[CV 1/5; 20/48] START criterion=friedman_mse, learning_rate=0.1, max_depth=7, n_estimators=300\n",
      "[CV 1/5; 20/48] END criterion=friedman_mse, learning_rate=0.1, max_depth=7, n_estimators=300; total time=   9.1s\n",
      "[CV 2/5; 20/48] START criterion=friedman_mse, learning_rate=0.1, max_depth=7, n_estimators=300\n",
      "[CV 2/5; 20/48] END criterion=friedman_mse, learning_rate=0.1, max_depth=7, n_estimators=300; total time=   9.0s\n",
      "[CV 3/5; 20/48] START criterion=friedman_mse, learning_rate=0.1, max_depth=7, n_estimators=300\n",
      "[CV 3/5; 20/48] END criterion=friedman_mse, learning_rate=0.1, max_depth=7, n_estimators=300; total time=   9.3s\n",
      "[CV 4/5; 20/48] START criterion=friedman_mse, learning_rate=0.1, max_depth=7, n_estimators=300\n",
      "[CV 4/5; 20/48] END criterion=friedman_mse, learning_rate=0.1, max_depth=7, n_estimators=300; total time=   9.2s\n",
      "[CV 5/5; 20/48] START criterion=friedman_mse, learning_rate=0.1, max_depth=7, n_estimators=300\n",
      "[CV 5/5; 20/48] END criterion=friedman_mse, learning_rate=0.1, max_depth=7, n_estimators=300; total time=   8.9s\n",
      "[CV 1/5; 21/48] START criterion=friedman_mse, learning_rate=0.1, max_depth=7, n_estimators=500\n",
      "[CV 1/5; 21/48] END criterion=friedman_mse, learning_rate=0.1, max_depth=7, n_estimators=500; total time=  15.2s\n",
      "[CV 2/5; 21/48] START criterion=friedman_mse, learning_rate=0.1, max_depth=7, n_estimators=500\n",
      "[CV 2/5; 21/48] END criterion=friedman_mse, learning_rate=0.1, max_depth=7, n_estimators=500; total time=  15.2s\n",
      "[CV 3/5; 21/48] START criterion=friedman_mse, learning_rate=0.1, max_depth=7, n_estimators=500\n",
      "[CV 3/5; 21/48] END criterion=friedman_mse, learning_rate=0.1, max_depth=7, n_estimators=500; total time=  16.2s\n",
      "[CV 4/5; 21/48] START criterion=friedman_mse, learning_rate=0.1, max_depth=7, n_estimators=500\n",
      "[CV 4/5; 21/48] END criterion=friedman_mse, learning_rate=0.1, max_depth=7, n_estimators=500; total time=  16.9s\n",
      "[CV 5/5; 21/48] START criterion=friedman_mse, learning_rate=0.1, max_depth=7, n_estimators=500\n",
      "[CV 5/5; 21/48] END criterion=friedman_mse, learning_rate=0.1, max_depth=7, n_estimators=500; total time=  15.9s\n",
      "[CV 1/5; 22/48] START criterion=friedman_mse, learning_rate=0.1, max_depth=9, n_estimators=100\n",
      "[CV 1/5; 22/48] END criterion=friedman_mse, learning_rate=0.1, max_depth=9, n_estimators=100; total time=   5.7s\n",
      "[CV 2/5; 22/48] START criterion=friedman_mse, learning_rate=0.1, max_depth=9, n_estimators=100\n",
      "[CV 2/5; 22/48] END criterion=friedman_mse, learning_rate=0.1, max_depth=9, n_estimators=100; total time=   5.8s\n",
      "[CV 3/5; 22/48] START criterion=friedman_mse, learning_rate=0.1, max_depth=9, n_estimators=100\n",
      "[CV 3/5; 22/48] END criterion=friedman_mse, learning_rate=0.1, max_depth=9, n_estimators=100; total time=   6.2s\n",
      "[CV 4/5; 22/48] START criterion=friedman_mse, learning_rate=0.1, max_depth=9, n_estimators=100\n",
      "[CV 4/5; 22/48] END criterion=friedman_mse, learning_rate=0.1, max_depth=9, n_estimators=100; total time=   6.2s\n",
      "[CV 5/5; 22/48] START criterion=friedman_mse, learning_rate=0.1, max_depth=9, n_estimators=100\n",
      "[CV 5/5; 22/48] END criterion=friedman_mse, learning_rate=0.1, max_depth=9, n_estimators=100; total time=   6.0s\n",
      "[CV 1/5; 23/48] START criterion=friedman_mse, learning_rate=0.1, max_depth=9, n_estimators=300\n",
      "[CV 1/5; 23/48] END criterion=friedman_mse, learning_rate=0.1, max_depth=9, n_estimators=300; total time=  19.0s\n",
      "[CV 2/5; 23/48] START criterion=friedman_mse, learning_rate=0.1, max_depth=9, n_estimators=300\n",
      "[CV 2/5; 23/48] END criterion=friedman_mse, learning_rate=0.1, max_depth=9, n_estimators=300; total time=  18.8s\n",
      "[CV 3/5; 23/48] START criterion=friedman_mse, learning_rate=0.1, max_depth=9, n_estimators=300\n",
      "[CV 3/5; 23/48] END criterion=friedman_mse, learning_rate=0.1, max_depth=9, n_estimators=300; total time=  18.6s\n",
      "[CV 4/5; 23/48] START criterion=friedman_mse, learning_rate=0.1, max_depth=9, n_estimators=300\n",
      "[CV 4/5; 23/48] END criterion=friedman_mse, learning_rate=0.1, max_depth=9, n_estimators=300; total time=  18.1s\n",
      "[CV 5/5; 23/48] START criterion=friedman_mse, learning_rate=0.1, max_depth=9, n_estimators=300\n",
      "[CV 5/5; 23/48] END criterion=friedman_mse, learning_rate=0.1, max_depth=9, n_estimators=300; total time=  18.8s\n",
      "[CV 1/5; 24/48] START criterion=friedman_mse, learning_rate=0.1, max_depth=9, n_estimators=500\n",
      "[CV 1/5; 24/48] END criterion=friedman_mse, learning_rate=0.1, max_depth=9, n_estimators=500; total time=  33.0s\n",
      "[CV 2/5; 24/48] START criterion=friedman_mse, learning_rate=0.1, max_depth=9, n_estimators=500\n",
      "[CV 2/5; 24/48] END criterion=friedman_mse, learning_rate=0.1, max_depth=9, n_estimators=500; total time=  31.2s\n",
      "[CV 3/5; 24/48] START criterion=friedman_mse, learning_rate=0.1, max_depth=9, n_estimators=500\n",
      "[CV 3/5; 24/48] END criterion=friedman_mse, learning_rate=0.1, max_depth=9, n_estimators=500; total time=  32.8s\n",
      "[CV 4/5; 24/48] START criterion=friedman_mse, learning_rate=0.1, max_depth=9, n_estimators=500\n",
      "[CV 4/5; 24/48] END criterion=friedman_mse, learning_rate=0.1, max_depth=9, n_estimators=500; total time=  32.4s\n",
      "[CV 5/5; 24/48] START criterion=friedman_mse, learning_rate=0.1, max_depth=9, n_estimators=500\n"
     ]
    },
    {
     "name": "stdout",
     "output_type": "stream",
     "text": [
      "[CV 5/5; 24/48] END criterion=friedman_mse, learning_rate=0.1, max_depth=9, n_estimators=500; total time=  39.6s\n",
      "[CV 1/5; 25/48] START criterion=mse, learning_rate=0.05, max_depth=3, n_estimators=100\n",
      "[CV 1/5; 25/48] END criterion=mse, learning_rate=0.05, max_depth=3, n_estimators=100; total time=   1.0s\n",
      "[CV 2/5; 25/48] START criterion=mse, learning_rate=0.05, max_depth=3, n_estimators=100\n",
      "[CV 2/5; 25/48] END criterion=mse, learning_rate=0.05, max_depth=3, n_estimators=100; total time=   1.2s\n",
      "[CV 3/5; 25/48] START criterion=mse, learning_rate=0.05, max_depth=3, n_estimators=100\n",
      "[CV 3/5; 25/48] END criterion=mse, learning_rate=0.05, max_depth=3, n_estimators=100; total time=   1.1s\n",
      "[CV 4/5; 25/48] START criterion=mse, learning_rate=0.05, max_depth=3, n_estimators=100\n",
      "[CV 4/5; 25/48] END criterion=mse, learning_rate=0.05, max_depth=3, n_estimators=100; total time=   1.1s\n",
      "[CV 5/5; 25/48] START criterion=mse, learning_rate=0.05, max_depth=3, n_estimators=100\n",
      "[CV 5/5; 25/48] END criterion=mse, learning_rate=0.05, max_depth=3, n_estimators=100; total time=   1.0s\n",
      "[CV 1/5; 26/48] START criterion=mse, learning_rate=0.05, max_depth=3, n_estimators=300\n",
      "[CV 1/5; 26/48] END criterion=mse, learning_rate=0.05, max_depth=3, n_estimators=300; total time=   3.3s\n",
      "[CV 2/5; 26/48] START criterion=mse, learning_rate=0.05, max_depth=3, n_estimators=300\n",
      "[CV 2/5; 26/48] END criterion=mse, learning_rate=0.05, max_depth=3, n_estimators=300; total time=   3.2s\n",
      "[CV 3/5; 26/48] START criterion=mse, learning_rate=0.05, max_depth=3, n_estimators=300\n",
      "[CV 3/5; 26/48] END criterion=mse, learning_rate=0.05, max_depth=3, n_estimators=300; total time=   3.4s\n",
      "[CV 4/5; 26/48] START criterion=mse, learning_rate=0.05, max_depth=3, n_estimators=300\n",
      "[CV 4/5; 26/48] END criterion=mse, learning_rate=0.05, max_depth=3, n_estimators=300; total time=   3.3s\n",
      "[CV 5/5; 26/48] START criterion=mse, learning_rate=0.05, max_depth=3, n_estimators=300\n",
      "[CV 5/5; 26/48] END criterion=mse, learning_rate=0.05, max_depth=3, n_estimators=300; total time=   3.1s\n",
      "[CV 1/5; 27/48] START criterion=mse, learning_rate=0.05, max_depth=3, n_estimators=500\n",
      "[CV 1/5; 27/48] END criterion=mse, learning_rate=0.05, max_depth=3, n_estimators=500; total time=   5.7s\n",
      "[CV 2/5; 27/48] START criterion=mse, learning_rate=0.05, max_depth=3, n_estimators=500\n",
      "[CV 2/5; 27/48] END criterion=mse, learning_rate=0.05, max_depth=3, n_estimators=500; total time=   5.6s\n",
      "[CV 3/5; 27/48] START criterion=mse, learning_rate=0.05, max_depth=3, n_estimators=500\n",
      "[CV 3/5; 27/48] END criterion=mse, learning_rate=0.05, max_depth=3, n_estimators=500; total time=   5.6s\n",
      "[CV 4/5; 27/48] START criterion=mse, learning_rate=0.05, max_depth=3, n_estimators=500\n",
      "[CV 4/5; 27/48] END criterion=mse, learning_rate=0.05, max_depth=3, n_estimators=500; total time=   5.5s\n",
      "[CV 5/5; 27/48] START criterion=mse, learning_rate=0.05, max_depth=3, n_estimators=500\n",
      "[CV 5/5; 27/48] END criterion=mse, learning_rate=0.05, max_depth=3, n_estimators=500; total time=   5.6s\n",
      "[CV 1/5; 28/48] START criterion=mse, learning_rate=0.05, max_depth=5, n_estimators=100\n",
      "[CV 1/5; 28/48] END criterion=mse, learning_rate=0.05, max_depth=5, n_estimators=100; total time=   1.7s\n",
      "[CV 2/5; 28/48] START criterion=mse, learning_rate=0.05, max_depth=5, n_estimators=100\n",
      "[CV 2/5; 28/48] END criterion=mse, learning_rate=0.05, max_depth=5, n_estimators=100; total time=   1.7s\n",
      "[CV 3/5; 28/48] START criterion=mse, learning_rate=0.05, max_depth=5, n_estimators=100\n",
      "[CV 3/5; 28/48] END criterion=mse, learning_rate=0.05, max_depth=5, n_estimators=100; total time=   1.8s\n",
      "[CV 4/5; 28/48] START criterion=mse, learning_rate=0.05, max_depth=5, n_estimators=100\n",
      "[CV 4/5; 28/48] END criterion=mse, learning_rate=0.05, max_depth=5, n_estimators=100; total time=   1.7s\n",
      "[CV 5/5; 28/48] START criterion=mse, learning_rate=0.05, max_depth=5, n_estimators=100\n",
      "[CV 5/5; 28/48] END criterion=mse, learning_rate=0.05, max_depth=5, n_estimators=100; total time=   1.8s\n",
      "[CV 1/5; 29/48] START criterion=mse, learning_rate=0.05, max_depth=5, n_estimators=300\n",
      "[CV 1/5; 29/48] END criterion=mse, learning_rate=0.05, max_depth=5, n_estimators=300; total time=   5.5s\n",
      "[CV 2/5; 29/48] START criterion=mse, learning_rate=0.05, max_depth=5, n_estimators=300\n",
      "[CV 2/5; 29/48] END criterion=mse, learning_rate=0.05, max_depth=5, n_estimators=300; total time=   5.4s\n",
      "[CV 3/5; 29/48] START criterion=mse, learning_rate=0.05, max_depth=5, n_estimators=300\n",
      "[CV 3/5; 29/48] END criterion=mse, learning_rate=0.05, max_depth=5, n_estimators=300; total time=   5.3s\n",
      "[CV 4/5; 29/48] START criterion=mse, learning_rate=0.05, max_depth=5, n_estimators=300\n",
      "[CV 4/5; 29/48] END criterion=mse, learning_rate=0.05, max_depth=5, n_estimators=300; total time=   7.0s\n",
      "[CV 5/5; 29/48] START criterion=mse, learning_rate=0.05, max_depth=5, n_estimators=300\n",
      "[CV 5/5; 29/48] END criterion=mse, learning_rate=0.05, max_depth=5, n_estimators=300; total time=   7.6s\n",
      "[CV 1/5; 30/48] START criterion=mse, learning_rate=0.05, max_depth=5, n_estimators=500\n",
      "[CV 1/5; 30/48] END criterion=mse, learning_rate=0.05, max_depth=5, n_estimators=500; total time=  12.0s\n",
      "[CV 2/5; 30/48] START criterion=mse, learning_rate=0.05, max_depth=5, n_estimators=500\n",
      "[CV 2/5; 30/48] END criterion=mse, learning_rate=0.05, max_depth=5, n_estimators=500; total time=   9.2s\n",
      "[CV 3/5; 30/48] START criterion=mse, learning_rate=0.05, max_depth=5, n_estimators=500\n",
      "[CV 3/5; 30/48] END criterion=mse, learning_rate=0.05, max_depth=5, n_estimators=500; total time=   9.1s\n",
      "[CV 4/5; 30/48] START criterion=mse, learning_rate=0.05, max_depth=5, n_estimators=500\n",
      "[CV 4/5; 30/48] END criterion=mse, learning_rate=0.05, max_depth=5, n_estimators=500; total time=   9.2s\n",
      "[CV 5/5; 30/48] START criterion=mse, learning_rate=0.05, max_depth=5, n_estimators=500\n",
      "[CV 5/5; 30/48] END criterion=mse, learning_rate=0.05, max_depth=5, n_estimators=500; total time=   9.1s\n",
      "[CV 1/5; 31/48] START criterion=mse, learning_rate=0.05, max_depth=7, n_estimators=100\n",
      "[CV 1/5; 31/48] END criterion=mse, learning_rate=0.05, max_depth=7, n_estimators=100; total time=   3.0s\n",
      "[CV 2/5; 31/48] START criterion=mse, learning_rate=0.05, max_depth=7, n_estimators=100\n",
      "[CV 2/5; 31/48] END criterion=mse, learning_rate=0.05, max_depth=7, n_estimators=100; total time=   3.3s\n",
      "[CV 3/5; 31/48] START criterion=mse, learning_rate=0.05, max_depth=7, n_estimators=100\n",
      "[CV 3/5; 31/48] END criterion=mse, learning_rate=0.05, max_depth=7, n_estimators=100; total time=   3.1s\n",
      "[CV 4/5; 31/48] START criterion=mse, learning_rate=0.05, max_depth=7, n_estimators=100\n",
      "[CV 4/5; 31/48] END criterion=mse, learning_rate=0.05, max_depth=7, n_estimators=100; total time=   2.8s\n",
      "[CV 5/5; 31/48] START criterion=mse, learning_rate=0.05, max_depth=7, n_estimators=100\n",
      "[CV 5/5; 31/48] END criterion=mse, learning_rate=0.05, max_depth=7, n_estimators=100; total time=   3.1s\n",
      "[CV 1/5; 32/48] START criterion=mse, learning_rate=0.05, max_depth=7, n_estimators=300\n",
      "[CV 1/5; 32/48] END criterion=mse, learning_rate=0.05, max_depth=7, n_estimators=300; total time=   9.1s\n",
      "[CV 2/5; 32/48] START criterion=mse, learning_rate=0.05, max_depth=7, n_estimators=300\n",
      "[CV 2/5; 32/48] END criterion=mse, learning_rate=0.05, max_depth=7, n_estimators=300; total time=   9.6s\n",
      "[CV 3/5; 32/48] START criterion=mse, learning_rate=0.05, max_depth=7, n_estimators=300\n",
      "[CV 3/5; 32/48] END criterion=mse, learning_rate=0.05, max_depth=7, n_estimators=300; total time=  10.4s\n",
      "[CV 4/5; 32/48] START criterion=mse, learning_rate=0.05, max_depth=7, n_estimators=300\n",
      "[CV 4/5; 32/48] END criterion=mse, learning_rate=0.05, max_depth=7, n_estimators=300; total time=  11.9s\n",
      "[CV 5/5; 32/48] START criterion=mse, learning_rate=0.05, max_depth=7, n_estimators=300\n",
      "[CV 5/5; 32/48] END criterion=mse, learning_rate=0.05, max_depth=7, n_estimators=300; total time=  12.4s\n",
      "[CV 1/5; 33/48] START criterion=mse, learning_rate=0.05, max_depth=7, n_estimators=500\n",
      "[CV 1/5; 33/48] END criterion=mse, learning_rate=0.05, max_depth=7, n_estimators=500; total time=  20.3s\n",
      "[CV 2/5; 33/48] START criterion=mse, learning_rate=0.05, max_depth=7, n_estimators=500\n",
      "[CV 2/5; 33/48] END criterion=mse, learning_rate=0.05, max_depth=7, n_estimators=500; total time=  18.8s\n",
      "[CV 3/5; 33/48] START criterion=mse, learning_rate=0.05, max_depth=7, n_estimators=500\n"
     ]
    },
    {
     "name": "stdout",
     "output_type": "stream",
     "text": [
      "[CV 3/5; 33/48] END criterion=mse, learning_rate=0.05, max_depth=7, n_estimators=500; total time=  15.2s\n",
      "[CV 4/5; 33/48] START criterion=mse, learning_rate=0.05, max_depth=7, n_estimators=500\n",
      "[CV 4/5; 33/48] END criterion=mse, learning_rate=0.05, max_depth=7, n_estimators=500; total time=  15.3s\n",
      "[CV 5/5; 33/48] START criterion=mse, learning_rate=0.05, max_depth=7, n_estimators=500\n",
      "[CV 5/5; 33/48] END criterion=mse, learning_rate=0.05, max_depth=7, n_estimators=500; total time=  15.1s\n",
      "[CV 1/5; 34/48] START criterion=mse, learning_rate=0.05, max_depth=9, n_estimators=100\n",
      "[CV 1/5; 34/48] END criterion=mse, learning_rate=0.05, max_depth=9, n_estimators=100; total time=   5.4s\n",
      "[CV 2/5; 34/48] START criterion=mse, learning_rate=0.05, max_depth=9, n_estimators=100\n",
      "[CV 2/5; 34/48] END criterion=mse, learning_rate=0.05, max_depth=9, n_estimators=100; total time=   5.5s\n",
      "[CV 3/5; 34/48] START criterion=mse, learning_rate=0.05, max_depth=9, n_estimators=100\n",
      "[CV 3/5; 34/48] END criterion=mse, learning_rate=0.05, max_depth=9, n_estimators=100; total time=   5.4s\n",
      "[CV 4/5; 34/48] START criterion=mse, learning_rate=0.05, max_depth=9, n_estimators=100\n",
      "[CV 4/5; 34/48] END criterion=mse, learning_rate=0.05, max_depth=9, n_estimators=100; total time=   5.2s\n",
      "[CV 5/5; 34/48] START criterion=mse, learning_rate=0.05, max_depth=9, n_estimators=100\n",
      "[CV 5/5; 34/48] END criterion=mse, learning_rate=0.05, max_depth=9, n_estimators=100; total time=   5.3s\n",
      "[CV 1/5; 35/48] START criterion=mse, learning_rate=0.05, max_depth=9, n_estimators=300\n",
      "[CV 1/5; 35/48] END criterion=mse, learning_rate=0.05, max_depth=9, n_estimators=300; total time=  17.8s\n",
      "[CV 2/5; 35/48] START criterion=mse, learning_rate=0.05, max_depth=9, n_estimators=300\n",
      "[CV 2/5; 35/48] END criterion=mse, learning_rate=0.05, max_depth=9, n_estimators=300; total time=  18.3s\n",
      "[CV 3/5; 35/48] START criterion=mse, learning_rate=0.05, max_depth=9, n_estimators=300\n",
      "[CV 3/5; 35/48] END criterion=mse, learning_rate=0.05, max_depth=9, n_estimators=300; total time=  18.0s\n",
      "[CV 4/5; 35/48] START criterion=mse, learning_rate=0.05, max_depth=9, n_estimators=300\n",
      "[CV 4/5; 35/48] END criterion=mse, learning_rate=0.05, max_depth=9, n_estimators=300; total time=  17.9s\n",
      "[CV 5/5; 35/48] START criterion=mse, learning_rate=0.05, max_depth=9, n_estimators=300\n",
      "[CV 5/5; 35/48] END criterion=mse, learning_rate=0.05, max_depth=9, n_estimators=300; total time=  17.6s\n",
      "[CV 1/5; 36/48] START criterion=mse, learning_rate=0.05, max_depth=9, n_estimators=500\n",
      "[CV 1/5; 36/48] END criterion=mse, learning_rate=0.05, max_depth=9, n_estimators=500; total time=  30.1s\n",
      "[CV 2/5; 36/48] START criterion=mse, learning_rate=0.05, max_depth=9, n_estimators=500\n",
      "[CV 2/5; 36/48] END criterion=mse, learning_rate=0.05, max_depth=9, n_estimators=500; total time=  30.7s\n",
      "[CV 3/5; 36/48] START criterion=mse, learning_rate=0.05, max_depth=9, n_estimators=500\n",
      "[CV 3/5; 36/48] END criterion=mse, learning_rate=0.05, max_depth=9, n_estimators=500; total time=  30.7s\n",
      "[CV 4/5; 36/48] START criterion=mse, learning_rate=0.05, max_depth=9, n_estimators=500\n",
      "[CV 4/5; 36/48] END criterion=mse, learning_rate=0.05, max_depth=9, n_estimators=500; total time=  31.2s\n",
      "[CV 5/5; 36/48] START criterion=mse, learning_rate=0.05, max_depth=9, n_estimators=500\n",
      "[CV 5/5; 36/48] END criterion=mse, learning_rate=0.05, max_depth=9, n_estimators=500; total time= 9.0min\n",
      "[CV 1/5; 37/48] START criterion=mse, learning_rate=0.1, max_depth=3, n_estimators=100\n",
      "[CV 1/5; 37/48] END criterion=mse, learning_rate=0.1, max_depth=3, n_estimators=100; total time=   0.7s\n",
      "[CV 2/5; 37/48] START criterion=mse, learning_rate=0.1, max_depth=3, n_estimators=100\n",
      "[CV 2/5; 37/48] END criterion=mse, learning_rate=0.1, max_depth=3, n_estimators=100; total time=   0.6s\n",
      "[CV 3/5; 37/48] START criterion=mse, learning_rate=0.1, max_depth=3, n_estimators=100\n",
      "[CV 3/5; 37/48] END criterion=mse, learning_rate=0.1, max_depth=3, n_estimators=100; total time=   1.1s\n",
      "[CV 4/5; 37/48] START criterion=mse, learning_rate=0.1, max_depth=3, n_estimators=100\n",
      "[CV 4/5; 37/48] END criterion=mse, learning_rate=0.1, max_depth=3, n_estimators=100; total time=   0.6s\n",
      "[CV 5/5; 37/48] START criterion=mse, learning_rate=0.1, max_depth=3, n_estimators=100\n",
      "[CV 5/5; 37/48] END criterion=mse, learning_rate=0.1, max_depth=3, n_estimators=100; total time=   0.7s\n",
      "[CV 1/5; 38/48] START criterion=mse, learning_rate=0.1, max_depth=3, n_estimators=300\n",
      "[CV 1/5; 38/48] END criterion=mse, learning_rate=0.1, max_depth=3, n_estimators=300; total time=   1.6s\n",
      "[CV 2/5; 38/48] START criterion=mse, learning_rate=0.1, max_depth=3, n_estimators=300\n",
      "[CV 2/5; 38/48] END criterion=mse, learning_rate=0.1, max_depth=3, n_estimators=300; total time=   1.4s\n",
      "[CV 3/5; 38/48] START criterion=mse, learning_rate=0.1, max_depth=3, n_estimators=300\n",
      "[CV 3/5; 38/48] END criterion=mse, learning_rate=0.1, max_depth=3, n_estimators=300; total time=   2.1s\n",
      "[CV 4/5; 38/48] START criterion=mse, learning_rate=0.1, max_depth=3, n_estimators=300\n",
      "[CV 4/5; 38/48] END criterion=mse, learning_rate=0.1, max_depth=3, n_estimators=300; total time=   2.1s\n",
      "[CV 5/5; 38/48] START criterion=mse, learning_rate=0.1, max_depth=3, n_estimators=300\n",
      "[CV 5/5; 38/48] END criterion=mse, learning_rate=0.1, max_depth=3, n_estimators=300; total time=   1.8s\n",
      "[CV 1/5; 39/48] START criterion=mse, learning_rate=0.1, max_depth=3, n_estimators=500\n",
      "[CV 1/5; 39/48] END criterion=mse, learning_rate=0.1, max_depth=3, n_estimators=500; total time=   2.2s\n",
      "[CV 2/5; 39/48] START criterion=mse, learning_rate=0.1, max_depth=3, n_estimators=500\n",
      "[CV 2/5; 39/48] END criterion=mse, learning_rate=0.1, max_depth=3, n_estimators=500; total time=   2.0s\n",
      "[CV 3/5; 39/48] START criterion=mse, learning_rate=0.1, max_depth=3, n_estimators=500\n",
      "[CV 3/5; 39/48] END criterion=mse, learning_rate=0.1, max_depth=3, n_estimators=500; total time=   1.9s\n",
      "[CV 4/5; 39/48] START criterion=mse, learning_rate=0.1, max_depth=3, n_estimators=500\n",
      "[CV 4/5; 39/48] END criterion=mse, learning_rate=0.1, max_depth=3, n_estimators=500; total time=   1.9s\n",
      "[CV 5/5; 39/48] START criterion=mse, learning_rate=0.1, max_depth=3, n_estimators=500\n",
      "[CV 5/5; 39/48] END criterion=mse, learning_rate=0.1, max_depth=3, n_estimators=500; total time=   2.1s\n",
      "[CV 1/5; 40/48] START criterion=mse, learning_rate=0.1, max_depth=5, n_estimators=100\n",
      "[CV 1/5; 40/48] END criterion=mse, learning_rate=0.1, max_depth=5, n_estimators=100; total time=   0.6s\n",
      "[CV 2/5; 40/48] START criterion=mse, learning_rate=0.1, max_depth=5, n_estimators=100\n",
      "[CV 2/5; 40/48] END criterion=mse, learning_rate=0.1, max_depth=5, n_estimators=100; total time=   0.6s\n",
      "[CV 3/5; 40/48] START criterion=mse, learning_rate=0.1, max_depth=5, n_estimators=100\n",
      "[CV 3/5; 40/48] END criterion=mse, learning_rate=0.1, max_depth=5, n_estimators=100; total time=   0.6s\n",
      "[CV 4/5; 40/48] START criterion=mse, learning_rate=0.1, max_depth=5, n_estimators=100\n",
      "[CV 4/5; 40/48] END criterion=mse, learning_rate=0.1, max_depth=5, n_estimators=100; total time=   0.5s\n",
      "[CV 5/5; 40/48] START criterion=mse, learning_rate=0.1, max_depth=5, n_estimators=100\n",
      "[CV 5/5; 40/48] END criterion=mse, learning_rate=0.1, max_depth=5, n_estimators=100; total time=   0.5s\n",
      "[CV 1/5; 41/48] START criterion=mse, learning_rate=0.1, max_depth=5, n_estimators=300\n",
      "[CV 1/5; 41/48] END criterion=mse, learning_rate=0.1, max_depth=5, n_estimators=300; total time=   1.9s\n",
      "[CV 2/5; 41/48] START criterion=mse, learning_rate=0.1, max_depth=5, n_estimators=300\n",
      "[CV 2/5; 41/48] END criterion=mse, learning_rate=0.1, max_depth=5, n_estimators=300; total time=   1.8s\n",
      "[CV 3/5; 41/48] START criterion=mse, learning_rate=0.1, max_depth=5, n_estimators=300\n",
      "[CV 3/5; 41/48] END criterion=mse, learning_rate=0.1, max_depth=5, n_estimators=300; total time=   2.0s\n",
      "[CV 4/5; 41/48] START criterion=mse, learning_rate=0.1, max_depth=5, n_estimators=300\n",
      "[CV 4/5; 41/48] END criterion=mse, learning_rate=0.1, max_depth=5, n_estimators=300; total time=   1.9s\n",
      "[CV 5/5; 41/48] START criterion=mse, learning_rate=0.1, max_depth=5, n_estimators=300\n",
      "[CV 5/5; 41/48] END criterion=mse, learning_rate=0.1, max_depth=5, n_estimators=300; total time=   1.8s\n",
      "[CV 1/5; 42/48] START criterion=mse, learning_rate=0.1, max_depth=5, n_estimators=500\n"
     ]
    },
    {
     "name": "stdout",
     "output_type": "stream",
     "text": [
      "[CV 1/5; 42/48] END criterion=mse, learning_rate=0.1, max_depth=5, n_estimators=500; total time=   3.2s\n",
      "[CV 2/5; 42/48] START criterion=mse, learning_rate=0.1, max_depth=5, n_estimators=500\n",
      "[CV 2/5; 42/48] END criterion=mse, learning_rate=0.1, max_depth=5, n_estimators=500; total time=   3.2s\n",
      "[CV 3/5; 42/48] START criterion=mse, learning_rate=0.1, max_depth=5, n_estimators=500\n",
      "[CV 3/5; 42/48] END criterion=mse, learning_rate=0.1, max_depth=5, n_estimators=500; total time=   3.1s\n",
      "[CV 4/5; 42/48] START criterion=mse, learning_rate=0.1, max_depth=5, n_estimators=500\n",
      "[CV 4/5; 42/48] END criterion=mse, learning_rate=0.1, max_depth=5, n_estimators=500; total time=   3.1s\n",
      "[CV 5/5; 42/48] START criterion=mse, learning_rate=0.1, max_depth=5, n_estimators=500\n",
      "[CV 5/5; 42/48] END criterion=mse, learning_rate=0.1, max_depth=5, n_estimators=500; total time=   3.1s\n",
      "[CV 1/5; 43/48] START criterion=mse, learning_rate=0.1, max_depth=7, n_estimators=100\n",
      "[CV 1/5; 43/48] END criterion=mse, learning_rate=0.1, max_depth=7, n_estimators=100; total time=   1.0s\n",
      "[CV 2/5; 43/48] START criterion=mse, learning_rate=0.1, max_depth=7, n_estimators=100\n",
      "[CV 2/5; 43/48] END criterion=mse, learning_rate=0.1, max_depth=7, n_estimators=100; total time=   1.0s\n",
      "[CV 3/5; 43/48] START criterion=mse, learning_rate=0.1, max_depth=7, n_estimators=100\n",
      "[CV 3/5; 43/48] END criterion=mse, learning_rate=0.1, max_depth=7, n_estimators=100; total time=   1.0s\n",
      "[CV 4/5; 43/48] START criterion=mse, learning_rate=0.1, max_depth=7, n_estimators=100\n",
      "[CV 4/5; 43/48] END criterion=mse, learning_rate=0.1, max_depth=7, n_estimators=100; total time=   1.0s\n",
      "[CV 5/5; 43/48] START criterion=mse, learning_rate=0.1, max_depth=7, n_estimators=100\n",
      "[CV 5/5; 43/48] END criterion=mse, learning_rate=0.1, max_depth=7, n_estimators=100; total time=   1.0s\n",
      "[CV 1/5; 44/48] START criterion=mse, learning_rate=0.1, max_depth=7, n_estimators=300\n",
      "[CV 1/5; 44/48] END criterion=mse, learning_rate=0.1, max_depth=7, n_estimators=300; total time=   3.3s\n",
      "[CV 2/5; 44/48] START criterion=mse, learning_rate=0.1, max_depth=7, n_estimators=300\n",
      "[CV 2/5; 44/48] END criterion=mse, learning_rate=0.1, max_depth=7, n_estimators=300; total time=   3.2s\n",
      "[CV 3/5; 44/48] START criterion=mse, learning_rate=0.1, max_depth=7, n_estimators=300\n",
      "[CV 3/5; 44/48] END criterion=mse, learning_rate=0.1, max_depth=7, n_estimators=300; total time=   3.1s\n",
      "[CV 4/5; 44/48] START criterion=mse, learning_rate=0.1, max_depth=7, n_estimators=300\n",
      "[CV 4/5; 44/48] END criterion=mse, learning_rate=0.1, max_depth=7, n_estimators=300; total time=   3.1s\n",
      "[CV 5/5; 44/48] START criterion=mse, learning_rate=0.1, max_depth=7, n_estimators=300\n",
      "[CV 5/5; 44/48] END criterion=mse, learning_rate=0.1, max_depth=7, n_estimators=300; total time=   3.2s\n",
      "[CV 1/5; 45/48] START criterion=mse, learning_rate=0.1, max_depth=7, n_estimators=500\n",
      "[CV 1/5; 45/48] END criterion=mse, learning_rate=0.1, max_depth=7, n_estimators=500; total time=   5.3s\n",
      "[CV 2/5; 45/48] START criterion=mse, learning_rate=0.1, max_depth=7, n_estimators=500\n",
      "[CV 2/5; 45/48] END criterion=mse, learning_rate=0.1, max_depth=7, n_estimators=500; total time=   5.5s\n",
      "[CV 3/5; 45/48] START criterion=mse, learning_rate=0.1, max_depth=7, n_estimators=500\n",
      "[CV 3/5; 45/48] END criterion=mse, learning_rate=0.1, max_depth=7, n_estimators=500; total time=   6.6s\n",
      "[CV 4/5; 45/48] START criterion=mse, learning_rate=0.1, max_depth=7, n_estimators=500\n",
      "[CV 4/5; 45/48] END criterion=mse, learning_rate=0.1, max_depth=7, n_estimators=500; total time=   5.6s\n",
      "[CV 5/5; 45/48] START criterion=mse, learning_rate=0.1, max_depth=7, n_estimators=500\n",
      "[CV 5/5; 45/48] END criterion=mse, learning_rate=0.1, max_depth=7, n_estimators=500; total time=   5.6s\n",
      "[CV 1/5; 46/48] START criterion=mse, learning_rate=0.1, max_depth=9, n_estimators=100\n",
      "[CV 1/5; 46/48] END criterion=mse, learning_rate=0.1, max_depth=9, n_estimators=100; total time=   2.1s\n",
      "[CV 2/5; 46/48] START criterion=mse, learning_rate=0.1, max_depth=9, n_estimators=100\n",
      "[CV 2/5; 46/48] END criterion=mse, learning_rate=0.1, max_depth=9, n_estimators=100; total time=   2.0s\n",
      "[CV 3/5; 46/48] START criterion=mse, learning_rate=0.1, max_depth=9, n_estimators=100\n",
      "[CV 3/5; 46/48] END criterion=mse, learning_rate=0.1, max_depth=9, n_estimators=100; total time=   1.9s\n",
      "[CV 4/5; 46/48] START criterion=mse, learning_rate=0.1, max_depth=9, n_estimators=100\n",
      "[CV 4/5; 46/48] END criterion=mse, learning_rate=0.1, max_depth=9, n_estimators=100; total time=   1.9s\n",
      "[CV 5/5; 46/48] START criterion=mse, learning_rate=0.1, max_depth=9, n_estimators=100\n",
      "[CV 5/5; 46/48] END criterion=mse, learning_rate=0.1, max_depth=9, n_estimators=100; total time=   1.8s\n",
      "[CV 1/5; 47/48] START criterion=mse, learning_rate=0.1, max_depth=9, n_estimators=300\n",
      "[CV 1/5; 47/48] END criterion=mse, learning_rate=0.1, max_depth=9, n_estimators=300; total time=   6.1s\n",
      "[CV 2/5; 47/48] START criterion=mse, learning_rate=0.1, max_depth=9, n_estimators=300\n",
      "[CV 2/5; 47/48] END criterion=mse, learning_rate=0.1, max_depth=9, n_estimators=300; total time=   6.2s\n",
      "[CV 3/5; 47/48] START criterion=mse, learning_rate=0.1, max_depth=9, n_estimators=300\n",
      "[CV 3/5; 47/48] END criterion=mse, learning_rate=0.1, max_depth=9, n_estimators=300; total time=   6.2s\n",
      "[CV 4/5; 47/48] START criterion=mse, learning_rate=0.1, max_depth=9, n_estimators=300\n",
      "[CV 4/5; 47/48] END criterion=mse, learning_rate=0.1, max_depth=9, n_estimators=300; total time=   6.0s\n",
      "[CV 5/5; 47/48] START criterion=mse, learning_rate=0.1, max_depth=9, n_estimators=300\n",
      "[CV 5/5; 47/48] END criterion=mse, learning_rate=0.1, max_depth=9, n_estimators=300; total time=   6.1s\n",
      "[CV 1/5; 48/48] START criterion=mse, learning_rate=0.1, max_depth=9, n_estimators=500\n",
      "[CV 1/5; 48/48] END criterion=mse, learning_rate=0.1, max_depth=9, n_estimators=500; total time=  10.6s\n",
      "[CV 2/5; 48/48] START criterion=mse, learning_rate=0.1, max_depth=9, n_estimators=500\n",
      "[CV 2/5; 48/48] END criterion=mse, learning_rate=0.1, max_depth=9, n_estimators=500; total time=  10.7s\n",
      "[CV 3/5; 48/48] START criterion=mse, learning_rate=0.1, max_depth=9, n_estimators=500\n",
      "[CV 3/5; 48/48] END criterion=mse, learning_rate=0.1, max_depth=9, n_estimators=500; total time=  10.5s\n",
      "[CV 4/5; 48/48] START criterion=mse, learning_rate=0.1, max_depth=9, n_estimators=500\n",
      "[CV 4/5; 48/48] END criterion=mse, learning_rate=0.1, max_depth=9, n_estimators=500; total time=  10.5s\n",
      "[CV 5/5; 48/48] START criterion=mse, learning_rate=0.1, max_depth=9, n_estimators=500\n",
      "[CV 5/5; 48/48] END criterion=mse, learning_rate=0.1, max_depth=9, n_estimators=500; total time=  10.4s\n",
      "Best score: 0.7968196536873345\n"
     ]
    }
   ],
   "source": [
    "model.fit(X, y)\n",
    "print(f\"Best score: {model.best_score_}\")"
   ]
  },
  {
   "cell_type": "code",
   "execution_count": 133,
   "metadata": {},
   "outputs": [
    {
     "name": "stdout",
     "output_type": "stream",
     "text": [
      "Best parameters set:\n",
      "\tcriterion: friedman_mse\n",
      "\tlearning_rate: 0.1\n",
      "\tmax_depth: 3\n",
      "\tn_estimators: 100\n"
     ]
    }
   ],
   "source": [
    "print(\"Best parameters set:\")\n",
    "best_parameters = model.best_estimator_.get_params()\n",
    "\n",
    "for param_name in sorted(param_grid.keys()):\n",
    "    print(f\"\\t{param_name}: {best_parameters[param_name]}\")"
   ]
  },
  {
   "cell_type": "code",
   "execution_count": 134,
   "metadata": {},
   "outputs": [],
   "source": [
    "gb_clf = GradientBoostingClassifier(criterion= 'friedman_mse', learning_rate=0.05, max_depth=3, n_estimators=100)"
   ]
  },
  {
   "cell_type": "code",
   "execution_count": 135,
   "metadata": {},
   "outputs": [
    {
     "name": "stdout",
     "output_type": "stream",
     "text": [
      "Accuracy on all folds:  [0.7970191625266146, 0.8041163946061036, 0.7814052519517388, 0.7933238636363636, 0.7947443181818182]\n",
      "Mean accuracy:  0.7941217981805279\n"
     ]
    }
   ],
   "source": [
    "kf = KFold(n_splits=5)\n",
    "accuracy = []\n",
    "for train_index, test_index in kf.split(X, y):\n",
    "    X_train_fold, X_test_fold = X.loc[train_index], X.loc[test_index]\n",
    "    y_train_fold, y_test_fold = y.loc[train_index], y.loc[test_index]\n",
    "    gb_clf.fit(X_train_fold, y_train_fold)\n",
    "    accuracy.append(gb_clf.score(X_test_fold, y_test_fold))\n",
    "    \n",
    "print('Accuracy on all folds: ', accuracy)\n",
    "print('Mean accuracy: ', np.mean(accuracy))"
   ]
  },
  {
   "cell_type": "code",
   "execution_count": 136,
   "metadata": {},
   "outputs": [],
   "source": [
    "#print('Test set score: ', gb_clf.score(X_test, y_test))"
   ]
  },
  {
   "cell_type": "markdown",
   "metadata": {},
   "source": [
    "## Conclusion"
   ]
  },
  {
   "cell_type": "markdown",
   "metadata": {},
   "source": [
    "1. Data cleaning including missing values, outliers and multi-collinearity. Describe your predictive churn model. How did you select variables to be included in the model?"
   ]
  },
  {
   "cell_type": "markdown",
   "metadata": {},
   "source": [
    "As per the data analysis, there are no missing values in the dataset provided. As a matter of fact, there are no outliers as well.\n",
    "After plotting the correlation matrix, we find that the features MonthlyCharges and InternetService are highly correlated. Also TotalCharges and tenure are significantly correlated. Hence we drop the MonthlyCharges and TotalCharges features to overcome multi-colinearity."
   ]
  },
  {
   "cell_type": "markdown",
   "metadata": {},
   "source": [
    "2. Demonstrate the performance of the model."
   ]
  },
  {
   "cell_type": "markdown",
   "metadata": {},
   "source": [
    "Here we have tried linear models like Logistic regression and Support Vector Classifier. Also we have fitted non-linear models like Decision tree classifier, Random forest classifier and Gradient boosting Classifiers. The performance of the model is measured based on accuracy (i.e., (tp + tn)/(tp + fp + tn + fn)). We get the best accuracy of ~ 80%"
   ]
  },
  {
   "cell_type": "markdown",
   "metadata": {},
   "source": [
    "3. What are the key factors that predict customer churn? Do these factors make sense?"
   ]
  },
  {
   "cell_type": "markdown",
   "metadata": {},
   "source": [
    "Key factors that predict custoner churn are SeniorCitizen, Partner, Dependents, InternetService, OnlineSecurity, OnlineBackup, DeviceProtection, TechSupport, StreamingTV, Tenure, StreamingMovies, Contract, PaperlessBilling, PaymentMethod. These features are significant in predicting the customer churn."
   ]
  },
  {
   "cell_type": "markdown",
   "metadata": {},
   "source": [
    "4. What offers should be made to which customers to encourage them to remain with company?"
   ]
  },
  {
   "cell_type": "markdown",
   "metadata": {},
   "source": [
    "In the exploratory data analysis, we observe that the customer churn rate is significantly high for young, independent population with internet service.\n",
    "Hence, we can try to entice and retain this customer segments with offers such as random rewards, gift vouchers and student discounts. Also we can offer loyalty points proportional to the time period they remain with the company."
   ]
  },
  {
   "cell_type": "markdown",
   "metadata": {},
   "source": [
    "5. Assuming these actions were implemented, how would you determine whether they had worked?"
   ]
  },
  {
   "cell_type": "markdown",
   "metadata": {},
   "source": [
    "We can perform the churn analysis to understand if the churn rate have reduced or not. If they have, it gives us a hint that our actions have helped reduce the churn. However, this conclusion cannot be made with full confidence.\n",
    "To understand what factors have helped reduce the churn, we will have to perform some advanced statistical tests including 1 way anova, 2 way anove, chi-square tests, etc. to arrive at a conclusion which can be verified using hypothesis tests."
   ]
  }
 ],
 "metadata": {
  "kernelspec": {
   "display_name": "Python 3",
   "language": "python",
   "name": "python3"
  },
  "language_info": {
   "codemirror_mode": {
    "name": "ipython",
    "version": 3
   },
   "file_extension": ".py",
   "mimetype": "text/x-python",
   "name": "python",
   "nbconvert_exporter": "python",
   "pygments_lexer": "ipython3",
   "version": "3.8.3"
  }
 },
 "nbformat": 4,
 "nbformat_minor": 4
}
